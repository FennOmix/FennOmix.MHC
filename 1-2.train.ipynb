{
 "cells": [
  {
   "cell_type": "code",
   "metadata": {
    "ExecuteTime": {
     "end_time": "2024-08-05T01:58:00.778001Z",
     "start_time": "2024-08-05T01:58:00.775588Z"
    }
   },
   "source": [
    "load_model = None\n",
    "save_model = \"0805\""
   ],
   "outputs": [],
   "execution_count": 1
  },
  {
   "cell_type": "code",
   "metadata": {
    "ExecuteTime": {
     "end_time": "2024-08-05T01:58:08.324345Z",
     "start_time": "2024-08-05T01:58:01.941633Z"
    }
   },
   "source": [
    "from pdeep.mhc.mhc_binding_model import *\n",
    "from pdeep.mhc.mhc_utils import *"
   ],
   "outputs": [],
   "execution_count": 2
  },
  {
   "cell_type": "code",
   "metadata": {
    "ExecuteTime": {
     "end_time": "2024-08-05T01:58:09.163776Z",
     "start_time": "2024-08-05T01:58:09.160063Z"
    }
   },
   "source": "fasta_list = [\"uniprotkb_UP000005640_AND_reviewed_true_2024_03_01.fasta\"]",
   "outputs": [],
   "execution_count": 3
  },
  {
   "cell_type": "code",
   "metadata": {
    "ExecuteTime": {
     "end_time": "2024-08-05T01:58:09.996615Z",
     "start_time": "2024-08-05T01:58:09.887678Z"
    }
   },
   "source": [
    "pept_encoder = ModelSeqEncoder()\n",
    "hla_encoder = ModelHlaEncoder()"
   ],
   "outputs": [],
   "execution_count": 4
  },
  {
   "cell_type": "code",
   "metadata": {
    "ExecuteTime": {
     "end_time": "2024-08-05T01:58:11.640560Z",
     "start_time": "2024-08-05T01:58:11.246887Z"
    }
   },
   "source": [
    "import torchinfo\n",
    "\n",
    "torchinfo.summary(\n",
    "    pept_encoder, input_size=[(256, 14)], dtypes=[torch.long]\n",
    ")"
   ],
   "outputs": [
    {
     "data": {
      "text/plain": [
       "=========================================================================================================\n",
       "Layer (type:depth-idx)                                  Output Shape              Param #\n",
       "=========================================================================================================\n",
       "ModelSeqEncoder                                         [256, 480]                --\n",
       "├─Embedding: 1-1                                        [256, 14, 480]            61,440\n",
       "├─PositionalEncoding: 1-2                               [256, 14, 480]            --\n",
       "├─Hidden_HFace_Transformer: 1-3                         [256, 14, 480]            --\n",
       "│    └─BertEncoder: 2-1                                 [256, 14, 480]            --\n",
       "│    │    └─ModuleList: 3-1                             --                        11,084,160\n",
       "├─SeqAttentionSum: 1-4                                  [256, 480]                --\n",
       "│    └─Sequential: 2-2                                  [256, 14, 1]              --\n",
       "│    │    └─Linear: 3-2                                 [256, 14, 1]              480\n",
       "│    │    └─Softmax: 3-3                                [256, 14, 1]              --\n",
       "=========================================================================================================\n",
       "Total params: 11,146,080\n",
       "Trainable params: 11,146,080\n",
       "Non-trainable params: 0\n",
       "Total mult-adds (G): 2.85\n",
       "=========================================================================================================\n",
       "Input size (MB): 0.03\n",
       "Forward/backward pass size (MB): 619.34\n",
       "Params size (MB): 44.58\n",
       "Estimated Total Size (MB): 663.96\n",
       "========================================================================================================="
      ]
     },
     "execution_count": 5,
     "metadata": {},
     "output_type": "execute_result"
    }
   ],
   "execution_count": 5
  },
  {
   "cell_type": "code",
   "metadata": {
    "ExecuteTime": {
     "end_time": "2024-08-05T01:58:12.976751Z",
     "start_time": "2024-08-05T01:58:12.704886Z"
    }
   },
   "source": [
    "torchinfo.summary(\n",
    "    hla_encoder, input_size=[(256, 400, 480)], dtypes=[torch.float32]\n",
    ")"
   ],
   "outputs": [
    {
     "data": {
      "text/plain": [
       "=========================================================================================================\n",
       "Layer (type:depth-idx)                                  Output Shape              Param #\n",
       "=========================================================================================================\n",
       "ModelHlaEncoder                                         [256, 480]                --\n",
       "├─Hidden_HFace_Transformer: 1-1                         [256, 400, 480]           --\n",
       "│    └─BertEncoder: 2-1                                 [256, 400, 480]           --\n",
       "│    │    └─ModuleList: 3-1                             --                        2,771,040\n",
       "├─SeqAttentionSum: 1-2                                  [256, 480]                --\n",
       "│    └─Sequential: 2-2                                  [256, 400, 1]             --\n",
       "│    │    └─Linear: 3-2                                 [256, 400, 1]             480\n",
       "│    │    └─Softmax: 3-3                                [256, 400, 1]             --\n",
       "=========================================================================================================\n",
       "Total params: 2,771,520\n",
       "Trainable params: 2,771,520\n",
       "Non-trainable params: 0\n",
       "Total mult-adds (M): 709.51\n",
       "=========================================================================================================\n",
       "Input size (MB): 196.61\n",
       "Forward/backward pass size (MB): 4326.20\n",
       "Params size (MB): 11.09\n",
       "Estimated Total Size (MB): 4533.89\n",
       "========================================================================================================="
      ]
     },
     "execution_count": 6,
     "metadata": {},
     "output_type": "execute_result"
    }
   ],
   "execution_count": 6
  },
  {
   "cell_type": "code",
   "metadata": {},
   "source": [],
   "outputs": [],
   "execution_count": null
  },
  {
   "cell_type": "code",
   "metadata": {
    "ExecuteTime": {
     "end_time": "2024-08-05T01:58:19.257052Z",
     "start_time": "2024-08-05T01:58:19.089982Z"
    }
   },
   "source": [
    "import pandas as pd\n",
    "train_df = pd.read_table(\"all_alleles/train_data/leave_one_ABC_type/train_df.tsv\")\n",
    "train_df"
   ],
   "outputs": [
    {
     "data": {
      "text/plain": [
       "           sequence  allele\n",
       "0         ALNPYQYQY  A29_02\n",
       "1         QTSEKALLR  A34_02\n",
       "2       TPRSTVGVAVL  B07_06\n",
       "3          IYAKLFNW  A24_02\n",
       "4         FSIAGTVKR  A66_01\n",
       "...             ...     ...\n",
       "528419    QQGKIAASY  B15_01\n",
       "528420   TLVTSQATTL  A02_01\n",
       "528421    KRHFRRDSF  B27_05\n",
       "528422    VEKPQEFTI  B40_02\n",
       "528423   AYLPEWKENI  A24_02\n",
       "\n",
       "[528424 rows x 2 columns]"
      ],
      "text/html": [
       "<div>\n",
       "<style scoped>\n",
       "    .dataframe tbody tr th:only-of-type {\n",
       "        vertical-align: middle;\n",
       "    }\n",
       "\n",
       "    .dataframe tbody tr th {\n",
       "        vertical-align: top;\n",
       "    }\n",
       "\n",
       "    .dataframe thead th {\n",
       "        text-align: right;\n",
       "    }\n",
       "</style>\n",
       "<table border=\"1\" class=\"dataframe\">\n",
       "  <thead>\n",
       "    <tr style=\"text-align: right;\">\n",
       "      <th></th>\n",
       "      <th>sequence</th>\n",
       "      <th>allele</th>\n",
       "    </tr>\n",
       "  </thead>\n",
       "  <tbody>\n",
       "    <tr>\n",
       "      <th>0</th>\n",
       "      <td>ALNPYQYQY</td>\n",
       "      <td>A29_02</td>\n",
       "    </tr>\n",
       "    <tr>\n",
       "      <th>1</th>\n",
       "      <td>QTSEKALLR</td>\n",
       "      <td>A34_02</td>\n",
       "    </tr>\n",
       "    <tr>\n",
       "      <th>2</th>\n",
       "      <td>TPRSTVGVAVL</td>\n",
       "      <td>B07_06</td>\n",
       "    </tr>\n",
       "    <tr>\n",
       "      <th>3</th>\n",
       "      <td>IYAKLFNW</td>\n",
       "      <td>A24_02</td>\n",
       "    </tr>\n",
       "    <tr>\n",
       "      <th>4</th>\n",
       "      <td>FSIAGTVKR</td>\n",
       "      <td>A66_01</td>\n",
       "    </tr>\n",
       "    <tr>\n",
       "      <th>...</th>\n",
       "      <td>...</td>\n",
       "      <td>...</td>\n",
       "    </tr>\n",
       "    <tr>\n",
       "      <th>528419</th>\n",
       "      <td>QQGKIAASY</td>\n",
       "      <td>B15_01</td>\n",
       "    </tr>\n",
       "    <tr>\n",
       "      <th>528420</th>\n",
       "      <td>TLVTSQATTL</td>\n",
       "      <td>A02_01</td>\n",
       "    </tr>\n",
       "    <tr>\n",
       "      <th>528421</th>\n",
       "      <td>KRHFRRDSF</td>\n",
       "      <td>B27_05</td>\n",
       "    </tr>\n",
       "    <tr>\n",
       "      <th>528422</th>\n",
       "      <td>VEKPQEFTI</td>\n",
       "      <td>B40_02</td>\n",
       "    </tr>\n",
       "    <tr>\n",
       "      <th>528423</th>\n",
       "      <td>AYLPEWKENI</td>\n",
       "      <td>A24_02</td>\n",
       "    </tr>\n",
       "  </tbody>\n",
       "</table>\n",
       "<p>528424 rows × 2 columns</p>\n",
       "</div>"
      ]
     },
     "execution_count": 7,
     "metadata": {},
     "output_type": "execute_result"
    }
   ],
   "execution_count": 7
  },
  {
   "cell_type": "code",
   "metadata": {
    "ExecuteTime": {
     "end_time": "2024-08-05T01:58:47.961742Z",
     "start_time": "2024-08-05T01:58:20.908570Z"
    }
   },
   "source": [
    "hla_df, hla_esm_list = load_esm_pkl()\n",
    "hla_df"
   ],
   "outputs": [
    {
     "data": {
      "text/plain": [
       "                                                sequence   allele  \\\n",
       "0      AHSMRYFYTAVSRPGRGEPHFIAVGYVDDTQFVRFDSDAASPRGEP...  C03_159   \n",
       "1      ALALTETWAGSHSMRYFYTAMSRPGRGEPRFIAVGYVDDTQFVRFD...  B15_128   \n",
       "2      ALALTETWAGSHSMRYFYTSVSRPGRGEPRFISVGYVDDTQFVRFD...   B14_12   \n",
       "3      APRTLLLLLSGALALTQTWAGSHSMRYFYTSVSRPGRGEPRFIAVG...   A03_12   \n",
       "4      APRTLVLLLSGALALTQTWAGSHSMRYFSTSVSRPGRGEPRFIAVG...   A24_79   \n",
       "...                                                  ...      ...   \n",
       "16449  TLLLLLSGALALTQTWAGSHSMRYFSTSVSRPGRGEPRFIAVGYVD...   A24_26   \n",
       "16450  TLVLLLSGALALTQTWAGSHSMRYFFTSVSRPGRGEPRFIAVGYVD...   A02_01   \n",
       "16451  VTAPRTLLLLLWGAVALTETWAGSHSMRYFYTAMSRPGRGEPRFIT...   B44_43   \n",
       "16452  VTAPRTVLLLLSGALALTETWAGSHSMRYFYTAMSRPGRGEPRFIA...   B15_57   \n",
       "16453  YHSMRYFDTAVSRPGRGEPRFISVGYVDDTQFVRFDSDAASPRGEP...  C07_221   \n",
       "\n",
       "      allele_detail  \n",
       "0          C*03:159  \n",
       "1          B*15:128  \n",
       "2           B*14:12  \n",
       "3           A*03:12  \n",
       "4           A*24:79  \n",
       "...             ...  \n",
       "16449       A*24:26  \n",
       "16450    A*02:01:03  \n",
       "16451    B*44:43:01  \n",
       "16452       B*15:57  \n",
       "16453      C*07:221  \n",
       "\n",
       "[16454 rows x 3 columns]"
      ],
      "text/html": [
       "<div>\n",
       "<style scoped>\n",
       "    .dataframe tbody tr th:only-of-type {\n",
       "        vertical-align: middle;\n",
       "    }\n",
       "\n",
       "    .dataframe tbody tr th {\n",
       "        vertical-align: top;\n",
       "    }\n",
       "\n",
       "    .dataframe thead th {\n",
       "        text-align: right;\n",
       "    }\n",
       "</style>\n",
       "<table border=\"1\" class=\"dataframe\">\n",
       "  <thead>\n",
       "    <tr style=\"text-align: right;\">\n",
       "      <th></th>\n",
       "      <th>sequence</th>\n",
       "      <th>allele</th>\n",
       "      <th>allele_detail</th>\n",
       "    </tr>\n",
       "  </thead>\n",
       "  <tbody>\n",
       "    <tr>\n",
       "      <th>0</th>\n",
       "      <td>AHSMRYFYTAVSRPGRGEPHFIAVGYVDDTQFVRFDSDAASPRGEP...</td>\n",
       "      <td>C03_159</td>\n",
       "      <td>C*03:159</td>\n",
       "    </tr>\n",
       "    <tr>\n",
       "      <th>1</th>\n",
       "      <td>ALALTETWAGSHSMRYFYTAMSRPGRGEPRFIAVGYVDDTQFVRFD...</td>\n",
       "      <td>B15_128</td>\n",
       "      <td>B*15:128</td>\n",
       "    </tr>\n",
       "    <tr>\n",
       "      <th>2</th>\n",
       "      <td>ALALTETWAGSHSMRYFYTSVSRPGRGEPRFISVGYVDDTQFVRFD...</td>\n",
       "      <td>B14_12</td>\n",
       "      <td>B*14:12</td>\n",
       "    </tr>\n",
       "    <tr>\n",
       "      <th>3</th>\n",
       "      <td>APRTLLLLLSGALALTQTWAGSHSMRYFYTSVSRPGRGEPRFIAVG...</td>\n",
       "      <td>A03_12</td>\n",
       "      <td>A*03:12</td>\n",
       "    </tr>\n",
       "    <tr>\n",
       "      <th>4</th>\n",
       "      <td>APRTLVLLLSGALALTQTWAGSHSMRYFSTSVSRPGRGEPRFIAVG...</td>\n",
       "      <td>A24_79</td>\n",
       "      <td>A*24:79</td>\n",
       "    </tr>\n",
       "    <tr>\n",
       "      <th>...</th>\n",
       "      <td>...</td>\n",
       "      <td>...</td>\n",
       "      <td>...</td>\n",
       "    </tr>\n",
       "    <tr>\n",
       "      <th>16449</th>\n",
       "      <td>TLLLLLSGALALTQTWAGSHSMRYFSTSVSRPGRGEPRFIAVGYVD...</td>\n",
       "      <td>A24_26</td>\n",
       "      <td>A*24:26</td>\n",
       "    </tr>\n",
       "    <tr>\n",
       "      <th>16450</th>\n",
       "      <td>TLVLLLSGALALTQTWAGSHSMRYFFTSVSRPGRGEPRFIAVGYVD...</td>\n",
       "      <td>A02_01</td>\n",
       "      <td>A*02:01:03</td>\n",
       "    </tr>\n",
       "    <tr>\n",
       "      <th>16451</th>\n",
       "      <td>VTAPRTLLLLLWGAVALTETWAGSHSMRYFYTAMSRPGRGEPRFIT...</td>\n",
       "      <td>B44_43</td>\n",
       "      <td>B*44:43:01</td>\n",
       "    </tr>\n",
       "    <tr>\n",
       "      <th>16452</th>\n",
       "      <td>VTAPRTVLLLLSGALALTETWAGSHSMRYFYTAMSRPGRGEPRFIA...</td>\n",
       "      <td>B15_57</td>\n",
       "      <td>B*15:57</td>\n",
       "    </tr>\n",
       "    <tr>\n",
       "      <th>16453</th>\n",
       "      <td>YHSMRYFDTAVSRPGRGEPRFISVGYVDDTQFVRFDSDAASPRGEP...</td>\n",
       "      <td>C07_221</td>\n",
       "      <td>C*07:221</td>\n",
       "    </tr>\n",
       "  </tbody>\n",
       "</table>\n",
       "<p>16454 rows × 3 columns</p>\n",
       "</div>"
      ]
     },
     "execution_count": 8,
     "metadata": {},
     "output_type": "execute_result"
    }
   ],
   "execution_count": 8
  },
  {
   "cell_type": "code",
   "metadata": {
    "ExecuteTime": {
     "end_time": "2024-08-05T01:59:02.308246Z",
     "start_time": "2024-08-05T01:58:54.203279Z"
    }
   },
   "source": [
    "dataset = HlaDataSet(\n",
    "    hla_df, hla_esm_list, train_df, fasta_list\n",
    ")"
   ],
   "outputs": [],
   "execution_count": 9
  },
  {
   "cell_type": "code",
   "metadata": {
    "ExecuteTime": {
     "end_time": "2024-08-05T05:05:13.625055Z",
     "start_time": "2024-08-05T04:09:32.929463Z"
    }
   },
   "source": [
    "train(\n",
    "    hla_encoder, pept_encoder, \n",
    "    dataset, \n",
    "    epoch=10, warmup_epoch=5,\n",
    "    batch_size=200, lr=1e-4,\n",
    "    verbose=True, device=\"cuda\"\n",
    ")"
   ],
   "outputs": [
    {
     "name": "stdout",
     "output_type": "stream",
     "text": [
      "2024-08-05 12:09:32> 298801 training samples\n",
      "2024-08-05 12:15:06> [Epoch=0] loss=0.02818, lr=2.000e-05\n",
      "2024-08-05 12:20:40> [Epoch=1] loss=0.02651, lr=4.000e-05\n",
      "2024-08-05 12:26:14> [Epoch=2] loss=0.02650, lr=6.000e-05\n",
      "2024-08-05 12:31:48> [Epoch=3] loss=0.02686, lr=8.000e-05\n",
      "2024-08-05 12:37:22> [Epoch=4] loss=0.02710, lr=1.000e-04\n",
      "2024-08-05 12:42:56> [Epoch=5] loss=0.02733, lr=9.045e-05\n",
      "2024-08-05 12:48:31> [Epoch=6] loss=0.02692, lr=6.545e-05\n",
      "2024-08-05 12:54:05> [Epoch=7] loss=0.02598, lr=3.455e-05\n",
      "2024-08-05 12:59:39> [Epoch=8] loss=0.02530, lr=9.549e-06\n",
      "2024-08-05 13:05:13> [Epoch=9] loss=0.02463, lr=0.000e+00\n"
     ]
    }
   ],
   "execution_count": 11
  },
  {
   "cell_type": "code",
   "metadata": {
    "ExecuteTime": {
     "end_time": "2024-08-05T05:11:17.702611Z",
     "start_time": "2024-08-05T05:11:17.583867Z"
    }
   },
   "source": [
    "torch.save(hla_encoder.state_dict(), f\"model/HLA_model_v{save_model}.pt\")\n",
    "torch.save(pept_encoder.state_dict(), f\"model/pept_model_v{save_model}.pt\")"
   ],
   "outputs": [],
   "execution_count": 12
  },
  {
   "cell_type": "code",
   "metadata": {},
   "source": [],
   "outputs": [],
   "execution_count": null
  }
 ],
 "metadata": {
  "kernelspec": {
   "display_name": "Python 3 (ipykernel)",
   "language": "python",
   "name": "python3"
  },
  "language_info": {
   "codemirror_mode": {
    "name": "ipython",
    "version": 3
   },
   "file_extension": ".py",
   "mimetype": "text/x-python",
   "name": "python",
   "nbconvert_exporter": "python",
   "pygments_lexer": "ipython3",
   "version": "3.10.8"
  }
 },
 "nbformat": 4,
 "nbformat_minor": 4
}

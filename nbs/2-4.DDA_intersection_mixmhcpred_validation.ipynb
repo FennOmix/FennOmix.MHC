{
 "cells": [
  {
   "metadata": {
    "ExecuteTime": {
     "end_time": "2024-11-04T14:26:57.978626Z",
     "start_time": "2024-11-04T14:26:57.973236Z"
    }
   },
   "cell_type": "code",
   "source": [
    "patient = \"03421\"\n",
    "base_dir = \"data/PXD034772/DDA\"\n",
    "sample = [\n",
    "    \"03421-02\",\n",
    "    \"03421-03\",\n",
    "    \"03421-05\",\n",
    "    \"03421-06\",\n",
    "    \"03421-07\",\n",
    "    \"03421-08\",\n",
    "    \"03421-10\",\n",
    "]"
   ],
   "id": "initial_id",
   "outputs": [],
   "execution_count": 1
  },
  {
   "metadata": {
    "ExecuteTime": {
     "end_time": "2024-11-04T14:27:02.128477Z",
     "start_time": "2024-11-04T14:27:02.044320Z"
    }
   },
   "cell_type": "code",
   "source": [
    "import numpy as np\n",
    "\n",
    "def get_unique_pep_num_from_pfind_result(fname, min_pep_length=8, max_pep_length=14):\n",
    "    df = pd.read_table(fname)\n",
    "    unique_pep_pfind = df[\"Sequence\"].tolist()\n",
    "    unique_pep_pfind = np.unique(unique_pep_pfind)\n",
    "    unique_pep_pfind = [element for element in unique_pep_pfind if ((len(element)>=min_pep_length) & (len(element)<=max_pep_length))]\n",
    "    return unique_pep_pfind"
   ],
   "id": "a324190772187c9",
   "outputs": [],
   "execution_count": 2
  },
  {
   "metadata": {
    "ExecuteTime": {
     "end_time": "2024-11-04T14:27:06.689050Z",
     "start_time": "2024-11-04T14:27:03.546002Z"
    }
   },
   "cell_type": "code",
   "source": [
    "import pandas as pd\n",
    "unique_pep_pfind_whole_db = []\n",
    "for i in range(len(sample)):\n",
    "    file = f\"{base_dir}/{patient}/{sample[i]}/result/pFind-Filtered.spectra\"\n",
    "    df = pd.read_table(file)\n",
    "    unique_pep_pfind_whole_db += get_unique_pep_num_from_pfind_result(file)\n",
    "    \n",
    "unique_pep_pfind_whole_db = np.unique(unique_pep_pfind_whole_db)\n",
    "len(unique_pep_pfind_whole_db)"
   ],
   "id": "20b0012fb563f21b",
   "outputs": [
    {
     "data": {
      "text/plain": [
       "24079"
      ]
     },
     "execution_count": 3,
     "metadata": {},
     "output_type": "execute_result"
    }
   ],
   "execution_count": 3
  },
  {
   "metadata": {
    "ExecuteTime": {
     "end_time": "2024-11-04T14:27:09.085653Z",
     "start_time": "2024-11-04T14:27:07.933207Z"
    }
   },
   "cell_type": "code",
   "source": [
    "unique_pep_pfind_reduced_db = []\n",
    "for i in range(len(sample)):\n",
    "    file = f\"{base_dir}/{patient}/{sample[i]}-0819/result/pFind-Filtered.spectra\"\n",
    "    df = pd.read_table(file)\n",
    "    unique_pep_pfind_reduced_db += get_unique_pep_num_from_pfind_result(file)\n",
    "\n",
    "unique_pep_pfind_reduced_db = np.unique(unique_pep_pfind_reduced_db)\n",
    "len(unique_pep_pfind_reduced_db)"
   ],
   "id": "426ecb5bb46e1bb",
   "outputs": [
    {
     "data": {
      "text/plain": [
       "28042"
      ]
     },
     "execution_count": 4,
     "metadata": {},
     "output_type": "execute_result"
    }
   ],
   "execution_count": 4
  },
  {
   "metadata": {
    "ExecuteTime": {
     "end_time": "2024-11-04T14:27:09.712936Z",
     "start_time": "2024-11-04T14:27:09.690193Z"
    }
   },
   "cell_type": "code",
   "source": [
    "intersection = set(unique_pep_pfind_whole_db).intersection(set(unique_pep_pfind_reduced_db))\n",
    "intersection = list(intersection)\n",
    "len(intersection)"
   ],
   "id": "45cb52b912fa8a0b",
   "outputs": [
    {
     "data": {
      "text/plain": [
       "19594"
      ]
     },
     "execution_count": 5,
     "metadata": {},
     "output_type": "execute_result"
    }
   ],
   "execution_count": 5
  },
  {
   "metadata": {
    "ExecuteTime": {
     "end_time": "2024-11-04T14:27:11.872278Z",
     "start_time": "2024-11-04T14:27:11.860536Z"
    }
   },
   "cell_type": "code",
   "source": [
    "with open(f\"{base_dir}/{patient}/intersection.txt\", \"w\") as f:\n",
    "    for i in range(len(intersection)):\n",
    "        f.write(f\"{intersection[i]}\\n\")"
   ],
   "id": "da30914dee6cec43",
   "outputs": [],
   "execution_count": 6
  },
  {
   "metadata": {
    "ExecuteTime": {
     "end_time": "2024-11-04T14:27:12.515151Z",
     "start_time": "2024-11-04T14:27:12.493532Z"
    }
   },
   "cell_type": "code",
   "source": [
    "difference_list1 = set(unique_pep_pfind_whole_db).difference(set(unique_pep_pfind_reduced_db))\n",
    "difference_list1 = list(difference_list1)\n",
    "len(difference_list1)\n",
    "with open(f\"{base_dir}/{patient}/whole_db_unique.txt\", \"w\") as f:\n",
    "    for i in range(len(difference_list1)):\n",
    "        f.write(f\"{difference_list1[i]}\\n\")"
   ],
   "id": "ce0e4f79de1f871e",
   "outputs": [],
   "execution_count": 7
  },
  {
   "metadata": {
    "ExecuteTime": {
     "end_time": "2024-11-04T14:27:13.322403Z",
     "start_time": "2024-11-04T14:27:13.297994Z"
    }
   },
   "cell_type": "code",
   "source": [
    "difference_list2 = set(unique_pep_pfind_reduced_db).difference(set(unique_pep_pfind_whole_db))\n",
    "difference_list2 = list(difference_list2)\n",
    "len(difference_list2)\n",
    "with open(f\"{base_dir}/{patient}/reduced_db_unique.txt\", \"w\") as f:\n",
    "    for i in range(len(difference_list2)):\n",
    "        f.write(f\"{difference_list2[i]}\\n\")"
   ],
   "id": "771912a838df0093",
   "outputs": [],
   "execution_count": 8
  },
  {
   "metadata": {},
   "cell_type": "code",
   "outputs": [],
   "execution_count": null,
   "source": [
    "# ./MixMHCpred -i ../../../test_cjt/data/PXD034772/DDA/03421/intersection.txt -o ../../../test_cjt/data/PXD034772/DDA/03421/intersection_out.txt -a A0101,A0201,B0801,C0202,C0701\n",
    "# ./MixMHCpred -i ../../../test_cjt/data/PXD034772/DDA/03421/whole_db_unique.txt -o ../../../test_cjt/data/PXD034772/DDA/03421/whole_db_unique_out.txt -a A0101,A0201,B0801,C0202,C0701\n",
    "# ./MixMHCpred -i ../../../test_cjt/data/PXD034772/DDA/03421/reduced_db_unique.txt -o ../../../test_cjt/data/PXD034772/DDA/03421/reduced_db_unique_out.txt -a A0101,A0201,B0801,C0202,C0701"
   ],
   "id": "840df4f25b7dda6"
  },
  {
   "metadata": {
    "ExecuteTime": {
     "end_time": "2024-11-04T14:27:19.759865Z",
     "start_time": "2024-11-04T14:27:19.743092Z"
    }
   },
   "cell_type": "code",
   "source": [
    "df1 = pd.read_table(f\"{base_dir}/{patient}/reduced_db_unique_out.txt\", skiprows=11)\n",
    "ratio1 = df1[df1[\"%Rank_bestAllele\"] <= 2].shape[0] / df1.shape[0]"
   ],
   "id": "65530090f51816ef",
   "outputs": [],
   "execution_count": 9
  },
  {
   "metadata": {
    "ExecuteTime": {
     "end_time": "2024-11-04T14:27:20.388314Z",
     "start_time": "2024-11-04T14:27:20.377247Z"
    }
   },
   "cell_type": "code",
   "source": [
    "df2 = pd.read_table(f\"{base_dir}/{patient}/whole_db_unique_out.txt\", skiprows=11)\n",
    "ratio2 = df2[df2[\"%Rank_bestAllele\"] <= 2].shape[0] / df2.shape[0]"
   ],
   "id": "6281205cb4e97143",
   "outputs": [],
   "execution_count": 10
  },
  {
   "metadata": {
    "ExecuteTime": {
     "end_time": "2024-11-04T14:27:21.001269Z",
     "start_time": "2024-11-04T14:27:20.972415Z"
    }
   },
   "cell_type": "code",
   "source": [
    "df3 = pd.read_table(f\"{base_dir}/{patient}/intersection_out.txt\", skiprows=11)\n",
    "ratio3 = df3[df3[\"%Rank_bestAllele\"] <= 2].shape[0] / df3.shape[0]"
   ],
   "id": "999b399d26dd93a2",
   "outputs": [],
   "execution_count": 11
  },
  {
   "metadata": {
    "ExecuteTime": {
     "end_time": "2024-11-04T14:27:22.509463Z",
     "start_time": "2024-11-04T14:27:21.778539Z"
    }
   },
   "cell_type": "code",
   "source": [
    "import matplotlib.pyplot as plt\n",
    "from matplotlib_venn import venn2\n",
    "import numpy as np\n",
    "\n",
    "plt.rcParams['font.family'] = 'Arial'\n",
    "# 使用venn2函数绘制韦恩图\n",
    "v = venn2(subsets=(set(unique_pep_pfind_whole_db), set(unique_pep_pfind_reduced_db)), set_labels=('pFind+whole_DB', 'pFind+reduced_DB'))\n",
    "\n",
    "plt.annotate(f'{ratio3*100:.0f}% Rank <= 2%', xy=v.get_label_by_id('11').get_position() - np.array([0, 0.05]), xytext=(0,-40),\n",
    "             ha='center', textcoords='offset points', bbox=dict(boxstyle='round,pad=0.5', fc='gray', alpha=0.1),\n",
    "             arrowprops=dict(arrowstyle='->', connectionstyle='angle',color='gray'))\n",
    "plt.annotate(f'{ratio2*100:.0f}% Rank <= 2%', xy=v.get_label_by_id('10').get_position() - np.array([0, 0.05]), xytext=(-70,-40),\n",
    "             ha='center', textcoords='offset points', bbox=dict(boxstyle='round,pad=0.5', fc='gray', alpha=0.1),\n",
    "             arrowprops=dict(arrowstyle='->', connectionstyle='arc3,rad=0.5',color='gray'))\n",
    "plt.annotate(f'{ratio1*100:.0f}% Rank <= 2%', xy=v.get_label_by_id('01').get_position() - np.array([0, 0.05]), xytext=(60,-40),\n",
    "             ha='center', textcoords='offset points', bbox=dict(boxstyle='round,pad=0.5', fc='gray', alpha=0.1),\n",
    "             arrowprops=dict(arrowstyle='->', connectionstyle='arc3,rad=-0.5',color='gray'))\n",
    "# 添加标题和显示图形\n",
    "plt.title(f\"Patient {patient} DDA identified peptides\")\n",
    "plt.savefig(f\"{base_dir}/{patient}/Patient{patient}.svg\", dpi=300)"
   ],
   "id": "a9f8cd66677b503f",
   "outputs": [
    {
     "data": {
      "text/plain": [
       "<Figure size 640x480 with 1 Axes>"
      ],
      "image/png": "[encoded data removed]"
     },
     "metadata": {},
     "output_type": "display_data"
    }
   ],
   "execution_count": 12
  },
  {
   "metadata": {},
   "cell_type": "code",
   "outputs": [],
   "execution_count": null,
   "source": "",
   "id": "9c7c3d8e73126e11"
  }
 ],
 "metadata": {
  "kernelspec": {
   "display_name": "Python 3",
   "language": "python",
   "name": "python3"
  },
  "language_info": {
   "codemirror_mode": {
    "name": "ipython",
    "version": 2
   },
   "file_extension": ".py",
   "mimetype": "text/x-python",
   "name": "python",
   "nbconvert_exporter": "python",
   "pygments_lexer": "ipython2",
   "version": "2.7.6"
  }
 },
 "nbformat": 4,
 "nbformat_minor": 5
}

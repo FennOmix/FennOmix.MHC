{
 "cells": [
  {
   "cell_type": "code",
   "execution_count": 1,
   "metadata": {
    "ExecuteTime": {
     "end_time": "2024-08-05T05:24:54.317972Z",
     "start_time": "2024-08-05T05:24:47.889856Z"
    }
   },
   "outputs": [],
   "source": [
    "from fennet.mhc.mhc_binding_model import ModelHlaEncoder, ModelSeqEncoder\n",
    "\n",
    "model_version = \"v0613\""
   ]
  },
  {
   "cell_type": "code",
   "execution_count": 2,
   "metadata": {
    "ExecuteTime": {
     "end_time": "2024-08-05T05:24:56.440580Z",
     "start_time": "2024-08-05T05:24:56.200779Z"
    }
   },
   "outputs": [],
   "source": [
    "hla_encoder = ModelHlaEncoder().to(\"cuda\")\n",
    "pept_encoder = ModelSeqEncoder().to(\"cuda\")"
   ]
  },
  {
   "cell_type": "code",
   "execution_count": 3,
   "metadata": {
    "ExecuteTime": {
     "end_time": "2024-08-05T05:24:57.336486Z",
     "start_time": "2024-08-05T05:24:57.278153Z"
    }
   },
   "outputs": [
    {
     "data": {
      "text/plain": [
       "<All keys matched successfully>"
      ]
     },
     "execution_count": 3,
     "metadata": {},
     "output_type": "execute_result"
    }
   ],
   "source": [
    "import torch\n",
    "\n",
    "hla_encoder.load_state_dict(\n",
    "    torch.load(f\"model/HLA_model_{model_version}.pt\", map_location=\"cuda\")\n",
    ")\n",
    "\n",
    "pept_encoder.load_state_dict(\n",
    "    torch.load(f\"model/pept_model_{model_version}.pt\", map_location=\"cuda\")\n",
    ")"
   ]
  },
  {
   "cell_type": "code",
   "execution_count": 4,
   "metadata": {
    "ExecuteTime": {
     "end_time": "2024-08-05T05:25:02.831129Z",
     "start_time": "2024-08-05T05:24:58.333425Z"
    }
   },
   "outputs": [
    {
     "data": {
      "text/html": [
       "<div>\n",
       "<style scoped>\n",
       "    .dataframe tbody tr th:only-of-type {\n",
       "        vertical-align: middle;\n",
       "    }\n",
       "\n",
       "    .dataframe tbody tr th {\n",
       "        vertical-align: top;\n",
       "    }\n",
       "\n",
       "    .dataframe thead th {\n",
       "        text-align: right;\n",
       "    }\n",
       "</style>\n",
       "<table border=\"1\" class=\"dataframe\">\n",
       "  <thead>\n",
       "    <tr style=\"text-align: right;\">\n",
       "      <th></th>\n",
       "      <th>sequence</th>\n",
       "      <th>allele</th>\n",
       "      <th>allele_detail</th>\n",
       "    </tr>\n",
       "  </thead>\n",
       "  <tbody>\n",
       "    <tr>\n",
       "      <th>0</th>\n",
       "      <td>AHSMRYFYTAVSRPGRGEPHFIAVGYVDDTQFVRFDSDAASPRGEP...</td>\n",
       "      <td>C03_159</td>\n",
       "      <td>C*03:159</td>\n",
       "    </tr>\n",
       "    <tr>\n",
       "      <th>1</th>\n",
       "      <td>ALALTETWAGSHSMRYFYTAMSRPGRGEPRFIAVGYVDDTQFVRFD...</td>\n",
       "      <td>B15_128</td>\n",
       "      <td>B*15:128</td>\n",
       "    </tr>\n",
       "    <tr>\n",
       "      <th>2</th>\n",
       "      <td>ALALTETWAGSHSMRYFYTSVSRPGRGEPRFISVGYVDDTQFVRFD...</td>\n",
       "      <td>B14_12</td>\n",
       "      <td>B*14:12</td>\n",
       "    </tr>\n",
       "    <tr>\n",
       "      <th>3</th>\n",
       "      <td>APRTLLLLLSGALALTQTWAGSHSMRYFYTSVSRPGRGEPRFIAVG...</td>\n",
       "      <td>A03_12</td>\n",
       "      <td>A*03:12</td>\n",
       "    </tr>\n",
       "    <tr>\n",
       "      <th>4</th>\n",
       "      <td>APRTLVLLLSGALALTQTWAGSHSMRYFSTSVSRPGRGEPRFIAVG...</td>\n",
       "      <td>A24_79</td>\n",
       "      <td>A*24:79</td>\n",
       "    </tr>\n",
       "    <tr>\n",
       "      <th>...</th>\n",
       "      <td>...</td>\n",
       "      <td>...</td>\n",
       "      <td>...</td>\n",
       "    </tr>\n",
       "    <tr>\n",
       "      <th>16449</th>\n",
       "      <td>TLLLLLSGALALTQTWAGSHSMRYFSTSVSRPGRGEPRFIAVGYVD...</td>\n",
       "      <td>A24_26</td>\n",
       "      <td>A*24:26</td>\n",
       "    </tr>\n",
       "    <tr>\n",
       "      <th>16450</th>\n",
       "      <td>TLVLLLSGALALTQTWAGSHSMRYFFTSVSRPGRGEPRFIAVGYVD...</td>\n",
       "      <td>A02_01</td>\n",
       "      <td>A*02:01:03</td>\n",
       "    </tr>\n",
       "    <tr>\n",
       "      <th>16451</th>\n",
       "      <td>VTAPRTLLLLLWGAVALTETWAGSHSMRYFYTAMSRPGRGEPRFIT...</td>\n",
       "      <td>B44_43</td>\n",
       "      <td>B*44:43:01</td>\n",
       "    </tr>\n",
       "    <tr>\n",
       "      <th>16452</th>\n",
       "      <td>VTAPRTVLLLLSGALALTETWAGSHSMRYFYTAMSRPGRGEPRFIA...</td>\n",
       "      <td>B15_57</td>\n",
       "      <td>B*15:57</td>\n",
       "    </tr>\n",
       "    <tr>\n",
       "      <th>16453</th>\n",
       "      <td>YHSMRYFDTAVSRPGRGEPRFISVGYVDDTQFVRFDSDAASPRGEP...</td>\n",
       "      <td>C07_221</td>\n",
       "      <td>C*07:221</td>\n",
       "    </tr>\n",
       "  </tbody>\n",
       "</table>\n",
       "<p>16454 rows × 3 columns</p>\n",
       "</div>"
      ],
      "text/plain": [
       "                                                sequence   allele  \\\n",
       "0      AHSMRYFYTAVSRPGRGEPHFIAVGYVDDTQFVRFDSDAASPRGEP...  C03_159   \n",
       "1      ALALTETWAGSHSMRYFYTAMSRPGRGEPRFIAVGYVDDTQFVRFD...  B15_128   \n",
       "2      ALALTETWAGSHSMRYFYTSVSRPGRGEPRFISVGYVDDTQFVRFD...   B14_12   \n",
       "3      APRTLLLLLSGALALTQTWAGSHSMRYFYTSVSRPGRGEPRFIAVG...   A03_12   \n",
       "4      APRTLVLLLSGALALTQTWAGSHSMRYFSTSVSRPGRGEPRFIAVG...   A24_79   \n",
       "...                                                  ...      ...   \n",
       "16449  TLLLLLSGALALTQTWAGSHSMRYFSTSVSRPGRGEPRFIAVGYVD...   A24_26   \n",
       "16450  TLVLLLSGALALTQTWAGSHSMRYFFTSVSRPGRGEPRFIAVGYVD...   A02_01   \n",
       "16451  VTAPRTLLLLLWGAVALTETWAGSHSMRYFYTAMSRPGRGEPRFIT...   B44_43   \n",
       "16452  VTAPRTVLLLLSGALALTETWAGSHSMRYFYTAMSRPGRGEPRFIA...   B15_57   \n",
       "16453  YHSMRYFDTAVSRPGRGEPRFISVGYVDDTQFVRFDSDAASPRGEP...  C07_221   \n",
       "\n",
       "      allele_detail  \n",
       "0          C*03:159  \n",
       "1          B*15:128  \n",
       "2           B*14:12  \n",
       "3           A*03:12  \n",
       "4           A*24:79  \n",
       "...             ...  \n",
       "16449       A*24:26  \n",
       "16450    A*02:01:03  \n",
       "16451    B*44:43:01  \n",
       "16452       B*15:57  \n",
       "16453      C*07:221  \n",
       "\n",
       "[16454 rows x 3 columns]"
      ]
     },
     "execution_count": 4,
     "metadata": {},
     "output_type": "execute_result"
    }
   ],
   "source": [
    "from fennet.mhc.mhc_utils import load_esm_pkl\n",
    "\n",
    "hla_df, hla_esm_list = load_esm_pkl()\n",
    "hla_df"
   ]
  },
  {
   "cell_type": "code",
   "execution_count": 5,
   "metadata": {
    "ExecuteTime": {
     "end_time": "2024-08-05T05:25:15.782593Z",
     "start_time": "2024-08-05T05:25:05.213950Z"
    }
   },
   "outputs": [],
   "source": [
    "from fennet.mhc.mhc_binding_model import embed_hla_esm_list\n",
    "\n",
    "hla_embeds = embed_hla_esm_list(hla_encoder, hla_esm_list)"
   ]
  },
  {
   "cell_type": "code",
   "execution_count": 6,
   "metadata": {
    "ExecuteTime": {
     "end_time": "2024-08-05T05:25:21.261690Z",
     "start_time": "2024-08-05T05:25:16.636057Z"
    }
   },
   "outputs": [],
   "source": [
    "from fennet.mhc.mhc_binding_retriever import MHCBindingRetriever\n",
    "\n",
    "fasta_list = [\"uniprotkb_UP000005640_AND_reviewed_true_2024_03_01.fasta\"]\n",
    "retriever = MHCBindingRetriever(\n",
    "    hla_encoder, pept_encoder, hla_df, hla_embeds, fasta_list\n",
    ")"
   ]
  },
  {
   "cell_type": "code",
   "execution_count": 10,
   "metadata": {
    "ExecuteTime": {
     "end_time": "2024-08-05T05:26:18.549665Z",
     "start_time": "2024-08-05T05:26:07.225466Z"
    }
   },
   "outputs": [],
   "source": [
    "import numpy as np\n",
    "from fennet.mhc.mhc_binding_model import embed_peptides\n",
    "from fennet.mhc.plotting_utils import fit_hla_umap_reducer\n",
    "\n",
    "np.random.seed(1337)\n",
    "rnd_df = retriever.dataset.digest.get_random_pept_df(10000)\n",
    "rnd_embeds = embed_peptides(pept_encoder, rnd_df.sequence.values.astype(\"U\"))\n",
    "umap_reducer = fit_hla_umap_reducer(np.concatenate((hla_embeds, rnd_embeds), axis=0))"
   ]
  },
  {
   "cell_type": "code",
   "execution_count": 11,
   "metadata": {
    "ExecuteTime": {
     "end_time": "2024-08-05T05:26:39.639410Z",
     "start_time": "2024-08-05T05:26:29.288873Z"
    }
   },
   "outputs": [],
   "source": [
    "import pickle\n",
    "\n",
    "with open(f\"embeds/HLA_model_{model_version}1.embed\", \"wb\") as f:\n",
    "    pickle.dump(\n",
    "        {\n",
    "            \"protein_df\": hla_df,\n",
    "            \"embeds\": hla_embeds,\n",
    "            \"umap_reducer\": umap_reducer,\n",
    "        },\n",
    "        f,\n",
    "        protocol=pickle.HIGHEST_PROTOCOL,\n",
    "    )"
   ]
  },
  {
   "cell_type": "code",
   "execution_count": null,
   "metadata": {},
   "outputs": [],
   "source": []
  }
 ],
 "metadata": {
  "kernelspec": {
   "display_name": "Python 3 (ipykernel)",
   "language": "python",
   "name": "python3"
  },
  "language_info": {
   "codemirror_mode": {
    "name": "ipython",
    "version": 3
   },
   "file_extension": ".py",
   "mimetype": "text/x-python",
   "name": "python",
   "nbconvert_exporter": "python",
   "pygments_lexer": "ipython3",
   "version": "3.10.8"
  }
 },
 "nbformat": 4,
 "nbformat_minor": 4
}

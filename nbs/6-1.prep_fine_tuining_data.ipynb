{
 "cells": [
  {
   "cell_type": "code",
   "execution_count": null,
   "metadata": {},
   "outputs": [],
   "source": [
    "import pandas as pd\n",
    "\n",
    "df = pd.read_excel(\"all_alleles/train_data/systemhc_fine_tune/B41_02.xlsx\")\n",
    "\n",
    "from sklearn.model_selection import train_test_split\n",
    "\n",
    "random_seed = 42\n",
    "\n",
    "part_size = len(df) // 5\n",
    "\n",
    "a, b = train_test_split(df, test_size=4 * part_size / len(df), random_state=random_seed)\n",
    "b, c = train_test_split(b, test_size=3 * part_size / len(b), random_state=random_seed)\n",
    "c, d = train_test_split(c, test_size=2 * part_size / len(c), random_state=random_seed)\n",
    "d, e = train_test_split(d, test_size=1 * part_size / len(d), random_state=random_seed)\n",
    "\n",
    "ab = pd.concat([a, b])\n",
    "abc = pd.concat([ab, c])\n",
    "abcd = pd.concat([abc, d])"
   ]
  },
  {
   "cell_type": "code",
   "execution_count": 2,
   "metadata": {},
   "outputs": [
    {
     "name": "stdout",
     "output_type": "stream",
     "text": [
      "a: 118\n",
      "ab: 233\n",
      "abc: 348\n",
      "abcd: 463\n",
      "e: 115\n"
     ]
    }
   ],
   "source": [
    "print(\"a:\", len(a))\n",
    "print(\"ab:\", len(ab))\n",
    "print(\"abc:\", len(abc))\n",
    "print(\"abcd:\", len(abcd))\n",
    "print(\"e:\", len(e))\n",
    "\n",
    "result_a, result_ab, result_abc, result_abcd, result_e = a, ab, abc, abcd, e\n",
    "result_a.to_excel(\"all_alleles/train_data/systemhc_fine_tune/0218_train_df_20%.xlsx\")\n",
    "result_ab.to_excel(\"all_alleles/train_data/systemhc_fine_tune/0218_train_df_40%.xlsx\")\n",
    "result_abc.to_excel(\"all_alleles/train_data/systemhc_fine_tune/0218_train_df_60%.xlsx\")\n",
    "result_abcd.to_excel(\"all_alleles/train_data/systemhc_fine_tune/0218_train_df_80%.xlsx\")\n",
    "result_e.to_excel(\"all_alleles/train_data/systemhc_fine_tune/0218_test_df.xlsx\")"
   ]
  }
 ],
 "metadata": {
  "kernelspec": {
   "display_name": "hlalm",
   "language": "python",
   "name": "python3"
  },
  "language_info": {
   "codemirror_mode": {
    "name": "ipython",
    "version": 3
   },
   "file_extension": ".py",
   "mimetype": "text/x-python",
   "name": "python",
   "nbconvert_exporter": "python",
   "pygments_lexer": "ipython3",
   "version": "3.8.19"
  }
 },
 "nbformat": 4,
 "nbformat_minor": 2
}

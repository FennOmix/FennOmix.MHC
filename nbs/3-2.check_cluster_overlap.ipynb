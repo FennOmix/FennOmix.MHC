{
 "cells": [
  {
   "cell_type": "code",
   "execution_count": null,
   "id": "initial_id",
   "metadata": {
    "collapsed": true
   },
   "outputs": [],
   "source": [
    "from scipy.cluster.hierarchy import linkage\n",
    "from scipy.cluster.hierarchy import fcluster\n",
    "from scipy.cluster.hierarchy import dendrogram\n",
    "import copy\n",
    "from fennet.mhc.mhc_binding_model import *\n",
    "from fennet.mhc.mhc_binding_retriever import MHCBindingRetriever\n",
    "import pickle\n",
    "import pandas as pd"
   ]
  },
  {
   "cell_type": "code",
   "execution_count": 18,
   "id": "a67e72fdfe7d55d2",
   "metadata": {
    "ExecuteTime": {
     "end_time": "2024-09-11T07:46:19.961965Z",
     "start_time": "2024-09-11T07:46:15.476315Z"
    }
   },
   "outputs": [],
   "source": [
    "hla_model_pt = \"HLA_model_v0819.pt\"\n",
    "pept_model_pt = \"pept_model_v0819.pt\"\n",
    "\n",
    "pept_encoder = ModelSeqEncoder().to(\"cuda\")\n",
    "hla_encoder = ModelHlaEncoder().to(\"cuda\")\n",
    "hla_encoder.load_state_dict(torch.load(f\"model/{hla_model_pt}\", map_location=\"cuda\"))\n",
    "pept_encoder.load_state_dict(torch.load(f\"model/{pept_model_pt}\", map_location=\"cuda\"))\n",
    "\n",
    "with open(f\"embeds/hla_v0819_embeds.pkl\", \"rb\") as f:\n",
    "    data_dict = pickle.load(f)\n",
    "    hla_df = data_dict[\"protein_df\"]\n",
    "    hla_embeds = data_dict[\"embeds\"]\n",
    "\n",
    "known_allele_df = pd.read_table(\"known_allele_list.txt\", index_col=False)\n",
    "hla_df = hla_df[hla_df[\"allele\"].isin(known_allele_df[\"allele\"])]\n",
    "hla_df = hla_df.drop_duplicates(subset=[\"allele\"])\n",
    "hla_embeds = hla_embeds[hla_df.index.values]\n",
    "\n",
    "fasta_list = [\"uniprotkb_UP000005640_AND_reviewed_true_2024_03_01.fasta\"]\n",
    "\n",
    "retriever = MHCBindingRetriever(\n",
    "    hla_encoder, pept_encoder, hla_df, hla_embeds, fasta_list\n",
    ")"
   ]
  },
  {
   "cell_type": "code",
   "execution_count": 3,
   "id": "10f571afb7c47fc7",
   "metadata": {
    "ExecuteTime": {
     "end_time": "2024-09-11T07:31:00.554048Z",
     "start_time": "2024-09-11T07:31:00.550507Z"
    }
   },
   "outputs": [],
   "source": [
    "def get_mean_embeds(alleles, weights=None):\n",
    "    selected_embeds = retriever.hla_embeds[\n",
    "        [retriever.dataset.allele_idxes_dict[allele][0] for allele in alleles]\n",
    "    ].copy()\n",
    "    if weights is None:\n",
    "        return np.mean(selected_embeds, axis=0)\n",
    "    else:\n",
    "        weights = (np.array(weights, np.float32) / np.sum(weights))[None, :]\n",
    "        return weights @ selected_embeds"
   ]
  },
  {
   "cell_type": "code",
   "execution_count": 19,
   "id": "f42756e70cd3ab3b",
   "metadata": {
    "ExecuteTime": {
     "end_time": "2024-09-11T07:46:20.028889Z",
     "start_time": "2024-09-11T07:46:19.963425Z"
    }
   },
   "outputs": [
    {
     "data": {
      "image/png": "[encoded data removed]",
      "text/plain": [
       "<Figure size 640x480 with 1 Axes>"
      ]
     },
     "metadata": {},
     "output_type": "display_data"
    }
   ],
   "source": [
    "Z = linkage(hla_embeds, \"complete\")\n",
    "\n",
    "# 确定切割高度\n",
    "cut_height = 0.5\n",
    "\n",
    "# 使用切割高度获取聚类标签\n",
    "clusters = fcluster(Z, cut_height, criterion=\"distance\")\n",
    "\n",
    "# 绘制树状图\n",
    "tree = dendrogram(Z, color_threshold=0.5, no_labels=True)\n",
    "\n",
    "leaf_indices = tree[\"leaves\"]"
   ]
  },
  {
   "cell_type": "code",
   "execution_count": 20,
   "id": "f70d82601caa01d3",
   "metadata": {
    "ExecuteTime": {
     "end_time": "2024-09-11T07:46:21.725543Z",
     "start_time": "2024-09-11T07:46:21.721964Z"
    }
   },
   "outputs": [],
   "source": [
    "reordered_alleles = [hla_df.allele.values[i] for i in leaf_indices]\n",
    "reordered_hla_embeds = copy.deepcopy(hla_embeds[leaf_indices, :])"
   ]
  },
  {
   "cell_type": "code",
   "execution_count": 21,
   "id": "2a1bed4869be6363",
   "metadata": {
    "ExecuteTime": {
     "end_time": "2024-09-11T07:46:22.725604Z",
     "start_time": "2024-09-11T07:46:22.720583Z"
    }
   },
   "outputs": [],
   "source": [
    "reorder_list = []\n",
    "start_idx = 0\n",
    "for i in range(max(clusters)):\n",
    "    tmp_num = len(np.where(clusters == i + 1)[0])\n",
    "    reorder_list.append(reordered_alleles[start_idx : start_idx + tmp_num])\n",
    "    start_idx += tmp_num"
   ]
  },
  {
   "cell_type": "code",
   "execution_count": 22,
   "id": "7019459d8925bd37",
   "metadata": {
    "ExecuteTime": {
     "end_time": "2024-09-11T07:46:23.241751Z",
     "start_time": "2024-09-11T07:46:23.237402Z"
    }
   },
   "outputs": [
    {
     "name": "stdout",
     "output_type": "stream",
     "text": [
      "13\n",
      "7\n",
      "15\n",
      "1\n",
      "16\n",
      "4\n",
      "11\n",
      "11\n",
      "2\n",
      "12\n",
      "7\n",
      "5\n",
      "17\n",
      "14\n",
      "3\n",
      "3\n"
     ]
    }
   ],
   "source": [
    "for i in range(len(reorder_list)):\n",
    "    print(len(reorder_list[i]))"
   ]
  },
  {
   "cell_type": "code",
   "execution_count": 30,
   "id": "4e155472d211d1ef",
   "metadata": {
    "ExecuteTime": {
     "end_time": "2024-09-11T08:03:09.787726Z",
     "start_time": "2024-09-11T08:02:58.301989Z"
    }
   },
   "outputs": [
    {
     "data": {
      "text/plain": [
       "73348991"
      ]
     },
     "execution_count": 30,
     "metadata": {},
     "output_type": "execute_result"
    }
   ],
   "source": [
    "pep_list = retriever.dataset.digest.get_peptide_seqs_from_idxes(\n",
    "    np.arange(0, len(retriever.dataset.digest.digest_starts))\n",
    ")\n",
    "len(pep_list)"
   ]
  },
  {
   "cell_type": "code",
   "execution_count": 23,
   "id": "f0bd21b6ca453b18",
   "metadata": {
    "ExecuteTime": {
     "end_time": "2024-09-11T07:46:27.202391Z",
     "start_time": "2024-09-11T07:46:27.195013Z"
    }
   },
   "outputs": [
    {
     "data": {
      "text/plain": [
       "(16, 480)"
      ]
     },
     "execution_count": 23,
     "metadata": {},
     "output_type": "execute_result"
    }
   ],
   "source": [
    "cluster_mean_embeds_matrix = []\n",
    "for i in range(len(reorder_list)):\n",
    "    tmp_allele_list = reorder_list[i]\n",
    "    cluster_mean_embeds_matrix.append(get_mean_embeds(tmp_allele_list))\n",
    "cluster_mean_embeds_matrix = np.array(cluster_mean_embeds_matrix)\n",
    "cluster_mean_embeds_matrix.shape"
   ]
  },
  {
   "cell_type": "code",
   "execution_count": 24,
   "id": "d695174c504538f",
   "metadata": {
    "ExecuteTime": {
     "end_time": "2024-09-11T07:46:28.053939Z",
     "start_time": "2024-09-11T07:46:28.041422Z"
    }
   },
   "outputs": [
    {
     "data": {
      "text/plain": [
       "array([[0.        , 0.9050956 , 0.7653417 , 0.7109233 , 0.92279255,\n",
       "        0.92960435, 0.8553794 , 0.9581455 , 1.1499199 , 1.0481983 ,\n",
       "        1.0179785 , 0.9005225 , 1.006841  , 1.0311601 , 0.8985502 ,\n",
       "        0.91138107],\n",
       "       [0.9050956 , 0.        , 0.41643757, 0.4349788 , 0.7287447 ,\n",
       "        0.5409742 , 0.40683505, 0.6195482 , 1.1406194 , 0.9220562 ,\n",
       "        0.7987838 , 0.7466083 , 0.902519  , 0.8784374 , 0.5724331 ,\n",
       "        0.7619099 ],\n",
       "       [0.7653417 , 0.41643757, 0.        , 0.13297783, 0.77824634,\n",
       "        0.6894771 , 0.3566598 , 0.6192176 , 1.0550495 , 0.8199752 ,\n",
       "        0.6435109 , 0.59265935, 0.75972784, 0.7634762 , 0.41077325,\n",
       "        0.6567574 ],\n",
       "       [0.7109233 , 0.4349788 , 0.13297783, 0.        , 0.7166978 ,\n",
       "        0.64963716, 0.3498908 , 0.5949974 , 1.0633063 , 0.8557073 ,\n",
       "        0.7012987 , 0.6094273 , 0.7351853 , 0.72603804, 0.38864622,\n",
       "        0.6002626 ],\n",
       "       [0.92279255, 0.7287447 , 0.77824634, 0.7166978 , 0.        ,\n",
       "        0.2981915 , 0.5406525 , 0.34145582, 0.99473786, 0.8615029 ,\n",
       "        0.8217522 , 0.7051708 , 0.911658  , 0.858303  , 0.77978075,\n",
       "        0.5151599 ],\n",
       "       [0.92960435, 0.5409742 , 0.6894771 , 0.64963716, 0.2981915 ,\n",
       "        0.        , 0.45374557, 0.40367642, 0.92294496, 0.77284104,\n",
       "        0.80386955, 0.6458322 , 0.8415794 , 0.87361085, 0.73555565,\n",
       "        0.5639453 ],\n",
       "       [0.8553794 , 0.40683505, 0.3566598 , 0.3498908 , 0.5406525 ,\n",
       "        0.45374557, 0.        , 0.3181397 , 0.9133975 , 0.6707724 ,\n",
       "        0.5477911 , 0.42432332, 0.8280888 , 0.6612981 , 0.39052215,\n",
       "        0.43234324],\n",
       "       [0.9581455 , 0.6195482 , 0.6192176 , 0.5949974 , 0.34145582,\n",
       "        0.40367642, 0.3181397 , 0.        , 0.9323406 , 0.7097115 ,\n",
       "        0.56018144, 0.5066791 , 0.92030156, 0.73383784, 0.59733796,\n",
       "        0.4175508 ],\n",
       "       [1.1499199 , 1.1406194 , 1.0550495 , 1.0633063 , 0.99473786,\n",
       "        0.92294496, 0.9133975 , 0.9323406 , 0.        , 0.40608582,\n",
       "        0.8985123 , 0.58433497, 0.8971712 , 0.9034551 , 0.9838336 ,\n",
       "        0.7573084 ],\n",
       "       [1.0481983 , 0.9220562 , 0.8199752 , 0.8557073 , 0.8615029 ,\n",
       "        0.77284104, 0.6707724 , 0.7097115 , 0.40608582, 0.        ,\n",
       "        0.5391595 , 0.3031501 , 0.87512785, 0.91392064, 0.8502701 ,\n",
       "        0.68842983],\n",
       "       [1.0179785 , 0.7987838 , 0.6435109 , 0.7012987 , 0.8217522 ,\n",
       "        0.80386955, 0.5477911 , 0.56018144, 0.8985123 , 0.5391595 ,\n",
       "        0.        , 0.42057523, 0.9502493 , 0.97054076, 0.7786881 ,\n",
       "        0.7480199 ],\n",
       "       [0.9005225 , 0.7466083 , 0.59265935, 0.6094273 , 0.7051708 ,\n",
       "        0.6458322 , 0.42432332, 0.5066791 , 0.58433497, 0.3031501 ,\n",
       "        0.42057523, 0.        , 0.7806377 , 0.73083806, 0.6082379 ,\n",
       "        0.4716012 ],\n",
       "       [1.006841  , 0.902519  , 0.75972784, 0.7351853 , 0.911658  ,\n",
       "        0.8415794 , 0.8280888 , 0.92030156, 0.8971712 , 0.87512785,\n",
       "        0.9502493 , 0.7806377 , 0.        , 0.95321417, 0.8529982 ,\n",
       "        0.81091464],\n",
       "       [1.0311601 , 0.8784374 , 0.7634762 , 0.72603804, 0.858303  ,\n",
       "        0.87361085, 0.6612981 , 0.73383784, 0.9034551 , 0.91392064,\n",
       "        0.97054076, 0.73083806, 0.95321417, 0.        , 0.38781497,\n",
       "        0.423063  ],\n",
       "       [0.8985502 , 0.5724331 , 0.41077325, 0.38864622, 0.77978075,\n",
       "        0.73555565, 0.39052215, 0.59733796, 0.9838336 , 0.8502701 ,\n",
       "        0.7786881 , 0.6082379 , 0.8529982 , 0.38781497, 0.        ,\n",
       "        0.44978803],\n",
       "       [0.91138107, 0.7619099 , 0.6567574 , 0.6002626 , 0.5151599 ,\n",
       "        0.5639453 , 0.43234324, 0.4175508 , 0.7573084 , 0.68842983,\n",
       "        0.7480199 , 0.4716012 , 0.81091464, 0.423063  , 0.44978803,\n",
       "        0.        ]], dtype=float32)"
      ]
     },
     "execution_count": 24,
     "metadata": {},
     "output_type": "execute_result"
    }
   ],
   "source": [
    "dist_matrix = retriever.get_embedding_distances(\n",
    "    cluster_mean_embeds_matrix, cluster_mean_embeds_matrix\n",
    ")\n",
    "dist_matrix"
   ]
  },
  {
   "cell_type": "code",
   "execution_count": 25,
   "id": "c257f7a2f98d9843",
   "metadata": {
    "ExecuteTime": {
     "end_time": "2024-09-11T07:46:29.697573Z",
     "start_time": "2024-09-11T07:46:29.675955Z"
    }
   },
   "outputs": [
    {
     "data": {
      "text/html": [
       "<div>\n",
       "<style scoped>\n",
       "    .dataframe tbody tr th:only-of-type {\n",
       "        vertical-align: middle;\n",
       "    }\n",
       "\n",
       "    .dataframe tbody tr th {\n",
       "        vertical-align: top;\n",
       "    }\n",
       "\n",
       "    .dataframe thead th {\n",
       "        text-align: right;\n",
       "    }\n",
       "</style>\n",
       "<table border=\"1\" class=\"dataframe\">\n",
       "  <thead>\n",
       "    <tr style=\"text-align: right;\">\n",
       "      <th></th>\n",
       "      <th>0</th>\n",
       "      <th>1</th>\n",
       "      <th>2</th>\n",
       "      <th>3</th>\n",
       "      <th>4</th>\n",
       "      <th>5</th>\n",
       "      <th>6</th>\n",
       "      <th>7</th>\n",
       "      <th>8</th>\n",
       "      <th>9</th>\n",
       "      <th>10</th>\n",
       "      <th>11</th>\n",
       "      <th>12</th>\n",
       "      <th>13</th>\n",
       "      <th>14</th>\n",
       "      <th>15</th>\n",
       "    </tr>\n",
       "  </thead>\n",
       "  <tbody>\n",
       "    <tr>\n",
       "      <th>0</th>\n",
       "      <td>0.00</td>\n",
       "      <td>0.91</td>\n",
       "      <td>0.77</td>\n",
       "      <td>0.71</td>\n",
       "      <td>0.92</td>\n",
       "      <td>0.93</td>\n",
       "      <td>0.86</td>\n",
       "      <td>0.96</td>\n",
       "      <td>1.15</td>\n",
       "      <td>1.05</td>\n",
       "      <td>1.02</td>\n",
       "      <td>0.90</td>\n",
       "      <td>1.01</td>\n",
       "      <td>1.03</td>\n",
       "      <td>0.90</td>\n",
       "      <td>0.91</td>\n",
       "    </tr>\n",
       "    <tr>\n",
       "      <th>1</th>\n",
       "      <td>0.91</td>\n",
       "      <td>0.00</td>\n",
       "      <td>0.42</td>\n",
       "      <td>0.43</td>\n",
       "      <td>0.73</td>\n",
       "      <td>0.54</td>\n",
       "      <td>0.41</td>\n",
       "      <td>0.62</td>\n",
       "      <td>1.14</td>\n",
       "      <td>0.92</td>\n",
       "      <td>0.80</td>\n",
       "      <td>0.75</td>\n",
       "      <td>0.90</td>\n",
       "      <td>0.88</td>\n",
       "      <td>0.57</td>\n",
       "      <td>0.76</td>\n",
       "    </tr>\n",
       "    <tr>\n",
       "      <th>2</th>\n",
       "      <td>0.77</td>\n",
       "      <td>0.42</td>\n",
       "      <td>0.00</td>\n",
       "      <td>0.13</td>\n",
       "      <td>0.78</td>\n",
       "      <td>0.69</td>\n",
       "      <td>0.36</td>\n",
       "      <td>0.62</td>\n",
       "      <td>1.06</td>\n",
       "      <td>0.82</td>\n",
       "      <td>0.64</td>\n",
       "      <td>0.59</td>\n",
       "      <td>0.76</td>\n",
       "      <td>0.76</td>\n",
       "      <td>0.41</td>\n",
       "      <td>0.66</td>\n",
       "    </tr>\n",
       "    <tr>\n",
       "      <th>3</th>\n",
       "      <td>0.71</td>\n",
       "      <td>0.43</td>\n",
       "      <td>0.13</td>\n",
       "      <td>0.00</td>\n",
       "      <td>0.72</td>\n",
       "      <td>0.65</td>\n",
       "      <td>0.35</td>\n",
       "      <td>0.59</td>\n",
       "      <td>1.06</td>\n",
       "      <td>0.86</td>\n",
       "      <td>0.70</td>\n",
       "      <td>0.61</td>\n",
       "      <td>0.74</td>\n",
       "      <td>0.73</td>\n",
       "      <td>0.39</td>\n",
       "      <td>0.60</td>\n",
       "    </tr>\n",
       "    <tr>\n",
       "      <th>4</th>\n",
       "      <td>0.92</td>\n",
       "      <td>0.73</td>\n",
       "      <td>0.78</td>\n",
       "      <td>0.72</td>\n",
       "      <td>0.00</td>\n",
       "      <td>0.30</td>\n",
       "      <td>0.54</td>\n",
       "      <td>0.34</td>\n",
       "      <td>0.99</td>\n",
       "      <td>0.86</td>\n",
       "      <td>0.82</td>\n",
       "      <td>0.71</td>\n",
       "      <td>0.91</td>\n",
       "      <td>0.86</td>\n",
       "      <td>0.78</td>\n",
       "      <td>0.52</td>\n",
       "    </tr>\n",
       "    <tr>\n",
       "      <th>5</th>\n",
       "      <td>0.93</td>\n",
       "      <td>0.54</td>\n",
       "      <td>0.69</td>\n",
       "      <td>0.65</td>\n",
       "      <td>0.30</td>\n",
       "      <td>0.00</td>\n",
       "      <td>0.45</td>\n",
       "      <td>0.40</td>\n",
       "      <td>0.92</td>\n",
       "      <td>0.77</td>\n",
       "      <td>0.80</td>\n",
       "      <td>0.65</td>\n",
       "      <td>0.84</td>\n",
       "      <td>0.87</td>\n",
       "      <td>0.74</td>\n",
       "      <td>0.56</td>\n",
       "    </tr>\n",
       "    <tr>\n",
       "      <th>6</th>\n",
       "      <td>0.86</td>\n",
       "      <td>0.41</td>\n",
       "      <td>0.36</td>\n",
       "      <td>0.35</td>\n",
       "      <td>0.54</td>\n",
       "      <td>0.45</td>\n",
       "      <td>0.00</td>\n",
       "      <td>0.32</td>\n",
       "      <td>0.91</td>\n",
       "      <td>0.67</td>\n",
       "      <td>0.55</td>\n",
       "      <td>0.42</td>\n",
       "      <td>0.83</td>\n",
       "      <td>0.66</td>\n",
       "      <td>0.39</td>\n",
       "      <td>0.43</td>\n",
       "    </tr>\n",
       "    <tr>\n",
       "      <th>7</th>\n",
       "      <td>0.96</td>\n",
       "      <td>0.62</td>\n",
       "      <td>0.62</td>\n",
       "      <td>0.59</td>\n",
       "      <td>0.34</td>\n",
       "      <td>0.40</td>\n",
       "      <td>0.32</td>\n",
       "      <td>0.00</td>\n",
       "      <td>0.93</td>\n",
       "      <td>0.71</td>\n",
       "      <td>0.56</td>\n",
       "      <td>0.51</td>\n",
       "      <td>0.92</td>\n",
       "      <td>0.73</td>\n",
       "      <td>0.60</td>\n",
       "      <td>0.42</td>\n",
       "    </tr>\n",
       "    <tr>\n",
       "      <th>8</th>\n",
       "      <td>1.15</td>\n",
       "      <td>1.14</td>\n",
       "      <td>1.06</td>\n",
       "      <td>1.06</td>\n",
       "      <td>0.99</td>\n",
       "      <td>0.92</td>\n",
       "      <td>0.91</td>\n",
       "      <td>0.93</td>\n",
       "      <td>0.00</td>\n",
       "      <td>0.41</td>\n",
       "      <td>0.90</td>\n",
       "      <td>0.58</td>\n",
       "      <td>0.90</td>\n",
       "      <td>0.90</td>\n",
       "      <td>0.98</td>\n",
       "      <td>0.76</td>\n",
       "    </tr>\n",
       "    <tr>\n",
       "      <th>9</th>\n",
       "      <td>1.05</td>\n",
       "      <td>0.92</td>\n",
       "      <td>0.82</td>\n",
       "      <td>0.86</td>\n",
       "      <td>0.86</td>\n",
       "      <td>0.77</td>\n",
       "      <td>0.67</td>\n",
       "      <td>0.71</td>\n",
       "      <td>0.41</td>\n",
       "      <td>0.00</td>\n",
       "      <td>0.54</td>\n",
       "      <td>0.30</td>\n",
       "      <td>0.88</td>\n",
       "      <td>0.91</td>\n",
       "      <td>0.85</td>\n",
       "      <td>0.69</td>\n",
       "    </tr>\n",
       "    <tr>\n",
       "      <th>10</th>\n",
       "      <td>1.02</td>\n",
       "      <td>0.80</td>\n",
       "      <td>0.64</td>\n",
       "      <td>0.70</td>\n",
       "      <td>0.82</td>\n",
       "      <td>0.80</td>\n",
       "      <td>0.55</td>\n",
       "      <td>0.56</td>\n",
       "      <td>0.90</td>\n",
       "      <td>0.54</td>\n",
       "      <td>0.00</td>\n",
       "      <td>0.42</td>\n",
       "      <td>0.95</td>\n",
       "      <td>0.97</td>\n",
       "      <td>0.78</td>\n",
       "      <td>0.75</td>\n",
       "    </tr>\n",
       "    <tr>\n",
       "      <th>11</th>\n",
       "      <td>0.90</td>\n",
       "      <td>0.75</td>\n",
       "      <td>0.59</td>\n",
       "      <td>0.61</td>\n",
       "      <td>0.71</td>\n",
       "      <td>0.65</td>\n",
       "      <td>0.42</td>\n",
       "      <td>0.51</td>\n",
       "      <td>0.58</td>\n",
       "      <td>0.30</td>\n",
       "      <td>0.42</td>\n",
       "      <td>0.00</td>\n",
       "      <td>0.78</td>\n",
       "      <td>0.73</td>\n",
       "      <td>0.61</td>\n",
       "      <td>0.47</td>\n",
       "    </tr>\n",
       "    <tr>\n",
       "      <th>12</th>\n",
       "      <td>1.01</td>\n",
       "      <td>0.90</td>\n",
       "      <td>0.76</td>\n",
       "      <td>0.74</td>\n",
       "      <td>0.91</td>\n",
       "      <td>0.84</td>\n",
       "      <td>0.83</td>\n",
       "      <td>0.92</td>\n",
       "      <td>0.90</td>\n",
       "      <td>0.88</td>\n",
       "      <td>0.95</td>\n",
       "      <td>0.78</td>\n",
       "      <td>0.00</td>\n",
       "      <td>0.95</td>\n",
       "      <td>0.85</td>\n",
       "      <td>0.81</td>\n",
       "    </tr>\n",
       "    <tr>\n",
       "      <th>13</th>\n",
       "      <td>1.03</td>\n",
       "      <td>0.88</td>\n",
       "      <td>0.76</td>\n",
       "      <td>0.73</td>\n",
       "      <td>0.86</td>\n",
       "      <td>0.87</td>\n",
       "      <td>0.66</td>\n",
       "      <td>0.73</td>\n",
       "      <td>0.90</td>\n",
       "      <td>0.91</td>\n",
       "      <td>0.97</td>\n",
       "      <td>0.73</td>\n",
       "      <td>0.95</td>\n",
       "      <td>0.00</td>\n",
       "      <td>0.39</td>\n",
       "      <td>0.42</td>\n",
       "    </tr>\n",
       "    <tr>\n",
       "      <th>14</th>\n",
       "      <td>0.90</td>\n",
       "      <td>0.57</td>\n",
       "      <td>0.41</td>\n",
       "      <td>0.39</td>\n",
       "      <td>0.78</td>\n",
       "      <td>0.74</td>\n",
       "      <td>0.39</td>\n",
       "      <td>0.60</td>\n",
       "      <td>0.98</td>\n",
       "      <td>0.85</td>\n",
       "      <td>0.78</td>\n",
       "      <td>0.61</td>\n",
       "      <td>0.85</td>\n",
       "      <td>0.39</td>\n",
       "      <td>0.00</td>\n",
       "      <td>0.45</td>\n",
       "    </tr>\n",
       "    <tr>\n",
       "      <th>15</th>\n",
       "      <td>0.91</td>\n",
       "      <td>0.76</td>\n",
       "      <td>0.66</td>\n",
       "      <td>0.60</td>\n",
       "      <td>0.52</td>\n",
       "      <td>0.56</td>\n",
       "      <td>0.43</td>\n",
       "      <td>0.42</td>\n",
       "      <td>0.76</td>\n",
       "      <td>0.69</td>\n",
       "      <td>0.75</td>\n",
       "      <td>0.47</td>\n",
       "      <td>0.81</td>\n",
       "      <td>0.42</td>\n",
       "      <td>0.45</td>\n",
       "      <td>0.00</td>\n",
       "    </tr>\n",
       "  </tbody>\n",
       "</table>\n",
       "</div>"
      ],
      "text/plain": [
       "      0     1     2     3     4     5     6     7     8     9     10    11  \\\n",
       "0   0.00  0.91  0.77  0.71  0.92  0.93  0.86  0.96  1.15  1.05  1.02  0.90   \n",
       "1   0.91  0.00  0.42  0.43  0.73  0.54  0.41  0.62  1.14  0.92  0.80  0.75   \n",
       "2   0.77  0.42  0.00  0.13  0.78  0.69  0.36  0.62  1.06  0.82  0.64  0.59   \n",
       "3   0.71  0.43  0.13  0.00  0.72  0.65  0.35  0.59  1.06  0.86  0.70  0.61   \n",
       "4   0.92  0.73  0.78  0.72  0.00  0.30  0.54  0.34  0.99  0.86  0.82  0.71   \n",
       "5   0.93  0.54  0.69  0.65  0.30  0.00  0.45  0.40  0.92  0.77  0.80  0.65   \n",
       "6   0.86  0.41  0.36  0.35  0.54  0.45  0.00  0.32  0.91  0.67  0.55  0.42   \n",
       "7   0.96  0.62  0.62  0.59  0.34  0.40  0.32  0.00  0.93  0.71  0.56  0.51   \n",
       "8   1.15  1.14  1.06  1.06  0.99  0.92  0.91  0.93  0.00  0.41  0.90  0.58   \n",
       "9   1.05  0.92  0.82  0.86  0.86  0.77  0.67  0.71  0.41  0.00  0.54  0.30   \n",
       "10  1.02  0.80  0.64  0.70  0.82  0.80  0.55  0.56  0.90  0.54  0.00  0.42   \n",
       "11  0.90  0.75  0.59  0.61  0.71  0.65  0.42  0.51  0.58  0.30  0.42  0.00   \n",
       "12  1.01  0.90  0.76  0.74  0.91  0.84  0.83  0.92  0.90  0.88  0.95  0.78   \n",
       "13  1.03  0.88  0.76  0.73  0.86  0.87  0.66  0.73  0.90  0.91  0.97  0.73   \n",
       "14  0.90  0.57  0.41  0.39  0.78  0.74  0.39  0.60  0.98  0.85  0.78  0.61   \n",
       "15  0.91  0.76  0.66  0.60  0.52  0.56  0.43  0.42  0.76  0.69  0.75  0.47   \n",
       "\n",
       "      12    13    14    15  \n",
       "0   1.01  1.03  0.90  0.91  \n",
       "1   0.90  0.88  0.57  0.76  \n",
       "2   0.76  0.76  0.41  0.66  \n",
       "3   0.74  0.73  0.39  0.60  \n",
       "4   0.91  0.86  0.78  0.52  \n",
       "5   0.84  0.87  0.74  0.56  \n",
       "6   0.83  0.66  0.39  0.43  \n",
       "7   0.92  0.73  0.60  0.42  \n",
       "8   0.90  0.90  0.98  0.76  \n",
       "9   0.88  0.91  0.85  0.69  \n",
       "10  0.95  0.97  0.78  0.75  \n",
       "11  0.78  0.73  0.61  0.47  \n",
       "12  0.00  0.95  0.85  0.81  \n",
       "13  0.95  0.00  0.39  0.42  \n",
       "14  0.85  0.39  0.00  0.45  \n",
       "15  0.81  0.42  0.45  0.00  "
      ]
     },
     "execution_count": 25,
     "metadata": {},
     "output_type": "execute_result"
    }
   ],
   "source": [
    "df = pd.DataFrame(np.round(dist_matrix, decimals=2))\n",
    "df"
   ]
  },
  {
   "cell_type": "code",
   "execution_count": 26,
   "id": "3056d5ae66ec3607",
   "metadata": {
    "ExecuteTime": {
     "end_time": "2024-09-11T07:46:36.350929Z",
     "start_time": "2024-09-11T07:46:36.332468Z"
    }
   },
   "outputs": [],
   "source": [
    "output_file = \"data/fig3a_between_cluster_dist_info.xlsx\"\n",
    "df.to_excel(output_file, index=False, header=False)"
   ]
  },
  {
   "cell_type": "code",
   "execution_count": 30,
   "id": "1311639ebff2e349",
   "metadata": {
    "ExecuteTime": {
     "end_time": "2024-09-10T04:40:18.538405Z",
     "start_time": "2024-09-10T04:14:43.721239Z"
    }
   },
   "outputs": [
    {
     "data": {
      "text/plain": [
       "(73348991, 16)"
      ]
     },
     "execution_count": 30,
     "metadata": {},
     "output_type": "execute_result"
    }
   ],
   "source": [
    "return_df = retriever.get_binding_distances(cluster_mean_embeds_matrix, pep_list)\n",
    "return_df.shape"
   ]
  },
  {
   "cell_type": "code",
   "execution_count": 31,
   "id": "a848aa99fd9b163d",
   "metadata": {
    "ExecuteTime": {
     "end_time": "2024-09-10T04:40:44.397607Z",
     "start_time": "2024-09-10T04:40:42.333588Z"
    }
   },
   "outputs": [],
   "source": [
    "indices = [np.where(return_df[:, col] <= 0.2)[0] for col in range(return_df.shape[1])]"
   ]
  },
  {
   "cell_type": "code",
   "execution_count": 32,
   "id": "61047b265cf93621",
   "metadata": {
    "ExecuteTime": {
     "end_time": "2024-09-10T04:41:12.275879Z",
     "start_time": "2024-09-10T04:41:09.662543Z"
    }
   },
   "outputs": [
    {
     "data": {
      "text/plain": [
       "array([[1052584,       0,       0,       0,       0,       0,       0,\n",
       "              0,       0,       0,       0,       0,       0,       0,\n",
       "              0,       0],\n",
       "       [      0,  344807,       0,       0,       0,       0,       0,\n",
       "              0,       0,       0,       0,       0,       0,       0,\n",
       "              0,       0],\n",
       "       [      0,       0,  395778,  138079,       0,       0,    1364,\n",
       "              0,       0,       0,       0,       0,       0,       0,\n",
       "              0,       0],\n",
       "       [      0,       0,  138079,  159839,       0,       0,     283,\n",
       "              0,       0,       0,       0,       0,       0,       0,\n",
       "              0,       0],\n",
       "       [      0,       0,       0,       0,  737130,   23833,       0,\n",
       "           4577,       0,       0,       0,       0,       0,       0,\n",
       "              0,       0],\n",
       "       [      0,       0,       0,       0,   23833,  160179,       0,\n",
       "              0,       0,       0,       0,       0,       0,       0,\n",
       "              0,       0],\n",
       "       [      0,       0,    1364,     283,       0,       0,  183612,\n",
       "           6257,       0,       0,       0,       0,       0,       0,\n",
       "              0,       0],\n",
       "       [      0,       0,       0,       0,    4577,       0,    6257,\n",
       "         197013,       0,       0,       0,       0,       0,       0,\n",
       "              0,       0],\n",
       "       [      0,       0,       0,       0,       0,       0,       0,\n",
       "              0,  168887,       0,       0,       0,       0,       0,\n",
       "              0,       0],\n",
       "       [      0,       0,       0,       0,       0,       0,       0,\n",
       "              0,       0,   65275,       0,    2995,       0,       0,\n",
       "              0,       0],\n",
       "       [      0,       0,       0,       0,       0,       0,       0,\n",
       "              0,       0,       0,  297551,       0,       0,       0,\n",
       "              0,       0],\n",
       "       [      0,       0,       0,       0,       0,       0,       0,\n",
       "              0,       0,    2995,       0,   41715,       0,       0,\n",
       "              0,       0],\n",
       "       [      0,       0,       0,       0,       0,       0,       0,\n",
       "              0,       0,       0,       0,       0,  598305,       0,\n",
       "              0,       0],\n",
       "       [      0,       0,       0,       0,       0,       0,       0,\n",
       "              0,       0,       0,       0,       0,       0,  670867,\n",
       "              9,       0],\n",
       "       [      0,       0,       0,       0,       0,       0,       0,\n",
       "              0,       0,       0,       0,       0,       0,       9,\n",
       "         103399,       0],\n",
       "       [      0,       0,       0,       0,       0,       0,       0,\n",
       "              0,       0,       0,       0,       0,       0,       0,\n",
       "              0,  103695]])"
      ]
     },
     "execution_count": 32,
     "metadata": {},
     "output_type": "execute_result"
    }
   ],
   "source": [
    "num_cols = return_df.shape[1]\n",
    "intersection_matrix = np.zeros((num_cols, num_cols), dtype=int)\n",
    "\n",
    "for i in range(num_cols):\n",
    "    for j in range(i, num_cols):\n",
    "        common_count = len(np.intersect1d(indices[i], indices[j]))\n",
    "        intersection_matrix[i, j] = common_count\n",
    "        intersection_matrix[j, i] = common_count\n",
    "intersection_matrix"
   ]
  },
  {
   "cell_type": "code",
   "execution_count": 33,
   "id": "fa8b996e82e0c311",
   "metadata": {
    "ExecuteTime": {
     "end_time": "2024-09-10T04:41:28.346790Z",
     "start_time": "2024-09-10T04:41:28.326798Z"
    }
   },
   "outputs": [],
   "source": [
    "df = pd.DataFrame(intersection_matrix)\n",
    "\n",
    "output_file = \"data/fig3a_intersection_info.xlsx\"\n",
    "df.to_excel(output_file, index=False, header=False)"
   ]
  },
  {
   "cell_type": "code",
   "execution_count": 27,
   "id": "d8bebda5f9c1b125",
   "metadata": {
    "ExecuteTime": {
     "end_time": "2024-09-11T08:02:05.908625Z",
     "start_time": "2024-09-11T08:02:05.903727Z"
    }
   },
   "outputs": [
    {
     "data": {
      "text/plain": [
       "(141, 480)"
      ]
     },
     "execution_count": 27,
     "metadata": {},
     "output_type": "execute_result"
    }
   ],
   "source": [
    "reordered_hla_embeds.shape"
   ]
  },
  {
   "cell_type": "code",
   "execution_count": 28,
   "id": "c7305949a83743a4",
   "metadata": {
    "ExecuteTime": {
     "end_time": "2024-09-11T08:02:13.362540Z",
     "start_time": "2024-09-11T08:02:13.355846Z"
    }
   },
   "outputs": [
    {
     "data": {
      "text/plain": [
       "['A30_01',\n",
       " 'A03_01',\n",
       " 'A11_01',\n",
       " 'A03_02',\n",
       " 'A11_02',\n",
       " 'A74_01',\n",
       " 'A31_01',\n",
       " 'A34_02',\n",
       " 'A33_01',\n",
       " 'A33_03',\n",
       " 'A68_01',\n",
       " 'A34_01',\n",
       " 'A66_01',\n",
       " 'B58_02',\n",
       " 'B57_01',\n",
       " 'B57_03',\n",
       " 'B58_01',\n",
       " 'B15_13',\n",
       " 'A32_01',\n",
       " 'B15_17',\n",
       " 'B15_03',\n",
       " 'A01_01',\n",
       " 'A36_01',\n",
       " 'A30_02',\n",
       " 'A80_01',\n",
       " 'A29_02',\n",
       " 'B15_01',\n",
       " 'B15_02',\n",
       " 'B15_11',\n",
       " 'B35_01',\n",
       " 'B35_08',\n",
       " 'A26_03',\n",
       " 'A26_08',\n",
       " 'A25_01',\n",
       " 'A26_01',\n",
       " 'A26_02',\n",
       " 'A68_02',\n",
       " 'A69_01',\n",
       " 'A02_07',\n",
       " 'A02_17',\n",
       " 'A02_19',\n",
       " 'A02_06',\n",
       " 'A02_05',\n",
       " 'A02_03',\n",
       " 'A02_50',\n",
       " 'A02_16',\n",
       " 'A02_02',\n",
       " 'A02_01',\n",
       " 'A02_12',\n",
       " 'A02_04',\n",
       " 'A02_11',\n",
       " 'A02_20',\n",
       " 'B52_01',\n",
       " 'C15_02',\n",
       " 'B13_01',\n",
       " 'B13_02',\n",
       " 'B46_01',\n",
       " 'C12_04',\n",
       " 'C12_02',\n",
       " 'C12_03',\n",
       " 'C02_02',\n",
       " 'C16_02',\n",
       " 'C15_05',\n",
       " 'C16_01',\n",
       " 'C03_02',\n",
       " 'B48_01',\n",
       " 'C07_04',\n",
       " 'C08_01',\n",
       " 'C17_01',\n",
       " 'C03_04',\n",
       " 'C03_03',\n",
       " 'C04_03',\n",
       " 'C05_01',\n",
       " 'C08_02',\n",
       " 'C01_02',\n",
       " 'G01_03',\n",
       " 'G01_04',\n",
       " 'G01_01',\n",
       " 'B73_01',\n",
       " 'B39_06',\n",
       " 'B27_05',\n",
       " 'B27_03',\n",
       " 'B27_09',\n",
       " 'B27_04',\n",
       " 'B39_05',\n",
       " 'B38_01',\n",
       " 'B38_02',\n",
       " 'B39_24',\n",
       " 'B39_01',\n",
       " 'B15_10',\n",
       " 'B15_18',\n",
       " 'B15_09',\n",
       " 'C04_01',\n",
       " 'C14_03',\n",
       " 'C14_02',\n",
       " 'A24_03',\n",
       " 'A23_01',\n",
       " 'A24_02',\n",
       " 'A24_07',\n",
       " 'B14_02',\n",
       " 'B14_01',\n",
       " 'C06_02',\n",
       " 'C07_02',\n",
       " 'C07_01',\n",
       " 'B41_01',\n",
       " 'B40_06',\n",
       " 'B50_01',\n",
       " 'B40_32',\n",
       " 'B45_01',\n",
       " 'B45_06',\n",
       " 'B40_02',\n",
       " 'B40_01',\n",
       " 'B37_01',\n",
       " 'B49_01',\n",
       " 'B15_42',\n",
       " 'B44_05',\n",
       " 'B18_05',\n",
       " 'B18_01',\n",
       " 'B18_03',\n",
       " 'B44_02',\n",
       " 'B44_03',\n",
       " 'B54_01',\n",
       " 'B55_01',\n",
       " 'B56_01',\n",
       " 'B55_02',\n",
       " 'B35_02',\n",
       " 'B35_03',\n",
       " 'B51_01',\n",
       " 'B51_08',\n",
       " 'B67_01',\n",
       " 'B07_06',\n",
       " 'B07_04',\n",
       " 'B07_02',\n",
       " 'B42_01',\n",
       " 'B81_01',\n",
       " 'B53_01',\n",
       " 'B83_01',\n",
       " 'B35_07',\n",
       " 'B08_03',\n",
       " 'B08_02',\n",
       " 'B08_01']"
      ]
     },
     "execution_count": 28,
     "metadata": {},
     "output_type": "execute_result"
    }
   ],
   "source": [
    "reordered_alleles"
   ]
  },
  {
   "cell_type": "code",
   "execution_count": 29,
   "id": "562bb797d854a8bf",
   "metadata": {
    "ExecuteTime": {
     "end_time": "2024-09-11T08:02:42.838733Z",
     "start_time": "2024-09-11T08:02:42.833069Z"
    }
   },
   "outputs": [
    {
     "data": {
      "text/plain": [
       "(13, 480)"
      ]
     },
     "execution_count": 29,
     "metadata": {},
     "output_type": "execute_result"
    }
   ],
   "source": [
    "selected_embeds = retriever.hla_embeds[\n",
    "    [\n",
    "        retriever.dataset.allele_idxes_dict[allele][0]\n",
    "        for allele in reordered_alleles[:13]\n",
    "    ]\n",
    "].copy()\n",
    "selected_embeds.shape"
   ]
  },
  {
   "cell_type": "code",
   "execution_count": 31,
   "id": "b4f55c9080b72d7d",
   "metadata": {
    "ExecuteTime": {
     "end_time": "2024-09-11T08:28:51.289586Z",
     "start_time": "2024-09-11T08:03:22.932829Z"
    }
   },
   "outputs": [],
   "source": [
    "return_df = retriever.get_binding_distances(selected_embeds, pep_list)"
   ]
  },
  {
   "cell_type": "code",
   "execution_count": 32,
   "id": "870278049307787f",
   "metadata": {
    "ExecuteTime": {
     "end_time": "2024-09-11T08:35:29.722628Z",
     "start_time": "2024-09-11T08:35:23.122747Z"
    }
   },
   "outputs": [
    {
     "data": {
      "text/plain": [
       "array([[467857, 457703, 446558, 446214, 446231,  27333,   2979,   1989,\n",
       "             0,      0,      0,      0,      0],\n",
       "       [457703, 852096, 806265, 828448, 819880, 221825, 145681, 133381,\n",
       "             0,      0,  22711,   1322,  11035],\n",
       "       [446558, 806265, 908650, 881156, 897685, 296037, 241485, 212226,\n",
       "         19669,  32077,  89424,  55444,  72441],\n",
       "       [446214, 828448, 881156, 910030, 899317, 285001, 219865, 188923,\n",
       "          4327,  13261,  67710,  35497,  51442],\n",
       "       [446231, 819880, 897685, 899317, 925459, 305375, 244876, 204693,\n",
       "         12351,  24119,  81093,  46766,  63825],\n",
       "       [ 27333, 221825, 296037, 285001, 305375, 537060, 449444, 269798,\n",
       "        110610, 128174, 170216, 120531, 144519],\n",
       "       [  2979, 145681, 241485, 219865, 244876, 449444, 848449, 633073,\n",
       "        489231, 512484, 563763, 510764, 536433],\n",
       "       [  1989, 133381, 212226, 188923, 204693, 269798, 633073, 816754,\n",
       "        597084, 617517, 685965, 636892, 661757],\n",
       "       [     0,      0,  19669,   4327,  12351, 110610, 489231, 597084,\n",
       "        765429, 762447, 721752, 725101, 721774],\n",
       "       [     0,      0,  32077,  13261,  24119, 128174, 512484, 617517,\n",
       "        762447, 788241, 743705, 740193, 740167],\n",
       "       [     0,  22711,  89424,  67710,  81093, 170216, 563763, 685965,\n",
       "        721752, 743705, 814157, 757673, 783718],\n",
       "       [     0,   1322,  55444,  35497,  46766, 120531, 510764, 636892,\n",
       "        725101, 740193, 757673, 771799, 761529],\n",
       "       [     0,  11035,  72441,  51442,  63825, 144519, 536433, 661757,\n",
       "        721774, 740167, 783718, 761529, 788527]])"
      ]
     },
     "execution_count": 32,
     "metadata": {},
     "output_type": "execute_result"
    }
   ],
   "source": [
    "indices = [np.where(return_df[:, col] <= 0.2)[0] for col in range(return_df.shape[1])]\n",
    "num_cols = return_df.shape[1]\n",
    "intersection_matrix = np.zeros((num_cols, num_cols), dtype=int)\n",
    "\n",
    "for i in range(num_cols):\n",
    "    for j in range(i, num_cols):\n",
    "        common_count = len(np.intersect1d(indices[i], indices[j]))\n",
    "        intersection_matrix[i, j] = common_count\n",
    "        intersection_matrix[j, i] = common_count\n",
    "intersection_matrix"
   ]
  },
  {
   "cell_type": "code",
   "execution_count": 33,
   "id": "d62acafbca83a715",
   "metadata": {
    "ExecuteTime": {
     "end_time": "2024-09-11T08:35:39.983873Z",
     "start_time": "2024-09-11T08:35:39.968259Z"
    }
   },
   "outputs": [],
   "source": [
    "df = pd.DataFrame(intersection_matrix)\n",
    "\n",
    "output_file = \"data/fig3a_cluster1_within_cluster_overlap_info.xlsx\"\n",
    "df.to_excel(output_file, index=False, header=False)"
   ]
  },
  {
   "cell_type": "code",
   "execution_count": 34,
   "id": "ea0e502a4f6ced2c",
   "metadata": {
    "ExecuteTime": {
     "end_time": "2024-09-11T08:35:42.504591Z",
     "start_time": "2024-09-11T08:35:42.479690Z"
    }
   },
   "outputs": [],
   "source": [
    "dist_matrix = retriever.get_embedding_distances(selected_embeds, selected_embeds)\n",
    "df = pd.DataFrame(np.round(dist_matrix, decimals=2))\n",
    "output_file = \"data/fig3a_cluster1_within_cluster_dist_info.xlsx\"\n",
    "df.to_excel(output_file, index=False, header=False)"
   ]
  },
  {
   "cell_type": "code",
   "execution_count": null,
   "id": "1bf206857ca9282a",
   "metadata": {},
   "outputs": [],
   "source": []
  }
 ],
 "metadata": {
  "kernelspec": {
   "display_name": "Python 3",
   "language": "python",
   "name": "python3"
  },
  "language_info": {
   "codemirror_mode": {
    "name": "ipython",
    "version": 2
   },
   "file_extension": ".py",
   "mimetype": "text/x-python",
   "name": "python",
   "nbconvert_exporter": "python",
   "pygments_lexer": "ipython2",
   "version": "2.7.6"
  }
 },
 "nbformat": 4,
 "nbformat_minor": 5
}

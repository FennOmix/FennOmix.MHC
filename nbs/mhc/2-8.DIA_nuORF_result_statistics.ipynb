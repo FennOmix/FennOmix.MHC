{
 "cells": [
  {
   "metadata": {
    "ExecuteTime": {
     "end_time": "2024-11-04T14:15:35.118578Z",
     "start_time": "2024-11-04T14:15:30.978781Z"
    }
   },
   "cell_type": "code",
   "source": [
    "import pandas as pd\n",
    "\n",
    "protein_id_list = []\n",
    "protein_sequence_list = []\n",
    "f = open(\"/Users/chengjintao/Desktop/hla/test_cjt/data/PXD034772/ori_fasta/PA_nuORFdb_v1.0.fasta\", 'r')\n",
    "text = f.readlines()\n",
    "\n",
    "for line in text:\n",
    "    if \">\" in line:\n",
    "        protein_id_list.append(line.split(\">\")[1].split(\"\\n\")[0])\n",
    "        protein_sequence_list.append(\"\")\n",
    "    else:\n",
    "        protein_sequence_list[-1] += line.replace(\"\\n\", \"\")\n",
    "        \n",
    "from alphabase.protein import fasta\n",
    "\n",
    "nuORF_protein_df = pd.DataFrame(\n",
    "    {\n",
    "        \"protein_id\": protein_id_list,\n",
    "        \"sequence\": protein_sequence_list,\n",
    "        \"gene_org\": \"HUMAN\"\n",
    "    }\n",
    ")\n",
    "nuORF_protein_df"
   ],
   "id": "64d7498bc2a930f0",
   "outputs": [
    {
     "data": {
      "text/plain": [
       "                                               protein_id  \\\n",
       "0       ENST00000616016.4_1_1:861321-878072:+|GN=SAMD1...   \n",
       "1       ENST00000342066.7_2_1:861321-879530:+|GN=SAMD1...   \n",
       "2       ENST00000618181.4_2_1:861321-879530:+|GN=SAMD1...   \n",
       "3       ENST00000622503.4_2_1:861321-879530:+|GN=SAMD1...   \n",
       "4       ENST00000618779.4_2_1:861321-879530:+|GN=SAMD1...   \n",
       "...                                                   ...   \n",
       "323843  ENST00000490936.5_1_X:153582808-153583009:-|GN...   \n",
       "323844  ENST00000372382.8_1_X:106965231-106965261:-|GN...   \n",
       "323845  ENST00000372382.8_1_X:106959151-106965182:-|GN...   \n",
       "323846  ENST00000445125.2_1_Y:10036391-10036418:-|GN=A...   \n",
       "323847  ENST00000445125.2_1_Y:10035431-10035515:-|GN=A...   \n",
       "\n",
       "                                                 sequence gene_org  \n",
       "0       MSKGILQVHPPICDCPGCRISSPVNRGRLADKRTVALPAARNLKKE...    HUMAN  \n",
       "1       MSKGILQVHPPICDCPGCRISSPVNRGRLADKRTVALPAARNLKKE...    HUMAN  \n",
       "2       MSKGILQVHPPICDCPGCRISSPVNRGRLADKRTVALPAARNLKKE...    HUMAN  \n",
       "3       MSKGILQVHPPICDCPGCRISSPVNRGRLADKRTVALPAARNLKKE...    HUMAN  \n",
       "4       MSKGILQVHPPICDCPGCRISSPVNRGRLADKRTVALPAARNLKKE...    HUMAN  \n",
       "...                                                   ...      ...  \n",
       "323843                             TPRAASRLGPRRGPWWVSMGWM    HUMAN  \n",
       "323844                                          IFHETKVTM    HUMAN  \n",
       "323845           KGREKISEKQGQIKPWHFSLLIPPASSEKGTMPPEPAWWP    HUMAN  \n",
       "323846                                           LPRRVGTR    HUMAN  \n",
       "323847                        IYAIGAGITVAAGTRLALQWILLKDLK    HUMAN  \n",
       "\n",
       "[323848 rows x 3 columns]"
      ],
      "text/html": [
       "<div>\n",
       "<style scoped>\n",
       "    .dataframe tbody tr th:only-of-type {\n",
       "        vertical-align: middle;\n",
       "    }\n",
       "\n",
       "    .dataframe tbody tr th {\n",
       "        vertical-align: top;\n",
       "    }\n",
       "\n",
       "    .dataframe thead th {\n",
       "        text-align: right;\n",
       "    }\n",
       "</style>\n",
       "<table border=\"1\" class=\"dataframe\">\n",
       "  <thead>\n",
       "    <tr style=\"text-align: right;\">\n",
       "      <th></th>\n",
       "      <th>protein_id</th>\n",
       "      <th>sequence</th>\n",
       "      <th>gene_org</th>\n",
       "    </tr>\n",
       "  </thead>\n",
       "  <tbody>\n",
       "    <tr>\n",
       "      <th>0</th>\n",
       "      <td>ENST00000616016.4_1_1:861321-878072:+|GN=SAMD1...</td>\n",
       "      <td>MSKGILQVHPPICDCPGCRISSPVNRGRLADKRTVALPAARNLKKE...</td>\n",
       "      <td>HUMAN</td>\n",
       "    </tr>\n",
       "    <tr>\n",
       "      <th>1</th>\n",
       "      <td>ENST00000342066.7_2_1:861321-879530:+|GN=SAMD1...</td>\n",
       "      <td>MSKGILQVHPPICDCPGCRISSPVNRGRLADKRTVALPAARNLKKE...</td>\n",
       "      <td>HUMAN</td>\n",
       "    </tr>\n",
       "    <tr>\n",
       "      <th>2</th>\n",
       "      <td>ENST00000618181.4_2_1:861321-879530:+|GN=SAMD1...</td>\n",
       "      <td>MSKGILQVHPPICDCPGCRISSPVNRGRLADKRTVALPAARNLKKE...</td>\n",
       "      <td>HUMAN</td>\n",
       "    </tr>\n",
       "    <tr>\n",
       "      <th>3</th>\n",
       "      <td>ENST00000622503.4_2_1:861321-879530:+|GN=SAMD1...</td>\n",
       "      <td>MSKGILQVHPPICDCPGCRISSPVNRGRLADKRTVALPAARNLKKE...</td>\n",
       "      <td>HUMAN</td>\n",
       "    </tr>\n",
       "    <tr>\n",
       "      <th>4</th>\n",
       "      <td>ENST00000618779.4_2_1:861321-879530:+|GN=SAMD1...</td>\n",
       "      <td>MSKGILQVHPPICDCPGCRISSPVNRGRLADKRTVALPAARNLKKE...</td>\n",
       "      <td>HUMAN</td>\n",
       "    </tr>\n",
       "    <tr>\n",
       "      <th>...</th>\n",
       "      <td>...</td>\n",
       "      <td>...</td>\n",
       "      <td>...</td>\n",
       "    </tr>\n",
       "    <tr>\n",
       "      <th>323843</th>\n",
       "      <td>ENST00000490936.5_1_X:153582808-153583009:-|GN...</td>\n",
       "      <td>TPRAASRLGPRRGPWWVSMGWM</td>\n",
       "      <td>HUMAN</td>\n",
       "    </tr>\n",
       "    <tr>\n",
       "      <th>323844</th>\n",
       "      <td>ENST00000372382.8_1_X:106965231-106965261:-|GN...</td>\n",
       "      <td>IFHETKVTM</td>\n",
       "      <td>HUMAN</td>\n",
       "    </tr>\n",
       "    <tr>\n",
       "      <th>323845</th>\n",
       "      <td>ENST00000372382.8_1_X:106959151-106965182:-|GN...</td>\n",
       "      <td>KGREKISEKQGQIKPWHFSLLIPPASSEKGTMPPEPAWWP</td>\n",
       "      <td>HUMAN</td>\n",
       "    </tr>\n",
       "    <tr>\n",
       "      <th>323846</th>\n",
       "      <td>ENST00000445125.2_1_Y:10036391-10036418:-|GN=A...</td>\n",
       "      <td>LPRRVGTR</td>\n",
       "      <td>HUMAN</td>\n",
       "    </tr>\n",
       "    <tr>\n",
       "      <th>323847</th>\n",
       "      <td>ENST00000445125.2_1_Y:10035431-10035515:-|GN=A...</td>\n",
       "      <td>IYAIGAGITVAAGTRLALQWILLKDLK</td>\n",
       "      <td>HUMAN</td>\n",
       "    </tr>\n",
       "  </tbody>\n",
       "</table>\n",
       "<p>323848 rows × 3 columns</p>\n",
       "</div>"
      ]
     },
     "execution_count": 1,
     "metadata": {},
     "output_type": "execute_result"
    }
   ],
   "execution_count": 1
  },
  {
   "metadata": {
    "ExecuteTime": {
     "end_time": "2024-11-04T14:15:37.239572Z",
     "start_time": "2024-11-04T14:15:37.062915Z"
    }
   },
   "cell_type": "code",
   "source": [
    "import pandas as pd\n",
    "\n",
    "nuORF_summary_df = pd.read_excel(\"~/Desktop/hla/test_cjt/data/PXD034772/DIA-nuORF/dia_nuorf_result_compare.xlsx\")"
   ],
   "id": "2d67cdb19071732a",
   "outputs": [],
   "execution_count": 2
  },
  {
   "metadata": {
    "ExecuteTime": {
     "end_time": "2024-11-04T14:15:44.806888Z",
     "start_time": "2024-11-04T14:15:44.802320Z"
    }
   },
   "cell_type": "code",
   "source": [
    "files = []\n",
    "base_path = \"/Users/chengjintao/Desktop/hla/test_cjt/data/PXD034772/DIA-nuORF\"\n",
    "for i in range(nuORF_summary_df.shape[0]):\n",
    "    tmp_id = nuORF_summary_df.loc[i, \"sample_id\"]\n",
    "    tmp_id = tmp_id.replace(\"_\", \"-\")\n",
    "    tmp_file = f\"{base_path}/{tmp_id}/report-1.tsv\"\n",
    "    files.append(tmp_file)\n",
    "files"
   ],
   "id": "e4671e4321a35206",
   "outputs": [
    {
     "data": {
      "text/plain": [
       "['/Users/chengjintao/Desktop/hla/test_cjt/data/PXD034772/DIA-nuORF/C3N-02287-01/report-1.tsv',\n",
       " '/Users/chengjintao/Desktop/hla/test_cjt/data/PXD034772/DIA-nuORF/C3N-02287-02/report-1.tsv',\n",
       " '/Users/chengjintao/Desktop/hla/test_cjt/data/PXD034772/DIA-nuORF/C3N-02287-04/report-1.tsv',\n",
       " '/Users/chengjintao/Desktop/hla/test_cjt/data/PXD034772/DIA-nuORF/C3N-02287-05/report-1.tsv',\n",
       " '/Users/chengjintao/Desktop/hla/test_cjt/data/PXD034772/DIA-nuORF/C3N-02287-06/report-1.tsv',\n",
       " '/Users/chengjintao/Desktop/hla/test_cjt/data/PXD034772/DIA-nuORF/C3N-02287-07/report-1.tsv',\n",
       " '/Users/chengjintao/Desktop/hla/test_cjt/data/PXD034772/DIA-nuORF/C3N-02287-10/report-1.tsv',\n",
       " '/Users/chengjintao/Desktop/hla/test_cjt/data/PXD034772/DIA-nuORF/C3N-02288-01/report-1.tsv',\n",
       " '/Users/chengjintao/Desktop/hla/test_cjt/data/PXD034772/DIA-nuORF/C3N-02288-02/report-1.tsv',\n",
       " '/Users/chengjintao/Desktop/hla/test_cjt/data/PXD034772/DIA-nuORF/C3N-02288-05/report-1.tsv',\n",
       " '/Users/chengjintao/Desktop/hla/test_cjt/data/PXD034772/DIA-nuORF/C3N-02288-06/report-1.tsv',\n",
       " '/Users/chengjintao/Desktop/hla/test_cjt/data/PXD034772/DIA-nuORF/C3N-02288-08/report-1.tsv',\n",
       " '/Users/chengjintao/Desktop/hla/test_cjt/data/PXD034772/DIA-nuORF/C3N-02288-10/report-1.tsv',\n",
       " '/Users/chengjintao/Desktop/hla/test_cjt/data/PXD034772/DIA-nuORF/C3N-02289-01/report-1.tsv',\n",
       " '/Users/chengjintao/Desktop/hla/test_cjt/data/PXD034772/DIA-nuORF/C3N-02289-02/report-1.tsv',\n",
       " '/Users/chengjintao/Desktop/hla/test_cjt/data/PXD034772/DIA-nuORF/C3N-02289-03/report-1.tsv',\n",
       " '/Users/chengjintao/Desktop/hla/test_cjt/data/PXD034772/DIA-nuORF/C3N-02289-08/report-1.tsv',\n",
       " '/Users/chengjintao/Desktop/hla/test_cjt/data/PXD034772/DIA-nuORF/C3N-02290-03/report-1.tsv',\n",
       " '/Users/chengjintao/Desktop/hla/test_cjt/data/PXD034772/DIA-nuORF/C3N-02290-04/report-1.tsv',\n",
       " '/Users/chengjintao/Desktop/hla/test_cjt/data/PXD034772/DIA-nuORF/C3N-02290-05/report-1.tsv',\n",
       " '/Users/chengjintao/Desktop/hla/test_cjt/data/PXD034772/DIA-nuORF/C3N-02290-06/report-1.tsv',\n",
       " '/Users/chengjintao/Desktop/hla/test_cjt/data/PXD034772/DIA-nuORF/C3N-02290-08/report-1.tsv',\n",
       " '/Users/chengjintao/Desktop/hla/test_cjt/data/PXD034772/DIA-nuORF/C3N-02290-10/report-1.tsv',\n",
       " '/Users/chengjintao/Desktop/hla/test_cjt/data/PXD034772/DIA-nuORF/C3N-02671-02/report-1.tsv',\n",
       " '/Users/chengjintao/Desktop/hla/test_cjt/data/PXD034772/DIA-nuORF/C3N-02671-03/report-1.tsv',\n",
       " '/Users/chengjintao/Desktop/hla/test_cjt/data/PXD034772/DIA-nuORF/C3N-02671-04/report-1.tsv',\n",
       " '/Users/chengjintao/Desktop/hla/test_cjt/data/PXD034772/DIA-nuORF/C3N-02671-05/report-1.tsv',\n",
       " '/Users/chengjintao/Desktop/hla/test_cjt/data/PXD034772/DIA-nuORF/C3N-02672-03/report-1.tsv',\n",
       " '/Users/chengjintao/Desktop/hla/test_cjt/data/PXD034772/DIA-nuORF/C3N-02672-04/report-1.tsv',\n",
       " '/Users/chengjintao/Desktop/hla/test_cjt/data/PXD034772/DIA-nuORF/C3N-02672-06/report-1.tsv',\n",
       " '/Users/chengjintao/Desktop/hla/test_cjt/data/PXD034772/DIA-nuORF/C3N-02672-07/report-1.tsv',\n",
       " '/Users/chengjintao/Desktop/hla/test_cjt/data/PXD034772/DIA-nuORF/C3N-03023-01/report-1.tsv',\n",
       " '/Users/chengjintao/Desktop/hla/test_cjt/data/PXD034772/DIA-nuORF/C3N-03023-03/report-1.tsv',\n",
       " '/Users/chengjintao/Desktop/hla/test_cjt/data/PXD034772/DIA-nuORF/C3N-03023-04/report-1.tsv',\n",
       " '/Users/chengjintao/Desktop/hla/test_cjt/data/PXD034772/DIA-nuORF/C3N-03023-05/report-1.tsv',\n",
       " '/Users/chengjintao/Desktop/hla/test_cjt/data/PXD034772/DIA-nuORF/C3N-03023-06/report-1.tsv',\n",
       " '/Users/chengjintao/Desktop/hla/test_cjt/data/PXD034772/DIA-nuORF/C3N-03023-07/report-1.tsv',\n",
       " '/Users/chengjintao/Desktop/hla/test_cjt/data/PXD034772/DIA-nuORF/C3N-03023-09-10/report-1.tsv',\n",
       " '/Users/chengjintao/Desktop/hla/test_cjt/data/PXD034772/DIA-nuORF/C3N-03421-02/report-1.tsv',\n",
       " '/Users/chengjintao/Desktop/hla/test_cjt/data/PXD034772/DIA-nuORF/C3N-03421-03/report-1.tsv',\n",
       " '/Users/chengjintao/Desktop/hla/test_cjt/data/PXD034772/DIA-nuORF/C3N-03421-05/report-1.tsv',\n",
       " '/Users/chengjintao/Desktop/hla/test_cjt/data/PXD034772/DIA-nuORF/C3N-03421-06/report-1.tsv',\n",
       " '/Users/chengjintao/Desktop/hla/test_cjt/data/PXD034772/DIA-nuORF/C3N-03421-07/report-1.tsv',\n",
       " '/Users/chengjintao/Desktop/hla/test_cjt/data/PXD034772/DIA-nuORF/C3N-03421-08/report-1.tsv',\n",
       " '/Users/chengjintao/Desktop/hla/test_cjt/data/PXD034772/DIA-nuORF/C3N-03421-10/report-1.tsv']"
      ]
     },
     "execution_count": 3,
     "metadata": {},
     "output_type": "execute_result"
    }
   ],
   "execution_count": 3
  },
  {
   "metadata": {
    "ExecuteTime": {
     "end_time": "2024-11-04T14:19:28.927355Z",
     "start_time": "2024-11-04T14:16:02.603769Z"
    }
   },
   "cell_type": "code",
   "source": [
    "nuORF_summary_df[\"new\"] = [0] * nuORF_summary_df.shape[0]\n",
    "\n",
    "for i in range(len(files)):\n",
    "    nuORF_df = pd.read_table(files[i])\n",
    "    tmp_precursor_df = pd.DataFrame(\n",
    "        {\n",
    "            'charge': nuORF_df[\"Precursor.Charge\"],\n",
    "            'sequence': nuORF_df[\"Stripped.Sequence\"],\n",
    "        }\n",
    "    )\n",
    "    output_precursor_df = fasta.annotate_precursor_df(tmp_precursor_df, nuORF_protein_df)\n",
    "    output_precursor_df.drop_duplicates(subset=\"sequence\", keep=\"first\", inplace=True)\n",
    "    nuORF_peptide_list = []\n",
    "    for k in range(output_precursor_df.shape[0]):\n",
    "        protein_id_list = output_precursor_df.iloc[k][\"proteins\"]\n",
    "        if \"Canonical\" in protein_id_list:\n",
    "            continue\n",
    "        else:\n",
    "            nuORF_peptide_list.append(output_precursor_df.iloc[k][\"sequence\"])    \n",
    "    nuORF_summary_df.loc[i, \"new\"] = len(list(set(nuORF_peptide_list)))\n"
   ],
   "id": "5500f4a62dc30376",
   "outputs": [
    {
     "name": "stderr",
     "output_type": "stream",
     "text": [
      "100%|██████████| 323848/323848 [00:03<00:00, 97797.17it/s] \n",
      "100%|██████████| 323848/323848 [00:03<00:00, 95704.37it/s] \n",
      "100%|██████████| 323848/323848 [00:03<00:00, 99005.69it/s] \n",
      "100%|██████████| 323848/323848 [00:03<00:00, 103851.36it/s]\n",
      "100%|██████████| 323848/323848 [00:03<00:00, 103008.63it/s]\n",
      "100%|██████████| 323848/323848 [00:03<00:00, 101622.43it/s]\n",
      "100%|██████████| 323848/323848 [00:03<00:00, 98860.47it/s] \n",
      "100%|██████████| 323848/323848 [00:03<00:00, 102049.35it/s]\n",
      "100%|██████████| 323848/323848 [00:03<00:00, 101714.31it/s]\n",
      "100%|██████████| 323848/323848 [00:02<00:00, 117915.86it/s]\n",
      "100%|██████████| 323848/323848 [00:02<00:00, 123692.84it/s]\n",
      "100%|██████████| 323848/323848 [00:03<00:00, 102505.60it/s]\n",
      "100%|██████████| 323848/323848 [00:03<00:00, 97943.11it/s] \n",
      "100%|██████████| 323848/323848 [00:03<00:00, 98239.44it/s] \n",
      "100%|██████████| 323848/323848 [00:03<00:00, 97919.82it/s] \n",
      "100%|██████████| 323848/323848 [00:03<00:00, 99204.95it/s] \n",
      "100%|██████████| 323848/323848 [00:03<00:00, 94317.39it/s] \n",
      "100%|██████████| 323848/323848 [00:03<00:00, 105471.38it/s]\n",
      "100%|██████████| 323848/323848 [00:02<00:00, 110215.66it/s]\n",
      "100%|██████████| 323848/323848 [00:02<00:00, 108074.41it/s]\n",
      "100%|██████████| 323848/323848 [00:02<00:00, 108281.25it/s]\n",
      "100%|██████████| 323848/323848 [00:02<00:00, 109203.13it/s]\n",
      "100%|██████████| 323848/323848 [00:02<00:00, 109417.54it/s]\n",
      "100%|██████████| 323848/323848 [00:03<00:00, 106421.26it/s]\n",
      "100%|██████████| 323848/323848 [00:03<00:00, 102771.81it/s]\n",
      "100%|██████████| 323848/323848 [00:03<00:00, 100071.81it/s]\n",
      "100%|██████████| 323848/323848 [00:03<00:00, 104079.44it/s]\n",
      "100%|██████████| 323848/323848 [00:03<00:00, 93088.66it/s] \n",
      "100%|██████████| 323848/323848 [00:03<00:00, 95019.60it/s] \n",
      "100%|██████████| 323848/323848 [00:03<00:00, 94629.41it/s] \n",
      "100%|██████████| 323848/323848 [00:03<00:00, 94228.97it/s] \n",
      "100%|██████████| 323848/323848 [00:03<00:00, 104111.38it/s]\n",
      "100%|██████████| 323848/323848 [00:03<00:00, 95510.32it/s] \n",
      "100%|██████████| 323848/323848 [00:03<00:00, 105664.48it/s]\n",
      "100%|██████████| 323848/323848 [00:03<00:00, 99843.20it/s] \n",
      "100%|██████████| 323848/323848 [00:03<00:00, 105343.66it/s]\n",
      "100%|██████████| 323848/323848 [00:03<00:00, 100551.96it/s]\n",
      "100%|██████████| 323848/323848 [00:03<00:00, 104325.72it/s]\n",
      "100%|██████████| 323848/323848 [00:03<00:00, 95630.90it/s] \n",
      "100%|██████████| 323848/323848 [00:03<00:00, 96558.11it/s] \n",
      "100%|██████████| 323848/323848 [00:03<00:00, 99695.18it/s] \n",
      "100%|██████████| 323848/323848 [00:03<00:00, 102086.12it/s]\n",
      "100%|██████████| 323848/323848 [00:03<00:00, 97021.31it/s] \n",
      "100%|██████████| 323848/323848 [00:03<00:00, 95246.92it/s] \n",
      "100%|██████████| 323848/323848 [00:03<00:00, 101630.49it/s]\n"
     ]
    }
   ],
   "execution_count": 4
  },
  {
   "metadata": {
    "ExecuteTime": {
     "end_time": "2024-11-04T14:20:37.916945Z",
     "start_time": "2024-11-04T14:20:37.893410Z"
    }
   },
   "cell_type": "code",
   "source": "nuORF_summary_df.to_excel(\"~/Desktop/hla/test_cjt/data/PXD034772/DIA-nuORF/dia_nuorf_result_compare.xlsx\", index=False)",
   "id": "b7c6c1ca1029f233",
   "outputs": [],
   "execution_count": 5
  },
  {
   "metadata": {
    "ExecuteTime": {
     "end_time": "2024-11-04T14:21:05.688342Z",
     "start_time": "2024-11-04T14:21:05.037556Z"
    }
   },
   "cell_type": "code",
   "source": [
    "import numpy as np\n",
    "import matplotlib.pyplot as plt\n",
    "\n",
    "plt.rcParams['font.family'] = 'Arial'\n",
    "plt.figure(figsize=(20, 8))\n",
    "# 设置柱状图的位置和宽度\n",
    "bar_width = 1\n",
    "index = 4*np.arange(nuORF_summary_df.shape[0])\n",
    "\n",
    "# 绘制柱状图\n",
    "plt.bar(index, nuORF_summary_df[\"originial\"], bar_width, label=\"Original\")\n",
    "plt.bar(index + bar_width, nuORF_summary_df[\"new\"], bar_width, label=\"New\")\n",
    "\n",
    "# 添加标题和轴标签\n",
    "plt.xlabel('Sample id')\n",
    "plt.ylabel('Unique peptides number')\n",
    "\n",
    "# 显示图例\n",
    "plt.legend()\n",
    "\n",
    "# 在X轴上设置类别标签\n",
    "plt.xticks(index + bar_width / 2, nuORF_summary_df[\"sample_id\"], rotation=90)\n",
    "\n",
    "# 显示图表\n",
    "# plt.tight_layout()\n",
    "plt.savefig('/Users/chengjintao/Desktop/hla/test_cjt/figures/fig2_dia_nuORF.svg', format='svg', dpi=300, bbox_inches='tight')"
   ],
   "id": "93e9178faed097b",
   "outputs": [
    {
     "data": {
      "text/plain": [
       "<Figure size 2000x800 with 1 Axes>"
      ],
      "image/png": "[encoded data removed]"
     },
     "metadata": {},
     "output_type": "display_data"
    }
   ],
   "execution_count": 7
  },
  {
   "metadata": {},
   "cell_type": "code",
   "outputs": [],
   "execution_count": null,
   "source": "",
   "id": "dfc372f286ae9bd3"
  }
 ],
 "metadata": {
  "kernelspec": {
   "display_name": "Python 3",
   "language": "python",
   "name": "python3"
  },
  "language_info": {
   "codemirror_mode": {
    "name": "ipython",
    "version": 2
   },
   "file_extension": ".py",
   "mimetype": "text/x-python",
   "name": "python",
   "nbconvert_exporter": "python",
   "pygments_lexer": "ipython2",
   "version": "2.7.6"
  }
 },
 "nbformat": 4,
 "nbformat_minor": 5
}

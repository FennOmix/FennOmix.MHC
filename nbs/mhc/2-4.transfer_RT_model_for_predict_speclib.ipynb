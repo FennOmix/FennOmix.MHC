{
 "cells": [
  {
   "cell_type": "code",
   "id": "initial_id",
   "metadata": {
    "collapsed": true,
    "ExecuteTime": {
     "end_time": "2024-08-13T08:04:14.456612Z",
     "start_time": "2024-08-13T08:04:14.452120Z"
    }
   },
   "source": [
    "nce = 27\n",
    "instrument = 'QE'\n",
    "\n",
    "var_mods = []\n",
    "fix_mods = []\n",
    "\n",
    "labeling_channels = {}\n",
    "\n",
    "mod_map = {\n",
    "    # \"Cysteinyl@C\": [\"C[Cysteinyl]\"],\n",
    "    # 'Dimethyl@K':['K[Dimethyl (K)]',\"K(UniMod:36)\"],\n",
    "    # 'Dimethyl@Any N-term':['_[Dimethyl (K)]',\"_(UniMod:36)\"],\n",
    "}\n",
    "\n",
    "max_var_mods = 0\n",
    "min_pep_mz = 300\n",
    "max_pep_mz = 1650\n",
    "precursor_charge_min = 1\n",
    "precursor_charge_max = 3\n"
   ],
   "outputs": [],
   "execution_count": 1
  },
  {
   "metadata": {
    "ExecuteTime": {
     "end_time": "2024-08-13T08:04:14.913158Z",
     "start_time": "2024-08-13T08:04:14.909168Z"
    }
   },
   "cell_type": "code",
   "source": [
    "rt_ccs_refining_tsv_list = [\n",
    "    \"data/PXD034772/C3N-03023-DIA/C3N-03023-01/report.tsv\"\n",
    "]\n",
    "rt_ccs_refining_tsv_type = \"diann\" # diann or swath\n",
    "fine_tune = True\n",
    "transfer_ms2 = False # always False for diann"
   ],
   "id": "4308fcb3c03d8aaa",
   "outputs": [],
   "execution_count": 2
  },
  {
   "metadata": {
    "ExecuteTime": {
     "end_time": "2024-08-13T08:04:21.190997Z",
     "start_time": "2024-08-13T08:04:15.580343Z"
    }
   },
   "cell_type": "code",
   "source": [
    "from peptdeep.pretrained_models import ModelManager\n",
    "from alphabase.peptide.fragment import get_charged_frag_types\n",
    "\n",
    "frag_types = get_charged_frag_types(['b','y'], 2)\n"
   ],
   "id": "5bd856eb9d805548",
   "outputs": [],
   "execution_count": 3
  },
  {
   "metadata": {
    "ExecuteTime": {
     "end_time": "2024-08-13T08:04:23.235523Z",
     "start_time": "2024-08-13T08:04:21.192204Z"
    }
   },
   "cell_type": "code",
   "source": [
    "model_mgr = ModelManager()\n",
    "model_mgr.load_installed_models()\n",
    "model_mgr.nce = nce\n",
    "model_mgr.instrument = instrument"
   ],
   "id": "dc11478fcf293656",
   "outputs": [],
   "execution_count": 4
  },
  {
   "metadata": {
    "ExecuteTime": {
     "end_time": "2024-08-13T08:04:56.152716Z",
     "start_time": "2024-08-13T08:04:23.236981Z"
    }
   },
   "cell_type": "code",
   "source": [
    "def train():\n",
    "    if transfer_ms2:\n",
    "        from alphabase.spectral_library.reader import LibraryReaderBase as Reader\n",
    "        lib = Reader()\n",
    "    else:\n",
    "        from alphabase.psm_reader.psm_reader import psm_reader_provider\n",
    "        lib = psm_reader_provider.get_reader(rt_ccs_refining_tsv_type)\n",
    "\n",
    "    lib.add_modification_mapping(mod_map)\n",
    "    lib.import_files(set(rt_ccs_refining_tsv_list))\n",
    "    model_mgr.train_verbose = True\n",
    "    if transfer_ms2:\n",
    "        model_mgr.epoch_to_train_ms2 = 50\n",
    "        model_mgr.warmup_epoch_to_train_ms2 = 10\n",
    "        model_mgr.psm_num_to_train_ms2 = 20000\n",
    "        model_mgr.psm_num_to_test_rt_ccs = 20000\n",
    "        model_mgr.train_ms2_model(lib.psm_df)\n",
    "    model_mgr.epoch_to_train_rt_ccs = 100\n",
    "    model_mgr.warmup_epoch_to_train_rt_ccs = 20\n",
    "    model_mgr.psm_num_to_train_rt_ccs = 15000\n",
    "    model_mgr.psm_num_to_test_rt_ccs = 15000\n",
    "    \n",
    "    model_mgr.train_rt_model(lib.psm_df)\n",
    "    # if \"ccs\" in lib.psm_df.columns:\n",
    "    #     model_mgr.train_ccs_model(lib.psm_df)\n",
    "    return lib.psm_df\n",
    "if fine_tune:\n",
    "    psm_df = train()"
   ],
   "id": "7a2298bdcf2deb0",
   "outputs": [
    {
     "name": "stdout",
     "output_type": "stream",
     "text": [
      "2024-08-13 16:04:37> 15000 PSMs for RT model training/transfer learning\n",
      "2024-08-13 16:04:37> Testing pretrained RT model:\n",
      "   R_square         R     slope  intercept  test_num\n",
      "0  0.978783  0.989335  0.814465   0.262977      1498\n",
      "2024-08-13 16:04:37> Training with fixed sequence length: 0\n",
      "[Training] Epoch=1, lr=5e-06, loss=0.18458417430520058\n",
      "[Training] Epoch=2, lr=1e-05, loss=0.18344332799315452\n",
      "[Training] Epoch=3, lr=1.5e-05, loss=0.17880204543471337\n",
      "[Training] Epoch=4, lr=2e-05, loss=0.17138897702097894\n",
      "[Training] Epoch=5, lr=2.5e-05, loss=0.15987767577171325\n",
      "[Training] Epoch=6, lr=3e-05, loss=0.1450254376977682\n",
      "[Training] Epoch=7, lr=3.5e-05, loss=0.12637543454766273\n",
      "[Training] Epoch=8, lr=4e-05, loss=0.1011561531573534\n",
      "[Training] Epoch=9, lr=4.5e-05, loss=0.07388038765639067\n",
      "[Training] Epoch=10, lr=5e-05, loss=0.05448633227497339\n",
      "[Training] Epoch=11, lr=5.500000000000001e-05, loss=0.04625553283840418\n",
      "[Training] Epoch=12, lr=6e-05, loss=0.03895826507359743\n",
      "[Training] Epoch=13, lr=6.500000000000001e-05, loss=0.03380271624773741\n",
      "[Training] Epoch=14, lr=7e-05, loss=0.02961973687633872\n",
      "[Training] Epoch=15, lr=7.500000000000001e-05, loss=0.026469140872359277\n",
      "[Training] Epoch=16, lr=8e-05, loss=0.023511258605867624\n",
      "[Training] Epoch=17, lr=8.5e-05, loss=0.02208589743822813\n",
      "[Training] Epoch=18, lr=9e-05, loss=0.020106621272861957\n",
      "[Training] Epoch=19, lr=9.5e-05, loss=0.01836069505661726\n",
      "[Training] Epoch=20, lr=0.0001, loss=0.017042463645339012\n",
      "[Training] Epoch=21, lr=9.996145181203615e-05, loss=0.01579669283237308\n",
      "[Training] Epoch=22, lr=9.98458666866564e-05, loss=0.015230410057120026\n",
      "[Training] Epoch=23, lr=9.965342284774632e-05, loss=0.014952656533569097\n",
      "[Training] Epoch=24, lr=9.938441702975689e-05, loss=0.014106628205627202\n",
      "[Training] Epoch=25, lr=9.903926402016153e-05, loss=0.013804369885474444\n",
      "[Training] Epoch=26, lr=9.861849601988383e-05, loss=0.01352172060869634\n",
      "[Training] Epoch=27, lr=9.812276182268236e-05, loss=0.012942001316696405\n",
      "[Training] Epoch=28, lr=9.755282581475769e-05, loss=0.012485916400328279\n",
      "[Training] Epoch=29, lr=9.690956679612421e-05, loss=0.01254974810872227\n",
      "[Training] Epoch=30, lr=9.619397662556435e-05, loss=0.01272922195494175\n",
      "[Training] Epoch=31, lr=9.540715869125407e-05, loss=0.012041704612784088\n",
      "[Training] Epoch=32, lr=9.45503262094184e-05, loss=0.012144409725442529\n",
      "[Training] Epoch=33, lr=9.362480035363986e-05, loss=0.011896559502929449\n",
      "[Training] Epoch=34, lr=9.263200821770461e-05, loss=0.011589585267938674\n",
      "[Training] Epoch=35, lr=9.157348061512727e-05, loss=0.011388953623827547\n",
      "[Training] Epoch=36, lr=9.045084971874738e-05, loss=0.011142685008235276\n",
      "[Training] Epoch=37, lr=8.926584654403724e-05, loss=0.01154702955391258\n",
      "[Training] Epoch=38, lr=8.802029828000156e-05, loss=0.011016170564107596\n",
      "[Training] Epoch=39, lr=8.671612547178428e-05, loss=0.010942479525692762\n",
      "[Training] Epoch=40, lr=8.535533905932738e-05, loss=0.010792398115154356\n",
      "[Training] Epoch=41, lr=8.39400372766471e-05, loss=0.010654958127997816\n",
      "[Training] Epoch=42, lr=8.247240241650918e-05, loss=0.010663075000047683\n",
      "[Training] Epoch=43, lr=8.095469746549172e-05, loss=0.010791550274007022\n",
      "[Training] Epoch=44, lr=7.938926261462366e-05, loss=0.010580876586027443\n",
      "[Training] Epoch=45, lr=7.777851165098012e-05, loss=0.01047844261629507\n",
      "[Training] Epoch=46, lr=7.612492823579745e-05, loss=0.010359584260731936\n",
      "[Training] Epoch=47, lr=7.443106207484776e-05, loss=0.010239957924932241\n",
      "[Training] Epoch=48, lr=7.269952498697734e-05, loss=0.010351529309991747\n",
      "[Training] Epoch=49, lr=7.09329868768714e-05, loss=0.010068245220463724\n",
      "[Training] Epoch=50, lr=6.91341716182545e-05, loss=0.010051630157977342\n",
      "[Training] Epoch=51, lr=6.730585285387465e-05, loss=0.010103377653285861\n",
      "[Training] Epoch=52, lr=6.545084971874738e-05, loss=0.009804374125087634\n",
      "[Training] Epoch=53, lr=6.357202249325371e-05, loss=0.010221836087293924\n",
      "[Training] Epoch=54, lr=6.167226819279528e-05, loss=0.01025467065628618\n",
      "[Training] Epoch=55, lr=5.9754516100806423e-05, loss=0.009757086052559316\n",
      "[Training] Epoch=56, lr=5.782172325201155e-05, loss=0.009948201104998588\n",
      "[Training] Epoch=57, lr=5.587686987289189e-05, loss=0.009732076933141797\n",
      "[Training] Epoch=58, lr=5.392295478639225e-05, loss=0.009928340394981205\n",
      "[Training] Epoch=59, lr=5.196299078795344e-05, loss=0.009670213563367724\n",
      "[Training] Epoch=60, lr=5e-05, loss=0.009731239313259721\n",
      "[Training] Epoch=61, lr=4.8037009212046586e-05, loss=0.009544679475948215\n",
      "[Training] Epoch=62, lr=4.607704521360776e-05, loss=0.009549670468550176\n",
      "[Training] Epoch=63, lr=4.412313012710813e-05, loss=0.009572606976144015\n",
      "[Training] Epoch=64, lr=4.2178276747988446e-05, loss=0.009802656318061053\n",
      "[Training] Epoch=65, lr=4.0245483899193595e-05, loss=0.009611141728237271\n",
      "[Training] Epoch=66, lr=3.832773180720475e-05, loss=0.009731069626286625\n",
      "[Training] Epoch=67, lr=3.642797750674629e-05, loss=0.009611116698943078\n",
      "[Training] Epoch=68, lr=3.4549150281252636e-05, loss=0.009598030184861273\n",
      "[Training] Epoch=69, lr=3.2694147146125345e-05, loss=0.009522708994336427\n",
      "[Training] Epoch=70, lr=3.086582838174551e-05, loss=0.009251904208213091\n",
      "[Training] Epoch=71, lr=2.9067013123128613e-05, loss=0.009349958796519786\n",
      "[Training] Epoch=72, lr=2.7300475013022663e-05, loss=0.00929451296105981\n",
      "[Training] Epoch=73, lr=2.556893792515227e-05, loss=0.009473302750848234\n",
      "[Training] Epoch=74, lr=2.3875071764202563e-05, loss=0.009320597653277219\n",
      "[Training] Epoch=75, lr=2.2221488349019903e-05, loss=0.009321478009223939\n",
      "[Training] Epoch=76, lr=2.061073738537635e-05, loss=0.00922884678002447\n",
      "[Training] Epoch=77, lr=1.9045302534508297e-05, loss=0.0094169796211645\n",
      "[Training] Epoch=78, lr=1.7527597583490822e-05, loss=0.00936886549461633\n",
      "[Training] Epoch=79, lr=1.605996272335291e-05, loss=0.009286710852757096\n",
      "[Training] Epoch=80, lr=1.4644660940672627e-05, loss=0.009073716367129236\n",
      "[Training] Epoch=81, lr=1.3283874528215733e-05, loss=0.009371451439801604\n",
      "[Training] Epoch=82, lr=1.1979701719998453e-05, loss=0.009213452867697924\n",
      "[Training] Epoch=83, lr=1.0734153455962765e-05, loss=0.009399732993915676\n",
      "[Training] Epoch=84, lr=9.549150281252633e-06, loss=0.009211904415860773\n",
      "[Training] Epoch=85, lr=8.426519384872733e-06, loss=0.009350391128100455\n",
      "[Training] Epoch=86, lr=7.367991782295391e-06, loss=0.009105177200399339\n",
      "[Training] Epoch=87, lr=6.375199646360142e-06, loss=0.009223118016961962\n",
      "[Training] Epoch=88, lr=5.449673790581611e-06, loss=0.009266496205236762\n",
      "[Training] Epoch=89, lr=4.592841308745932e-06, loss=0.009215155616402626\n",
      "[Training] Epoch=90, lr=3.8060233744356633e-06, loss=0.009216990834102035\n",
      "[Training] Epoch=91, lr=3.0904332038757977e-06, loss=0.009126129804644733\n",
      "[Training] Epoch=92, lr=2.4471741852423237e-06, loss=0.009170518140308559\n",
      "[Training] Epoch=93, lr=1.8772381773176417e-06, loss=0.009107753995340317\n",
      "[Training] Epoch=94, lr=1.3815039801161721e-06, loss=0.009189132053870707\n",
      "[Training] Epoch=95, lr=9.607359798384785e-07, loss=0.009357485361397267\n",
      "[Training] Epoch=96, lr=6.15582970243117e-07, loss=0.009218289458658546\n",
      "[Training] Epoch=97, lr=3.465771522536854e-07, loss=0.009285593091044575\n",
      "[Training] Epoch=98, lr=1.5413331334360182e-07, loss=0.009222774673253298\n",
      "[Training] Epoch=99, lr=3.8548187963854956e-08, loss=0.009189330670051277\n",
      "[Training] Epoch=100, lr=0.0, loss=0.009148465923499317\n",
      "2024-08-13 16:04:56> Testing refined RT model:\n",
      "   R_square         R     slope  intercept  test_num\n",
      "0  0.993034  0.996511  1.002106  -0.000878      1498\n"
     ]
    }
   ],
   "execution_count": 5
  },
  {
   "metadata": {
    "ExecuteTime": {
     "end_time": "2024-08-13T08:06:04.977808Z",
     "start_time": "2024-08-13T08:06:04.894730Z"
    }
   },
   "cell_type": "code",
   "source": "model_mgr.save_models(\"model/transfer_peptdeep_model_0813\")",
   "id": "a6bb4cdd158d2da3",
   "outputs": [],
   "execution_count": 6
  },
  {
   "metadata": {},
   "cell_type": "code",
   "outputs": [],
   "execution_count": null,
   "source": "",
   "id": "c7bf18215fe33d45"
  }
 ],
 "metadata": {
  "kernelspec": {
   "display_name": "Python 3",
   "language": "python",
   "name": "python3"
  },
  "language_info": {
   "codemirror_mode": {
    "name": "ipython",
    "version": 2
   },
   "file_extension": ".py",
   "mimetype": "text/x-python",
   "name": "python",
   "nbconvert_exporter": "python",
   "pygments_lexer": "ipython2",
   "version": "2.7.6"
  }
 },
 "nbformat": 4,
 "nbformat_minor": 5
}

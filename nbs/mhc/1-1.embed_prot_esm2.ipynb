{
 "cells": [
  {
   "cell_type": "code",
   "execution_count": 1,
   "metadata": {},
   "outputs": [],
   "source": [
    "import pandas as pd\n",
    "mhc_type = \"hla1\"\n",
    "protein_df = pd.read_table(f\"{mhc_type}_prot.tsv\")"
   ]
  },
  {
   "cell_type": "code",
   "execution_count": 2,
   "metadata": {},
   "outputs": [],
   "source": [
    "import torch\n",
    "torch.set_num_threads(20)\n",
    "import esm\n",
    "\n",
    "# Load ESM-2 model\n",
    "esm2_model, alphabet = esm.pretrained.esm2_t12_35M_UR50D()\n",
    "esm2_model.to(\"cuda\")\n",
    "esm2_model.eval()\n",
    "batch_converter = alphabet.get_batch_converter()"
   ]
  },
  {
   "cell_type": "code",
   "execution_count": 3,
   "metadata": {},
   "outputs": [
    {
     "data": {
      "text/plain": [
       "384"
      ]
     },
     "execution_count": 3,
     "metadata": {},
     "output_type": "execute_result"
    }
   ],
   "source": [
    "max_nAA = protein_df.sequence.str.len().max()\n",
    "batch_size=100\n",
    "data = [(\"_\", \"A\"*max_nAA)]*batch_size\n",
    "with torch.no_grad():\n",
    "    batch_labels, batch_strs, batch_tokens = batch_converter(data)\n",
    "    results = esm2_model(batch_tokens.to(\"cuda\"), repr_layers=[12], return_contacts=False)\n",
    "max_nAA"
   ]
  },
  {
   "cell_type": "code",
   "execution_count": 4,
   "metadata": {},
   "outputs": [
    {
     "name": "stderr",
     "output_type": "stream",
     "text": [
      "100%|██████████| 59/59 [00:46<00:00,  1.28it/s]\n"
     ]
    }
   ],
   "source": [
    "import tqdm\n",
    "embedding_list = []\n",
    "with torch.no_grad():\n",
    "    for i in tqdm.tqdm(range(0, len(protein_df), batch_size)):\n",
    "        sequences = protein_df.sequence.values[i:i+batch_size]\n",
    "        data = list(zip([\"_\"]*len(sequences), sequences))\n",
    "        batch_labels, batch_strs, batch_tokens = batch_converter(data)\n",
    "        results = esm2_model(batch_tokens.to(\"cuda\"), repr_layers=[12], return_contacts=False)\n",
    "        embedding_list.extend(list(results[\"representations\"][12].cpu().detach().numpy()[:,1:-1].copy()))"
   ]
  },
  {
   "cell_type": "code",
   "execution_count": 5,
   "metadata": {},
   "outputs": [
    {
     "data": {
      "text/plain": [
       "((372, 480), 5874)"
      ]
     },
     "execution_count": 5,
     "metadata": {},
     "output_type": "execute_result"
    }
   ],
   "source": [
    "embedding_list[0].shape, len(embedding_list)"
   ]
  },
  {
   "cell_type": "code",
   "execution_count": 6,
   "metadata": {},
   "outputs": [],
   "source": [
    "import pickle\n",
    "with open(f\"{mhc_type}_esm_embeds.pkl\", 'wb') as f:\n",
    "    pickle.dump(\n",
    "        {\n",
    "            \"protein_df\":protein_df,\"embedding_list\":embedding_list\n",
    "        }, \n",
    "        f, protocol=pickle.HIGHEST_PROTOCOL\n",
    "    )"
   ]
  }
 ],
 "metadata": {
  "kernelspec": {
   "display_name": "Python 3 (ipykernel)",
   "language": "python",
   "name": "python3"
  },
  "language_info": {
   "codemirror_mode": {
    "name": "ipython",
    "version": 3
   },
   "file_extension": ".py",
   "mimetype": "text/x-python",
   "name": "python",
   "nbconvert_exporter": "python",
   "pygments_lexer": "ipython3",
   "version": "3.10.8"
  }
 },
 "nbformat": 4,
 "nbformat_minor": 4
}

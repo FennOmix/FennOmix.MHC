{
 "cells": [
  {
   "metadata": {
    "ExecuteTime": {
     "end_time": "2024-11-04T14:06:01.025864Z",
     "start_time": "2024-11-04T14:06:00.998084Z"
    }
   },
   "cell_type": "code",
   "source": [
    "import pandas as pd\n",
    "\n",
    "nc_summary_df = pd.read_excel(\"~/Desktop/hla/test_cjt/data/PXD034772/DIA-non-canonical/dia_non-canonical_result_compare.xlsx\")\n",
    "nc_summary_df"
   ],
   "id": "c5583e11635967f8",
   "outputs": [
    {
     "data": {
      "text/plain": [
       "          sample_id  original\n",
       "0      C3N-02287_01       230\n",
       "1      C3N-02287_02       256\n",
       "2      C3N-02287_04       242\n",
       "3      C3N-02287_05       228\n",
       "4      C3N-02287_06       199\n",
       "5      C3N-02287_07       215\n",
       "6      C3N-02287_10       228\n",
       "7      C3N-02288_01        75\n",
       "8      C3N-02288_02        73\n",
       "9      C3N-02288_05        54\n",
       "10     C3N-02288_06        45\n",
       "11     C3N-02288_08        73\n",
       "12     C3N-02288_10        74\n",
       "13     C3N-02289_01       189\n",
       "14     C3N-02289_02       182\n",
       "15     C3N-02289_03       179\n",
       "16     C3N-02289_08       174\n",
       "17     C3N-02290_03        62\n",
       "18     C3N-02290_04        62\n",
       "19     C3N-02290_05        60\n",
       "20     C3N-02290_06        62\n",
       "21     C3N-02290_08        61\n",
       "22     C3N-02290_10        60\n",
       "23     C3N-02671_02        79\n",
       "24     C3N-02671_03        83\n",
       "25     C3N-02671_04        89\n",
       "26     C3N-02671_05        85\n",
       "27     C3N-02672_03       308\n",
       "28     C3N-02672_04       307\n",
       "29     C3N-02672_06       308\n",
       "30     C3N-02672_07       278\n",
       "31     C3N-03023_01       109\n",
       "32     C3N-03023_03       128\n",
       "33     C3N-03023_04       103\n",
       "34     C3N-03023_05       114\n",
       "35     C3N-03023_06       107\n",
       "36     C3N-03023_07       122\n",
       "37  C3N-03023_09_10        83\n",
       "38     C3N-03421_02        83\n",
       "39     C3N-03421_03        83\n",
       "40     C3N-03421_05        82\n",
       "41     C3N-03421_06        81\n",
       "42     C3N-03421_07        83\n",
       "43     C3N-03421_08        83\n",
       "44     C3N-03421_10        74"
      ],
      "text/html": [
       "<div>\n",
       "<style scoped>\n",
       "    .dataframe tbody tr th:only-of-type {\n",
       "        vertical-align: middle;\n",
       "    }\n",
       "\n",
       "    .dataframe tbody tr th {\n",
       "        vertical-align: top;\n",
       "    }\n",
       "\n",
       "    .dataframe thead th {\n",
       "        text-align: right;\n",
       "    }\n",
       "</style>\n",
       "<table border=\"1\" class=\"dataframe\">\n",
       "  <thead>\n",
       "    <tr style=\"text-align: right;\">\n",
       "      <th></th>\n",
       "      <th>sample_id</th>\n",
       "      <th>original</th>\n",
       "    </tr>\n",
       "  </thead>\n",
       "  <tbody>\n",
       "    <tr>\n",
       "      <th>0</th>\n",
       "      <td>C3N-02287_01</td>\n",
       "      <td>230</td>\n",
       "    </tr>\n",
       "    <tr>\n",
       "      <th>1</th>\n",
       "      <td>C3N-02287_02</td>\n",
       "      <td>256</td>\n",
       "    </tr>\n",
       "    <tr>\n",
       "      <th>2</th>\n",
       "      <td>C3N-02287_04</td>\n",
       "      <td>242</td>\n",
       "    </tr>\n",
       "    <tr>\n",
       "      <th>3</th>\n",
       "      <td>C3N-02287_05</td>\n",
       "      <td>228</td>\n",
       "    </tr>\n",
       "    <tr>\n",
       "      <th>4</th>\n",
       "      <td>C3N-02287_06</td>\n",
       "      <td>199</td>\n",
       "    </tr>\n",
       "    <tr>\n",
       "      <th>5</th>\n",
       "      <td>C3N-02287_07</td>\n",
       "      <td>215</td>\n",
       "    </tr>\n",
       "    <tr>\n",
       "      <th>6</th>\n",
       "      <td>C3N-02287_10</td>\n",
       "      <td>228</td>\n",
       "    </tr>\n",
       "    <tr>\n",
       "      <th>7</th>\n",
       "      <td>C3N-02288_01</td>\n",
       "      <td>75</td>\n",
       "    </tr>\n",
       "    <tr>\n",
       "      <th>8</th>\n",
       "      <td>C3N-02288_02</td>\n",
       "      <td>73</td>\n",
       "    </tr>\n",
       "    <tr>\n",
       "      <th>9</th>\n",
       "      <td>C3N-02288_05</td>\n",
       "      <td>54</td>\n",
       "    </tr>\n",
       "    <tr>\n",
       "      <th>10</th>\n",
       "      <td>C3N-02288_06</td>\n",
       "      <td>45</td>\n",
       "    </tr>\n",
       "    <tr>\n",
       "      <th>11</th>\n",
       "      <td>C3N-02288_08</td>\n",
       "      <td>73</td>\n",
       "    </tr>\n",
       "    <tr>\n",
       "      <th>12</th>\n",
       "      <td>C3N-02288_10</td>\n",
       "      <td>74</td>\n",
       "    </tr>\n",
       "    <tr>\n",
       "      <th>13</th>\n",
       "      <td>C3N-02289_01</td>\n",
       "      <td>189</td>\n",
       "    </tr>\n",
       "    <tr>\n",
       "      <th>14</th>\n",
       "      <td>C3N-02289_02</td>\n",
       "      <td>182</td>\n",
       "    </tr>\n",
       "    <tr>\n",
       "      <th>15</th>\n",
       "      <td>C3N-02289_03</td>\n",
       "      <td>179</td>\n",
       "    </tr>\n",
       "    <tr>\n",
       "      <th>16</th>\n",
       "      <td>C3N-02289_08</td>\n",
       "      <td>174</td>\n",
       "    </tr>\n",
       "    <tr>\n",
       "      <th>17</th>\n",
       "      <td>C3N-02290_03</td>\n",
       "      <td>62</td>\n",
       "    </tr>\n",
       "    <tr>\n",
       "      <th>18</th>\n",
       "      <td>C3N-02290_04</td>\n",
       "      <td>62</td>\n",
       "    </tr>\n",
       "    <tr>\n",
       "      <th>19</th>\n",
       "      <td>C3N-02290_05</td>\n",
       "      <td>60</td>\n",
       "    </tr>\n",
       "    <tr>\n",
       "      <th>20</th>\n",
       "      <td>C3N-02290_06</td>\n",
       "      <td>62</td>\n",
       "    </tr>\n",
       "    <tr>\n",
       "      <th>21</th>\n",
       "      <td>C3N-02290_08</td>\n",
       "      <td>61</td>\n",
       "    </tr>\n",
       "    <tr>\n",
       "      <th>22</th>\n",
       "      <td>C3N-02290_10</td>\n",
       "      <td>60</td>\n",
       "    </tr>\n",
       "    <tr>\n",
       "      <th>23</th>\n",
       "      <td>C3N-02671_02</td>\n",
       "      <td>79</td>\n",
       "    </tr>\n",
       "    <tr>\n",
       "      <th>24</th>\n",
       "      <td>C3N-02671_03</td>\n",
       "      <td>83</td>\n",
       "    </tr>\n",
       "    <tr>\n",
       "      <th>25</th>\n",
       "      <td>C3N-02671_04</td>\n",
       "      <td>89</td>\n",
       "    </tr>\n",
       "    <tr>\n",
       "      <th>26</th>\n",
       "      <td>C3N-02671_05</td>\n",
       "      <td>85</td>\n",
       "    </tr>\n",
       "    <tr>\n",
       "      <th>27</th>\n",
       "      <td>C3N-02672_03</td>\n",
       "      <td>308</td>\n",
       "    </tr>\n",
       "    <tr>\n",
       "      <th>28</th>\n",
       "      <td>C3N-02672_04</td>\n",
       "      <td>307</td>\n",
       "    </tr>\n",
       "    <tr>\n",
       "      <th>29</th>\n",
       "      <td>C3N-02672_06</td>\n",
       "      <td>308</td>\n",
       "    </tr>\n",
       "    <tr>\n",
       "      <th>30</th>\n",
       "      <td>C3N-02672_07</td>\n",
       "      <td>278</td>\n",
       "    </tr>\n",
       "    <tr>\n",
       "      <th>31</th>\n",
       "      <td>C3N-03023_01</td>\n",
       "      <td>109</td>\n",
       "    </tr>\n",
       "    <tr>\n",
       "      <th>32</th>\n",
       "      <td>C3N-03023_03</td>\n",
       "      <td>128</td>\n",
       "    </tr>\n",
       "    <tr>\n",
       "      <th>33</th>\n",
       "      <td>C3N-03023_04</td>\n",
       "      <td>103</td>\n",
       "    </tr>\n",
       "    <tr>\n",
       "      <th>34</th>\n",
       "      <td>C3N-03023_05</td>\n",
       "      <td>114</td>\n",
       "    </tr>\n",
       "    <tr>\n",
       "      <th>35</th>\n",
       "      <td>C3N-03023_06</td>\n",
       "      <td>107</td>\n",
       "    </tr>\n",
       "    <tr>\n",
       "      <th>36</th>\n",
       "      <td>C3N-03023_07</td>\n",
       "      <td>122</td>\n",
       "    </tr>\n",
       "    <tr>\n",
       "      <th>37</th>\n",
       "      <td>C3N-03023_09_10</td>\n",
       "      <td>83</td>\n",
       "    </tr>\n",
       "    <tr>\n",
       "      <th>38</th>\n",
       "      <td>C3N-03421_02</td>\n",
       "      <td>83</td>\n",
       "    </tr>\n",
       "    <tr>\n",
       "      <th>39</th>\n",
       "      <td>C3N-03421_03</td>\n",
       "      <td>83</td>\n",
       "    </tr>\n",
       "    <tr>\n",
       "      <th>40</th>\n",
       "      <td>C3N-03421_05</td>\n",
       "      <td>82</td>\n",
       "    </tr>\n",
       "    <tr>\n",
       "      <th>41</th>\n",
       "      <td>C3N-03421_06</td>\n",
       "      <td>81</td>\n",
       "    </tr>\n",
       "    <tr>\n",
       "      <th>42</th>\n",
       "      <td>C3N-03421_07</td>\n",
       "      <td>83</td>\n",
       "    </tr>\n",
       "    <tr>\n",
       "      <th>43</th>\n",
       "      <td>C3N-03421_08</td>\n",
       "      <td>83</td>\n",
       "    </tr>\n",
       "    <tr>\n",
       "      <th>44</th>\n",
       "      <td>C3N-03421_10</td>\n",
       "      <td>74</td>\n",
       "    </tr>\n",
       "  </tbody>\n",
       "</table>\n",
       "</div>"
      ]
     },
     "execution_count": 37,
     "metadata": {},
     "output_type": "execute_result"
    }
   ],
   "execution_count": 37
  },
  {
   "metadata": {
    "ExecuteTime": {
     "end_time": "2024-11-04T14:06:02.087370Z",
     "start_time": "2024-11-04T14:06:02.083351Z"
    }
   },
   "cell_type": "code",
   "source": [
    "sample_list = [tmp_id.split(\"_\")[0] for tmp_id in nc_summary_df[\"sample_id\"].tolist()]\n",
    "sample_list = list(set(sample_list))\n",
    "sample_list"
   ],
   "id": "ca75138e8ab34633",
   "outputs": [
    {
     "data": {
      "text/plain": [
       "['C3N-02290',\n",
       " 'C3N-02671',\n",
       " 'C3N-02287',\n",
       " 'C3N-02288',\n",
       " 'C3N-02289',\n",
       " 'C3N-03023',\n",
       " 'C3N-02672',\n",
       " 'C3N-03421']"
      ]
     },
     "execution_count": 38,
     "metadata": {},
     "output_type": "execute_result"
    }
   ],
   "execution_count": 38
  },
  {
   "metadata": {
    "ExecuteTime": {
     "end_time": "2024-11-04T14:06:08.646412Z",
     "start_time": "2024-11-04T14:06:03.271636Z"
    }
   },
   "cell_type": "code",
   "source": [
    "from alphabase.protein import fasta\n",
    "fasta_list = {}\n",
    "for sample_id in sample_list:\n",
    "    protein_id_list = []\n",
    "    protein_sequence_list = []\n",
    "    f = open(f\"/Users/chengjintao/Desktop/hla/test_cjt/data/PXD034772/ori_fasta/{sample_id}.fasta\", 'r')\n",
    "    text = f.readlines()\n",
    "    for line in text:\n",
    "        if \">\" in line:\n",
    "            protein_id_list.append(line.split(\">\")[1].split(\"\\n\")[0])\n",
    "            protein_sequence_list.append(\"\")\n",
    "        else:\n",
    "            protein_sequence_list[-1] += line.replace(\"\\n\", \"\")\n",
    "    f.close()\n",
    "    protein_df = pd.DataFrame(\n",
    "        {\n",
    "            \"protein_id\":protein_id_list,\n",
    "            \"sequence\":protein_sequence_list,\n",
    "            \"gene_org\":\"HUMAN\"\n",
    "        }\n",
    "    )\n",
    "    fasta_list[sample_id] = protein_df\n",
    "fasta_list[sample_list[0]]"
   ],
   "id": "b9390ccfd3254e41",
   "outputs": [
    {
     "data": {
      "text/plain": [
       "                                               protein_id  \\\n",
       "0       sp|1-1-REF|SINE_tRNA_RTE_MamSINE1-REF SINE_tRN...   \n",
       "1       sp|1-2-REF|SINE_tRNA_RTE_MamSINE1-REF SINE_tRN...   \n",
       "2       sp|1-3-REF|SINE_tRNA_RTE_MamSINE1-REF SINE_tRN...   \n",
       "3       sp|1-4-REF|SINE_tRNA_RTE_MamSINE1-REF SINE_tRN...   \n",
       "4       sp|1-5-REF|SINE_tRNA_RTE_MamSINE1-REF SINE_tRN...   \n",
       "...                                                   ...   \n",
       "536269  sp|128373-3-REF|DNA?_MER124-REF DNA?_MER124 OS...   \n",
       "536270  sp|128373-4-REF|DNA?_MER124-REF DNA?_MER124 OS...   \n",
       "536271  sp|128374-1-REF|DNA?_Eulor5A-REF DNA?_Eulor5A ...   \n",
       "536272  sp|128374-2-REF|DNA?_Eulor5A-REF DNA?_Eulor5A ...   \n",
       "536273  sp|128374-3-REF|DNA?_Eulor5A-REF DNA?_Eulor5A ...   \n",
       "\n",
       "                                                 sequence gene_org  \n",
       "0       MCVARRAGENMVSMCPRTYFWFSFYSFGFILFNDLLLYPRASYLSC...    HUMAN  \n",
       "1                  MDEYTHMYMSLHIFTIIRNSTQSISPNDKDYPNVQRYI    HUMAN  \n",
       "2                   MNLRFSMTVSFFLPAKRLLCGHKRHSLSYLAVTSLCS    HUMAN  \n",
       "3                      MWLEHPYPLFLLECKANKCPTDGNAIVAISFLED    HUMAN  \n",
       "4                       MCPFLPTAISSLCAVSSKRARRHMVMTQTTTTG    HUMAN  \n",
       "...                                                   ...      ...  \n",
       "536269                                    MITLHRRAMRKLVNV    HUMAN  \n",
       "536270                                       MHLLSTLVSYVK    HUMAN  \n",
       "536271                                   MFPVRLLKSPNIPFGL    HUMAN  \n",
       "536272                                    MMQFKLVLLTLGKSG    HUMAN  \n",
       "536273                                       MSYIMVVIVIIS    HUMAN  \n",
       "\n",
       "[536274 rows x 3 columns]"
      ],
      "text/html": [
       "<div>\n",
       "<style scoped>\n",
       "    .dataframe tbody tr th:only-of-type {\n",
       "        vertical-align: middle;\n",
       "    }\n",
       "\n",
       "    .dataframe tbody tr th {\n",
       "        vertical-align: top;\n",
       "    }\n",
       "\n",
       "    .dataframe thead th {\n",
       "        text-align: right;\n",
       "    }\n",
       "</style>\n",
       "<table border=\"1\" class=\"dataframe\">\n",
       "  <thead>\n",
       "    <tr style=\"text-align: right;\">\n",
       "      <th></th>\n",
       "      <th>protein_id</th>\n",
       "      <th>sequence</th>\n",
       "      <th>gene_org</th>\n",
       "    </tr>\n",
       "  </thead>\n",
       "  <tbody>\n",
       "    <tr>\n",
       "      <th>0</th>\n",
       "      <td>sp|1-1-REF|SINE_tRNA_RTE_MamSINE1-REF SINE_tRN...</td>\n",
       "      <td>MCVARRAGENMVSMCPRTYFWFSFYSFGFILFNDLLLYPRASYLSC...</td>\n",
       "      <td>HUMAN</td>\n",
       "    </tr>\n",
       "    <tr>\n",
       "      <th>1</th>\n",
       "      <td>sp|1-2-REF|SINE_tRNA_RTE_MamSINE1-REF SINE_tRN...</td>\n",
       "      <td>MDEYTHMYMSLHIFTIIRNSTQSISPNDKDYPNVQRYI</td>\n",
       "      <td>HUMAN</td>\n",
       "    </tr>\n",
       "    <tr>\n",
       "      <th>2</th>\n",
       "      <td>sp|1-3-REF|SINE_tRNA_RTE_MamSINE1-REF SINE_tRN...</td>\n",
       "      <td>MNLRFSMTVSFFLPAKRLLCGHKRHSLSYLAVTSLCS</td>\n",
       "      <td>HUMAN</td>\n",
       "    </tr>\n",
       "    <tr>\n",
       "      <th>3</th>\n",
       "      <td>sp|1-4-REF|SINE_tRNA_RTE_MamSINE1-REF SINE_tRN...</td>\n",
       "      <td>MWLEHPYPLFLLECKANKCPTDGNAIVAISFLED</td>\n",
       "      <td>HUMAN</td>\n",
       "    </tr>\n",
       "    <tr>\n",
       "      <th>4</th>\n",
       "      <td>sp|1-5-REF|SINE_tRNA_RTE_MamSINE1-REF SINE_tRN...</td>\n",
       "      <td>MCPFLPTAISSLCAVSSKRARRHMVMTQTTTTG</td>\n",
       "      <td>HUMAN</td>\n",
       "    </tr>\n",
       "    <tr>\n",
       "      <th>...</th>\n",
       "      <td>...</td>\n",
       "      <td>...</td>\n",
       "      <td>...</td>\n",
       "    </tr>\n",
       "    <tr>\n",
       "      <th>536269</th>\n",
       "      <td>sp|128373-3-REF|DNA?_MER124-REF DNA?_MER124 OS...</td>\n",
       "      <td>MITLHRRAMRKLVNV</td>\n",
       "      <td>HUMAN</td>\n",
       "    </tr>\n",
       "    <tr>\n",
       "      <th>536270</th>\n",
       "      <td>sp|128373-4-REF|DNA?_MER124-REF DNA?_MER124 OS...</td>\n",
       "      <td>MHLLSTLVSYVK</td>\n",
       "      <td>HUMAN</td>\n",
       "    </tr>\n",
       "    <tr>\n",
       "      <th>536271</th>\n",
       "      <td>sp|128374-1-REF|DNA?_Eulor5A-REF DNA?_Eulor5A ...</td>\n",
       "      <td>MFPVRLLKSPNIPFGL</td>\n",
       "      <td>HUMAN</td>\n",
       "    </tr>\n",
       "    <tr>\n",
       "      <th>536272</th>\n",
       "      <td>sp|128374-2-REF|DNA?_Eulor5A-REF DNA?_Eulor5A ...</td>\n",
       "      <td>MMQFKLVLLTLGKSG</td>\n",
       "      <td>HUMAN</td>\n",
       "    </tr>\n",
       "    <tr>\n",
       "      <th>536273</th>\n",
       "      <td>sp|128374-3-REF|DNA?_Eulor5A-REF DNA?_Eulor5A ...</td>\n",
       "      <td>MSYIMVVIVIIS</td>\n",
       "      <td>HUMAN</td>\n",
       "    </tr>\n",
       "  </tbody>\n",
       "</table>\n",
       "<p>536274 rows × 3 columns</p>\n",
       "</div>"
      ]
     },
     "execution_count": 39,
     "metadata": {},
     "output_type": "execute_result"
    }
   ],
   "execution_count": 39
  },
  {
   "metadata": {},
   "cell_type": "code",
   "source": [
    "files = []\n",
    "base_path = \"/Users/chengjintao/Desktop/hla/test_cjt/data/PXD034772/DIA-non-canonical\"\n",
    "for i in range(nc_summary_df.shape[0]):\n",
    "    tmp_id = nc_summary_df.loc[i, \"sample_id\"]\n",
    "    tmp_id = tmp_id.replace(\"_\", \"-\")\n",
    "    tmp_file = f\"{base_path}/{tmp_id}/report.tsv\"\n",
    "    files.append(tmp_file)\n"
   ],
   "id": "57bbdf90672ee17d",
   "outputs": [],
   "execution_count": null
  },
  {
   "metadata": {
    "ExecuteTime": {
     "end_time": "2024-11-04T17:14:24.666133Z",
     "start_time": "2024-11-04T17:09:52.061774Z"
    }
   },
   "cell_type": "code",
   "source": [
    "import re\n",
    "\n",
    "nc_summary_df[\"new\"] = [0] * nc_summary_df.shape[0]\n",
    "\n",
    "for i in range(len(files)):\n",
    "    \n",
    "    tmp_file = files[i]\n",
    "    print(tmp_file)\n",
    "    tmp_sample = tmp_file.split(\"/\")[-2]\n",
    "    tmp_sample_id = re.search(r\"^(C3N-\\d{5})\", tmp_sample).groups()[0]\n",
    "    tmp_pro_df = fasta_list[tmp_sample_id]\n",
    "\n",
    "    non_canonical_df = pd.read_table(tmp_file)\n",
    "    tmp_precursor_df = pd.DataFrame(\n",
    "        {\n",
    "            'charge': non_canonical_df[\"Precursor.Charge\"],\n",
    "            'sequence': non_canonical_df[\"Stripped.Sequence\"],\n",
    "        }\n",
    "    )\n",
    "    output_precursor_df = fasta.annotate_precursor_df(tmp_precursor_df, tmp_pro_df)\n",
    "    output_precursor_df.drop_duplicates(subset=\"sequence\", keep=\"first\", inplace=True)\n",
    "    nc_list = []\n",
    "    te_list = []\n",
    "    for k in range(output_precursor_df.shape[0]):\n",
    "        protein_id = output_precursor_df.iloc[k][\"proteins\"]\n",
    "        if \"PE=NC\" in protein_id:\n",
    "            if \"PE=PC\" not in protein_id:\n",
    "                nc_list.append(output_precursor_df.iloc[k][\"sequence\"])\n",
    "        elif \"PE=TE\" in protein_id:\n",
    "            if \"PE=PC\" not in protein_id:\n",
    "                te_list.append(output_precursor_df.iloc[k][\"sequence\"])\n",
    "    nc_summary_df.loc[i, \"new\"] = len(list(set(nc_list))) + len(list(set(te_list)))\n",
    "\n",
    "nc_summary_df"
   ],
   "id": "95403a86feb60b5c",
   "outputs": [
    {
     "name": "stdout",
     "output_type": "stream",
     "text": [
      "/Users/chengjintao/Desktop/hla/test_cjt/data/PXD034772/DIA-non-canonical/C3N-02287-01/report.tsv\n"
     ]
    },
    {
     "name": "stderr",
     "output_type": "stream",
     "text": [
      "100%|██████████| 599300/599300 [00:04<00:00, 128603.96it/s]\n"
     ]
    },
    {
     "name": "stdout",
     "output_type": "stream",
     "text": [
      "/Users/chengjintao/Desktop/hla/test_cjt/data/PXD034772/DIA-non-canonical/C3N-02287-02/report.tsv\n"
     ]
    },
    {
     "name": "stderr",
     "output_type": "stream",
     "text": [
      "100%|██████████| 599300/599300 [00:04<00:00, 126095.53it/s]\n"
     ]
    },
    {
     "name": "stdout",
     "output_type": "stream",
     "text": [
      "/Users/chengjintao/Desktop/hla/test_cjt/data/PXD034772/DIA-non-canonical/C3N-02287-04/report.tsv\n"
     ]
    },
    {
     "name": "stderr",
     "output_type": "stream",
     "text": [
      "100%|██████████| 599300/599300 [00:04<00:00, 129722.83it/s]\n"
     ]
    },
    {
     "name": "stdout",
     "output_type": "stream",
     "text": [
      "/Users/chengjintao/Desktop/hla/test_cjt/data/PXD034772/DIA-non-canonical/C3N-02287-05/report.tsv\n"
     ]
    },
    {
     "name": "stderr",
     "output_type": "stream",
     "text": [
      "100%|██████████| 599300/599300 [00:04<00:00, 137972.07it/s]\n"
     ]
    },
    {
     "name": "stdout",
     "output_type": "stream",
     "text": [
      "/Users/chengjintao/Desktop/hla/test_cjt/data/PXD034772/DIA-non-canonical/C3N-02287-06/report.tsv\n"
     ]
    },
    {
     "name": "stderr",
     "output_type": "stream",
     "text": [
      "100%|██████████| 599300/599300 [00:04<00:00, 139934.07it/s]\n"
     ]
    },
    {
     "name": "stdout",
     "output_type": "stream",
     "text": [
      "/Users/chengjintao/Desktop/hla/test_cjt/data/PXD034772/DIA-non-canonical/C3N-02287-07/report.tsv\n"
     ]
    },
    {
     "name": "stderr",
     "output_type": "stream",
     "text": [
      "100%|██████████| 599300/599300 [00:04<00:00, 136945.92it/s]\n"
     ]
    },
    {
     "name": "stdout",
     "output_type": "stream",
     "text": [
      "/Users/chengjintao/Desktop/hla/test_cjt/data/PXD034772/DIA-non-canonical/C3N-02287-10/report.tsv\n"
     ]
    },
    {
     "name": "stderr",
     "output_type": "stream",
     "text": [
      "100%|██████████| 599300/599300 [00:04<00:00, 129628.49it/s]\n"
     ]
    },
    {
     "name": "stdout",
     "output_type": "stream",
     "text": [
      "/Users/chengjintao/Desktop/hla/test_cjt/data/PXD034772/DIA-non-canonical/C3N-02288-01/report.tsv\n"
     ]
    },
    {
     "name": "stderr",
     "output_type": "stream",
     "text": [
      "100%|██████████| 539543/539543 [00:04<00:00, 132058.97it/s]\n"
     ]
    },
    {
     "name": "stdout",
     "output_type": "stream",
     "text": [
      "/Users/chengjintao/Desktop/hla/test_cjt/data/PXD034772/DIA-non-canonical/C3N-02288-02/report.tsv\n"
     ]
    },
    {
     "name": "stderr",
     "output_type": "stream",
     "text": [
      "100%|██████████| 539543/539543 [00:04<00:00, 129406.18it/s]\n"
     ]
    },
    {
     "name": "stdout",
     "output_type": "stream",
     "text": [
      "/Users/chengjintao/Desktop/hla/test_cjt/data/PXD034772/DIA-non-canonical/C3N-02288-05/report.tsv\n"
     ]
    },
    {
     "name": "stderr",
     "output_type": "stream",
     "text": [
      "100%|██████████| 539543/539543 [00:03<00:00, 151457.56it/s]\n"
     ]
    },
    {
     "name": "stdout",
     "output_type": "stream",
     "text": [
      "/Users/chengjintao/Desktop/hla/test_cjt/data/PXD034772/DIA-non-canonical/C3N-02288-06/report.tsv\n"
     ]
    },
    {
     "name": "stderr",
     "output_type": "stream",
     "text": [
      "100%|██████████| 539543/539543 [00:03<00:00, 156606.30it/s]\n"
     ]
    },
    {
     "name": "stdout",
     "output_type": "stream",
     "text": [
      "/Users/chengjintao/Desktop/hla/test_cjt/data/PXD034772/DIA-non-canonical/C3N-02288-08/report.tsv\n"
     ]
    },
    {
     "name": "stderr",
     "output_type": "stream",
     "text": [
      "100%|██████████| 539543/539543 [00:03<00:00, 135893.27it/s]\n"
     ]
    },
    {
     "name": "stdout",
     "output_type": "stream",
     "text": [
      "/Users/chengjintao/Desktop/hla/test_cjt/data/PXD034772/DIA-non-canonical/C3N-02288-10/report.tsv\n"
     ]
    },
    {
     "name": "stderr",
     "output_type": "stream",
     "text": [
      "100%|██████████| 539543/539543 [00:04<00:00, 130304.31it/s]\n"
     ]
    },
    {
     "name": "stdout",
     "output_type": "stream",
     "text": [
      "/Users/chengjintao/Desktop/hla/test_cjt/data/PXD034772/DIA-non-canonical/C3N-02289-01/report.tsv\n"
     ]
    },
    {
     "name": "stderr",
     "output_type": "stream",
     "text": [
      "100%|██████████| 563489/563489 [00:04<00:00, 132543.39it/s]\n"
     ]
    },
    {
     "name": "stdout",
     "output_type": "stream",
     "text": [
      "/Users/chengjintao/Desktop/hla/test_cjt/data/PXD034772/DIA-non-canonical/C3N-02289-02/report.tsv\n"
     ]
    },
    {
     "name": "stderr",
     "output_type": "stream",
     "text": [
      "100%|██████████| 563489/563489 [00:04<00:00, 133704.42it/s]\n"
     ]
    },
    {
     "name": "stdout",
     "output_type": "stream",
     "text": [
      "/Users/chengjintao/Desktop/hla/test_cjt/data/PXD034772/DIA-non-canonical/C3N-02289-03/report.tsv\n"
     ]
    },
    {
     "name": "stderr",
     "output_type": "stream",
     "text": [
      "100%|██████████| 563489/563489 [00:04<00:00, 135269.74it/s]\n"
     ]
    },
    {
     "name": "stdout",
     "output_type": "stream",
     "text": [
      "/Users/chengjintao/Desktop/hla/test_cjt/data/PXD034772/DIA-non-canonical/C3N-02289-08/report.tsv\n"
     ]
    },
    {
     "name": "stderr",
     "output_type": "stream",
     "text": [
      "100%|██████████| 563489/563489 [00:04<00:00, 131740.95it/s]\n"
     ]
    },
    {
     "name": "stdout",
     "output_type": "stream",
     "text": [
      "/Users/chengjintao/Desktop/hla/test_cjt/data/PXD034772/DIA-non-canonical/C3N-02290-03/report.tsv\n"
     ]
    },
    {
     "name": "stderr",
     "output_type": "stream",
     "text": [
      "100%|██████████| 536274/536274 [00:03<00:00, 139079.29it/s]\n"
     ]
    },
    {
     "name": "stdout",
     "output_type": "stream",
     "text": [
      "/Users/chengjintao/Desktop/hla/test_cjt/data/PXD034772/DIA-non-canonical/C3N-02290-04/report.tsv\n"
     ]
    },
    {
     "name": "stderr",
     "output_type": "stream",
     "text": [
      "100%|██████████| 536274/536274 [00:03<00:00, 141884.42it/s]\n"
     ]
    },
    {
     "name": "stdout",
     "output_type": "stream",
     "text": [
      "/Users/chengjintao/Desktop/hla/test_cjt/data/PXD034772/DIA-non-canonical/C3N-02290-05/report.tsv\n"
     ]
    },
    {
     "name": "stderr",
     "output_type": "stream",
     "text": [
      "100%|██████████| 536274/536274 [00:03<00:00, 138487.46it/s]\n"
     ]
    },
    {
     "name": "stdout",
     "output_type": "stream",
     "text": [
      "/Users/chengjintao/Desktop/hla/test_cjt/data/PXD034772/DIA-non-canonical/C3N-02290-06/report.tsv\n"
     ]
    },
    {
     "name": "stderr",
     "output_type": "stream",
     "text": [
      "100%|██████████| 536274/536274 [00:03<00:00, 139315.83it/s]\n"
     ]
    },
    {
     "name": "stdout",
     "output_type": "stream",
     "text": [
      "/Users/chengjintao/Desktop/hla/test_cjt/data/PXD034772/DIA-non-canonical/C3N-02290-08/report.tsv\n"
     ]
    },
    {
     "name": "stderr",
     "output_type": "stream",
     "text": [
      "100%|██████████| 536274/536274 [00:03<00:00, 141306.32it/s]\n"
     ]
    },
    {
     "name": "stdout",
     "output_type": "stream",
     "text": [
      "/Users/chengjintao/Desktop/hla/test_cjt/data/PXD034772/DIA-non-canonical/C3N-02290-10/report.tsv\n"
     ]
    },
    {
     "name": "stderr",
     "output_type": "stream",
     "text": [
      "100%|██████████| 536274/536274 [00:03<00:00, 142176.97it/s]\n"
     ]
    },
    {
     "name": "stdout",
     "output_type": "stream",
     "text": [
      "/Users/chengjintao/Desktop/hla/test_cjt/data/PXD034772/DIA-non-canonical/C3N-02671-02/report.tsv\n"
     ]
    },
    {
     "name": "stderr",
     "output_type": "stream",
     "text": [
      "100%|██████████| 563625/563625 [00:03<00:00, 141582.02it/s]\n"
     ]
    },
    {
     "name": "stdout",
     "output_type": "stream",
     "text": [
      "/Users/chengjintao/Desktop/hla/test_cjt/data/PXD034772/DIA-non-canonical/C3N-02671-03/report.tsv\n"
     ]
    },
    {
     "name": "stderr",
     "output_type": "stream",
     "text": [
      "100%|██████████| 563625/563625 [00:04<00:00, 136088.32it/s]\n"
     ]
    },
    {
     "name": "stdout",
     "output_type": "stream",
     "text": [
      "/Users/chengjintao/Desktop/hla/test_cjt/data/PXD034772/DIA-non-canonical/C3N-02671-04/report.tsv\n"
     ]
    },
    {
     "name": "stderr",
     "output_type": "stream",
     "text": [
      "100%|██████████| 563625/563625 [00:04<00:00, 133598.99it/s]\n"
     ]
    },
    {
     "name": "stdout",
     "output_type": "stream",
     "text": [
      "/Users/chengjintao/Desktop/hla/test_cjt/data/PXD034772/DIA-non-canonical/C3N-02671-05/report.tsv\n"
     ]
    },
    {
     "name": "stderr",
     "output_type": "stream",
     "text": [
      "100%|██████████| 563625/563625 [00:04<00:00, 136551.13it/s]\n"
     ]
    },
    {
     "name": "stdout",
     "output_type": "stream",
     "text": [
      "/Users/chengjintao/Desktop/hla/test_cjt/data/PXD034772/DIA-non-canonical/C3N-02672-03/report.tsv\n"
     ]
    },
    {
     "name": "stderr",
     "output_type": "stream",
     "text": [
      "100%|██████████| 521770/521770 [00:04<00:00, 122049.75it/s]\n"
     ]
    },
    {
     "name": "stdout",
     "output_type": "stream",
     "text": [
      "/Users/chengjintao/Desktop/hla/test_cjt/data/PXD034772/DIA-non-canonical/C3N-02672-04/report.tsv\n"
     ]
    },
    {
     "name": "stderr",
     "output_type": "stream",
     "text": [
      "100%|██████████| 521770/521770 [00:04<00:00, 123390.81it/s]\n"
     ]
    },
    {
     "name": "stdout",
     "output_type": "stream",
     "text": [
      "/Users/chengjintao/Desktop/hla/test_cjt/data/PXD034772/DIA-non-canonical/C3N-02672-06/report.tsv\n"
     ]
    },
    {
     "name": "stderr",
     "output_type": "stream",
     "text": [
      "100%|██████████| 521770/521770 [00:04<00:00, 123575.41it/s]\n"
     ]
    },
    {
     "name": "stdout",
     "output_type": "stream",
     "text": [
      "/Users/chengjintao/Desktop/hla/test_cjt/data/PXD034772/DIA-non-canonical/C3N-02672-07/report.tsv\n"
     ]
    },
    {
     "name": "stderr",
     "output_type": "stream",
     "text": [
      "100%|██████████| 521770/521770 [00:04<00:00, 124282.65it/s]\n"
     ]
    },
    {
     "name": "stdout",
     "output_type": "stream",
     "text": [
      "/Users/chengjintao/Desktop/hla/test_cjt/data/PXD034772/DIA-non-canonical/C3N-03023-01/report.tsv\n"
     ]
    },
    {
     "name": "stderr",
     "output_type": "stream",
     "text": [
      "100%|██████████| 576577/576577 [00:04<00:00, 136916.46it/s]\n"
     ]
    },
    {
     "name": "stdout",
     "output_type": "stream",
     "text": [
      "/Users/chengjintao/Desktop/hla/test_cjt/data/PXD034772/DIA-non-canonical/C3N-03023-03/report.tsv\n"
     ]
    },
    {
     "name": "stderr",
     "output_type": "stream",
     "text": [
      "100%|██████████| 576577/576577 [00:04<00:00, 129974.18it/s]\n"
     ]
    },
    {
     "name": "stdout",
     "output_type": "stream",
     "text": [
      "/Users/chengjintao/Desktop/hla/test_cjt/data/PXD034772/DIA-non-canonical/C3N-03023-04/report.tsv\n"
     ]
    },
    {
     "name": "stderr",
     "output_type": "stream",
     "text": [
      "100%|██████████| 576577/576577 [00:04<00:00, 141157.32it/s]\n"
     ]
    },
    {
     "name": "stdout",
     "output_type": "stream",
     "text": [
      "/Users/chengjintao/Desktop/hla/test_cjt/data/PXD034772/DIA-non-canonical/C3N-03023-05/report.tsv\n"
     ]
    },
    {
     "name": "stderr",
     "output_type": "stream",
     "text": [
      "100%|██████████| 576577/576577 [00:04<00:00, 134604.26it/s]\n"
     ]
    },
    {
     "name": "stdout",
     "output_type": "stream",
     "text": [
      "/Users/chengjintao/Desktop/hla/test_cjt/data/PXD034772/DIA-non-canonical/C3N-03023-06/report.tsv\n"
     ]
    },
    {
     "name": "stderr",
     "output_type": "stream",
     "text": [
      "100%|██████████| 576577/576577 [00:04<00:00, 141677.05it/s]\n"
     ]
    },
    {
     "name": "stdout",
     "output_type": "stream",
     "text": [
      "/Users/chengjintao/Desktop/hla/test_cjt/data/PXD034772/DIA-non-canonical/C3N-03023-07/report.tsv\n"
     ]
    },
    {
     "name": "stderr",
     "output_type": "stream",
     "text": [
      "100%|██████████| 576577/576577 [00:04<00:00, 136881.16it/s]\n"
     ]
    },
    {
     "name": "stdout",
     "output_type": "stream",
     "text": [
      "/Users/chengjintao/Desktop/hla/test_cjt/data/PXD034772/DIA-non-canonical/C3N-03023-09-10/report.tsv\n"
     ]
    },
    {
     "name": "stderr",
     "output_type": "stream",
     "text": [
      "100%|██████████| 576577/576577 [00:04<00:00, 140719.15it/s]\n"
     ]
    },
    {
     "name": "stdout",
     "output_type": "stream",
     "text": [
      "/Users/chengjintao/Desktop/hla/test_cjt/data/PXD034772/DIA-non-canonical/C3N-03421-02/report.tsv\n"
     ]
    },
    {
     "name": "stderr",
     "output_type": "stream",
     "text": [
      "100%|██████████| 582820/582820 [00:04<00:00, 130892.46it/s]\n"
     ]
    },
    {
     "name": "stdout",
     "output_type": "stream",
     "text": [
      "/Users/chengjintao/Desktop/hla/test_cjt/data/PXD034772/DIA-non-canonical/C3N-03421-03/report.tsv\n"
     ]
    },
    {
     "name": "stderr",
     "output_type": "stream",
     "text": [
      "100%|██████████| 582820/582820 [00:04<00:00, 131543.70it/s]\n"
     ]
    },
    {
     "name": "stdout",
     "output_type": "stream",
     "text": [
      "/Users/chengjintao/Desktop/hla/test_cjt/data/PXD034772/DIA-non-canonical/C3N-03421-05/report.tsv\n"
     ]
    },
    {
     "name": "stderr",
     "output_type": "stream",
     "text": [
      "100%|██████████| 582820/582820 [00:04<00:00, 133499.42it/s]\n"
     ]
    },
    {
     "name": "stdout",
     "output_type": "stream",
     "text": [
      "/Users/chengjintao/Desktop/hla/test_cjt/data/PXD034772/DIA-non-canonical/C3N-03421-06/report.tsv\n"
     ]
    },
    {
     "name": "stderr",
     "output_type": "stream",
     "text": [
      "100%|██████████| 582820/582820 [00:04<00:00, 137697.44it/s]\n"
     ]
    },
    {
     "name": "stdout",
     "output_type": "stream",
     "text": [
      "/Users/chengjintao/Desktop/hla/test_cjt/data/PXD034772/DIA-non-canonical/C3N-03421-07/report.tsv\n"
     ]
    },
    {
     "name": "stderr",
     "output_type": "stream",
     "text": [
      "100%|██████████| 582820/582820 [00:04<00:00, 132682.54it/s]\n"
     ]
    },
    {
     "name": "stdout",
     "output_type": "stream",
     "text": [
      "/Users/chengjintao/Desktop/hla/test_cjt/data/PXD034772/DIA-non-canonical/C3N-03421-08/report.tsv\n"
     ]
    },
    {
     "name": "stderr",
     "output_type": "stream",
     "text": [
      "100%|██████████| 582820/582820 [00:04<00:00, 127295.71it/s]\n"
     ]
    },
    {
     "name": "stdout",
     "output_type": "stream",
     "text": [
      "/Users/chengjintao/Desktop/hla/test_cjt/data/PXD034772/DIA-non-canonical/C3N-03421-10/report.tsv\n"
     ]
    },
    {
     "name": "stderr",
     "output_type": "stream",
     "text": [
      "100%|██████████| 582820/582820 [00:04<00:00, 136270.90it/s]\n"
     ]
    },
    {
     "data": {
      "text/plain": [
       "          sample_id  original  new\n",
       "0      C3N-02287_01       230  447\n",
       "1      C3N-02287_02       256  514\n",
       "2      C3N-02287_04       242  529\n",
       "3      C3N-02287_05       228  351\n",
       "4      C3N-02287_06       199  344\n",
       "5      C3N-02287_07       215  357\n",
       "6      C3N-02287_10       228  432\n",
       "7      C3N-02288_01        75  196\n",
       "8      C3N-02288_02        73  233\n",
       "9      C3N-02288_05        54   65\n",
       "10     C3N-02288_06        45   58\n",
       "11     C3N-02288_08        73  225\n",
       "12     C3N-02288_10        74  297\n",
       "13     C3N-02289_01       189  495\n",
       "14     C3N-02289_02       182  460\n",
       "15     C3N-02289_03       179  384\n",
       "16     C3N-02289_08       174  440\n",
       "17     C3N-02290_03        62  206\n",
       "18     C3N-02290_04        62  182\n",
       "19     C3N-02290_05        60  187\n",
       "20     C3N-02290_06        62  204\n",
       "21     C3N-02290_08        61  185\n",
       "22     C3N-02290_10        60  172\n",
       "23     C3N-02671_02        79  167\n",
       "24     C3N-02671_03        83  188\n",
       "25     C3N-02671_04        89  250\n",
       "26     C3N-02671_05        85  225\n",
       "27     C3N-02672_03       308  612\n",
       "28     C3N-02672_04       307  571\n",
       "29     C3N-02672_06       308  502\n",
       "30     C3N-02672_07       278  451\n",
       "31     C3N-03023_01       109  348\n",
       "32     C3N-03023_03       128  469\n",
       "33     C3N-03023_04       103  299\n",
       "34     C3N-03023_05       114  386\n",
       "35     C3N-03023_06       107  337\n",
       "36     C3N-03023_07       122  360\n",
       "37  C3N-03023_09_10        83  280\n",
       "38     C3N-03421_02        83  487\n",
       "39     C3N-03421_03        83  495\n",
       "40     C3N-03421_05        82  357\n",
       "41     C3N-03421_06        81  292\n",
       "42     C3N-03421_07        83  453\n",
       "43     C3N-03421_08        83  501\n",
       "44     C3N-03421_10        74  288"
      ],
      "text/html": [
       "<div>\n",
       "<style scoped>\n",
       "    .dataframe tbody tr th:only-of-type {\n",
       "        vertical-align: middle;\n",
       "    }\n",
       "\n",
       "    .dataframe tbody tr th {\n",
       "        vertical-align: top;\n",
       "    }\n",
       "\n",
       "    .dataframe thead th {\n",
       "        text-align: right;\n",
       "    }\n",
       "</style>\n",
       "<table border=\"1\" class=\"dataframe\">\n",
       "  <thead>\n",
       "    <tr style=\"text-align: right;\">\n",
       "      <th></th>\n",
       "      <th>sample_id</th>\n",
       "      <th>original</th>\n",
       "      <th>new</th>\n",
       "    </tr>\n",
       "  </thead>\n",
       "  <tbody>\n",
       "    <tr>\n",
       "      <th>0</th>\n",
       "      <td>C3N-02287_01</td>\n",
       "      <td>230</td>\n",
       "      <td>447</td>\n",
       "    </tr>\n",
       "    <tr>\n",
       "      <th>1</th>\n",
       "      <td>C3N-02287_02</td>\n",
       "      <td>256</td>\n",
       "      <td>514</td>\n",
       "    </tr>\n",
       "    <tr>\n",
       "      <th>2</th>\n",
       "      <td>C3N-02287_04</td>\n",
       "      <td>242</td>\n",
       "      <td>529</td>\n",
       "    </tr>\n",
       "    <tr>\n",
       "      <th>3</th>\n",
       "      <td>C3N-02287_05</td>\n",
       "      <td>228</td>\n",
       "      <td>351</td>\n",
       "    </tr>\n",
       "    <tr>\n",
       "      <th>4</th>\n",
       "      <td>C3N-02287_06</td>\n",
       "      <td>199</td>\n",
       "      <td>344</td>\n",
       "    </tr>\n",
       "    <tr>\n",
       "      <th>5</th>\n",
       "      <td>C3N-02287_07</td>\n",
       "      <td>215</td>\n",
       "      <td>357</td>\n",
       "    </tr>\n",
       "    <tr>\n",
       "      <th>6</th>\n",
       "      <td>C3N-02287_10</td>\n",
       "      <td>228</td>\n",
       "      <td>432</td>\n",
       "    </tr>\n",
       "    <tr>\n",
       "      <th>7</th>\n",
       "      <td>C3N-02288_01</td>\n",
       "      <td>75</td>\n",
       "      <td>196</td>\n",
       "    </tr>\n",
       "    <tr>\n",
       "      <th>8</th>\n",
       "      <td>C3N-02288_02</td>\n",
       "      <td>73</td>\n",
       "      <td>233</td>\n",
       "    </tr>\n",
       "    <tr>\n",
       "      <th>9</th>\n",
       "      <td>C3N-02288_05</td>\n",
       "      <td>54</td>\n",
       "      <td>65</td>\n",
       "    </tr>\n",
       "    <tr>\n",
       "      <th>10</th>\n",
       "      <td>C3N-02288_06</td>\n",
       "      <td>45</td>\n",
       "      <td>58</td>\n",
       "    </tr>\n",
       "    <tr>\n",
       "      <th>11</th>\n",
       "      <td>C3N-02288_08</td>\n",
       "      <td>73</td>\n",
       "      <td>225</td>\n",
       "    </tr>\n",
       "    <tr>\n",
       "      <th>12</th>\n",
       "      <td>C3N-02288_10</td>\n",
       "      <td>74</td>\n",
       "      <td>297</td>\n",
       "    </tr>\n",
       "    <tr>\n",
       "      <th>13</th>\n",
       "      <td>C3N-02289_01</td>\n",
       "      <td>189</td>\n",
       "      <td>495</td>\n",
       "    </tr>\n",
       "    <tr>\n",
       "      <th>14</th>\n",
       "      <td>C3N-02289_02</td>\n",
       "      <td>182</td>\n",
       "      <td>460</td>\n",
       "    </tr>\n",
       "    <tr>\n",
       "      <th>15</th>\n",
       "      <td>C3N-02289_03</td>\n",
       "      <td>179</td>\n",
       "      <td>384</td>\n",
       "    </tr>\n",
       "    <tr>\n",
       "      <th>16</th>\n",
       "      <td>C3N-02289_08</td>\n",
       "      <td>174</td>\n",
       "      <td>440</td>\n",
       "    </tr>\n",
       "    <tr>\n",
       "      <th>17</th>\n",
       "      <td>C3N-02290_03</td>\n",
       "      <td>62</td>\n",
       "      <td>206</td>\n",
       "    </tr>\n",
       "    <tr>\n",
       "      <th>18</th>\n",
       "      <td>C3N-02290_04</td>\n",
       "      <td>62</td>\n",
       "      <td>182</td>\n",
       "    </tr>\n",
       "    <tr>\n",
       "      <th>19</th>\n",
       "      <td>C3N-02290_05</td>\n",
       "      <td>60</td>\n",
       "      <td>187</td>\n",
       "    </tr>\n",
       "    <tr>\n",
       "      <th>20</th>\n",
       "      <td>C3N-02290_06</td>\n",
       "      <td>62</td>\n",
       "      <td>204</td>\n",
       "    </tr>\n",
       "    <tr>\n",
       "      <th>21</th>\n",
       "      <td>C3N-02290_08</td>\n",
       "      <td>61</td>\n",
       "      <td>185</td>\n",
       "    </tr>\n",
       "    <tr>\n",
       "      <th>22</th>\n",
       "      <td>C3N-02290_10</td>\n",
       "      <td>60</td>\n",
       "      <td>172</td>\n",
       "    </tr>\n",
       "    <tr>\n",
       "      <th>23</th>\n",
       "      <td>C3N-02671_02</td>\n",
       "      <td>79</td>\n",
       "      <td>167</td>\n",
       "    </tr>\n",
       "    <tr>\n",
       "      <th>24</th>\n",
       "      <td>C3N-02671_03</td>\n",
       "      <td>83</td>\n",
       "      <td>188</td>\n",
       "    </tr>\n",
       "    <tr>\n",
       "      <th>25</th>\n",
       "      <td>C3N-02671_04</td>\n",
       "      <td>89</td>\n",
       "      <td>250</td>\n",
       "    </tr>\n",
       "    <tr>\n",
       "      <th>26</th>\n",
       "      <td>C3N-02671_05</td>\n",
       "      <td>85</td>\n",
       "      <td>225</td>\n",
       "    </tr>\n",
       "    <tr>\n",
       "      <th>27</th>\n",
       "      <td>C3N-02672_03</td>\n",
       "      <td>308</td>\n",
       "      <td>612</td>\n",
       "    </tr>\n",
       "    <tr>\n",
       "      <th>28</th>\n",
       "      <td>C3N-02672_04</td>\n",
       "      <td>307</td>\n",
       "      <td>571</td>\n",
       "    </tr>\n",
       "    <tr>\n",
       "      <th>29</th>\n",
       "      <td>C3N-02672_06</td>\n",
       "      <td>308</td>\n",
       "      <td>502</td>\n",
       "    </tr>\n",
       "    <tr>\n",
       "      <th>30</th>\n",
       "      <td>C3N-02672_07</td>\n",
       "      <td>278</td>\n",
       "      <td>451</td>\n",
       "    </tr>\n",
       "    <tr>\n",
       "      <th>31</th>\n",
       "      <td>C3N-03023_01</td>\n",
       "      <td>109</td>\n",
       "      <td>348</td>\n",
       "    </tr>\n",
       "    <tr>\n",
       "      <th>32</th>\n",
       "      <td>C3N-03023_03</td>\n",
       "      <td>128</td>\n",
       "      <td>469</td>\n",
       "    </tr>\n",
       "    <tr>\n",
       "      <th>33</th>\n",
       "      <td>C3N-03023_04</td>\n",
       "      <td>103</td>\n",
       "      <td>299</td>\n",
       "    </tr>\n",
       "    <tr>\n",
       "      <th>34</th>\n",
       "      <td>C3N-03023_05</td>\n",
       "      <td>114</td>\n",
       "      <td>386</td>\n",
       "    </tr>\n",
       "    <tr>\n",
       "      <th>35</th>\n",
       "      <td>C3N-03023_06</td>\n",
       "      <td>107</td>\n",
       "      <td>337</td>\n",
       "    </tr>\n",
       "    <tr>\n",
       "      <th>36</th>\n",
       "      <td>C3N-03023_07</td>\n",
       "      <td>122</td>\n",
       "      <td>360</td>\n",
       "    </tr>\n",
       "    <tr>\n",
       "      <th>37</th>\n",
       "      <td>C3N-03023_09_10</td>\n",
       "      <td>83</td>\n",
       "      <td>280</td>\n",
       "    </tr>\n",
       "    <tr>\n",
       "      <th>38</th>\n",
       "      <td>C3N-03421_02</td>\n",
       "      <td>83</td>\n",
       "      <td>487</td>\n",
       "    </tr>\n",
       "    <tr>\n",
       "      <th>39</th>\n",
       "      <td>C3N-03421_03</td>\n",
       "      <td>83</td>\n",
       "      <td>495</td>\n",
       "    </tr>\n",
       "    <tr>\n",
       "      <th>40</th>\n",
       "      <td>C3N-03421_05</td>\n",
       "      <td>82</td>\n",
       "      <td>357</td>\n",
       "    </tr>\n",
       "    <tr>\n",
       "      <th>41</th>\n",
       "      <td>C3N-03421_06</td>\n",
       "      <td>81</td>\n",
       "      <td>292</td>\n",
       "    </tr>\n",
       "    <tr>\n",
       "      <th>42</th>\n",
       "      <td>C3N-03421_07</td>\n",
       "      <td>83</td>\n",
       "      <td>453</td>\n",
       "    </tr>\n",
       "    <tr>\n",
       "      <th>43</th>\n",
       "      <td>C3N-03421_08</td>\n",
       "      <td>83</td>\n",
       "      <td>501</td>\n",
       "    </tr>\n",
       "    <tr>\n",
       "      <th>44</th>\n",
       "      <td>C3N-03421_10</td>\n",
       "      <td>74</td>\n",
       "      <td>288</td>\n",
       "    </tr>\n",
       "  </tbody>\n",
       "</table>\n",
       "</div>"
      ]
     },
     "execution_count": 44,
     "metadata": {},
     "output_type": "execute_result"
    }
   ],
   "execution_count": 44
  },
  {
   "metadata": {
    "ExecuteTime": {
     "end_time": "2024-11-04T17:15:18.305142Z",
     "start_time": "2024-11-04T17:15:18.293183Z"
    }
   },
   "cell_type": "code",
   "source": "nc_summary_df.to_excel(\"~/Desktop/hla/test_cjt/data/PXD034772/DIA-non-canonical/dia_non-canonical_result_compare.xlsx\", index=False)",
   "id": "cfd22a245ce4ffcc",
   "outputs": [],
   "execution_count": 45
  },
  {
   "metadata": {
    "ExecuteTime": {
     "end_time": "2024-11-04T17:17:46.574858Z",
     "start_time": "2024-11-04T17:17:45.758391Z"
    }
   },
   "cell_type": "code",
   "source": [
    "import numpy as np\n",
    "import matplotlib.pyplot as plt\n",
    "\n",
    "plt.rcParams['font.family'] = 'Arial'\n",
    "plt.figure(figsize=(20, 8))\n",
    "# 设置柱状图的位置和宽度\n",
    "bar_width = 1\n",
    "index = 4*np.arange(nc_summary_df.shape[0])\n",
    "\n",
    "# 绘制柱状图\n",
    "plt.bar(index, nc_summary_df[\"original\"], bar_width, label=\"Original\")\n",
    "plt.bar(index + bar_width, nc_summary_df[\"new\"], bar_width, label=\"New\")\n",
    "\n",
    "# 添加标题和轴标签\n",
    "plt.xlabel('Sample id')\n",
    "plt.ylabel('Unique peptides number')\n",
    "\n",
    "# 显示图例\n",
    "plt.legend()\n",
    "\n",
    "# 在X轴上设置类别标签\n",
    "plt.xticks(index + bar_width / 2, nc_summary_df[\"sample_id\"], rotation=90)\n",
    "\n",
    "# 显示图表\n",
    "# plt.tight_layout()\n",
    "plt.savefig('/Users/chengjintao/Desktop/hla/test_cjt/figures/fig2_dia_non-canonical.svg', format='svg', dpi=300, bbox_inches='tight')"
   ],
   "id": "d99842145f340b53",
   "outputs": [
    {
     "data": {
      "text/plain": [
       "<Figure size 2000x800 with 1 Axes>"
      ],
      "image/png": "[encoded data removed]"
     },
     "metadata": {},
     "output_type": "display_data"
    }
   ],
   "execution_count": 47
  },
  {
   "metadata": {},
   "cell_type": "code",
   "outputs": [],
   "execution_count": null,
   "source": "",
   "id": "93e9178faed097b"
  }
 ],
 "metadata": {
  "kernelspec": {
   "display_name": "Python 3",
   "language": "python",
   "name": "python3"
  },
  "language_info": {
   "codemirror_mode": {
    "name": "ipython",
    "version": 2
   },
   "file_extension": ".py",
   "mimetype": "text/x-python",
   "name": "python",
   "nbconvert_exporter": "python",
   "pygments_lexer": "ipython2",
   "version": "2.7.6"
  }
 },
 "nbformat": 4,
 "nbformat_minor": 5
}

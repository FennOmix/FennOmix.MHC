{
 "cells": [
  {
   "cell_type": "code",
   "id": "initial_id",
   "metadata": {
    "collapsed": true,
    "ExecuteTime": {
     "end_time": "2024-08-13T07:35:00.661668Z",
     "start_time": "2024-08-13T07:34:53.489265Z"
    }
   },
   "source": [
    "import torch\n",
    "import pickle\n",
    "from pdeep.mhc.mhc_binding_retriever import MHCBindingRetriever\n",
    "from pdeep.mhc.mhc_binding_model import ModelHlaEncoder, ModelSeqEncoder\n",
    "\n",
    "model_version = \"v0613\"\n",
    "pept_encoder = ModelSeqEncoder().to(\"cuda\")\n",
    "hla_encoder = ModelHlaEncoder().to(\"cuda\")\n",
    "\n",
    "hla_encoder.load_state_dict(torch.load(f\"model/HLA_model_{model_version}.pt\", map_location=\"cuda\"))\n",
    "pept_encoder.load_state_dict(torch.load(f\"model/pept_model_{model_version}.pt\", map_location=\"cuda\"))\n"
   ],
   "outputs": [
    {
     "data": {
      "text/plain": [
       "<All keys matched successfully>"
      ]
     },
     "execution_count": 1,
     "metadata": {},
     "output_type": "execute_result"
    }
   ],
   "execution_count": 1
  },
  {
   "metadata": {
    "ExecuteTime": {
     "end_time": "2024-08-13T07:35:06.669985Z",
     "start_time": "2024-08-13T07:35:00.662980Z"
    }
   },
   "cell_type": "code",
   "source": [
    "with open(f\"embeds/HLA_model_{model_version}.pt.embed\", \"rb\") as f:\n",
    "    data_dict = pickle.load(f)\n",
    "    protein_df = data_dict[\"protein_df\"]\n",
    "    embeds = data_dict[\"embeds\"]\n",
    "    umap_reducer = data_dict[\"umap_reducer\"]\n"
   ],
   "id": "de8e90f0f84d0fa",
   "outputs": [],
   "execution_count": 2
  },
  {
   "metadata": {
    "ExecuteTime": {
     "end_time": "2024-08-13T07:35:06.991918Z",
     "start_time": "2024-08-13T07:35:06.671133Z"
    }
   },
   "cell_type": "code",
   "source": [
    "fasta_list = \"data/demo/test.fasta\"\n",
    "retriever = MHCBindingRetriever(\n",
    "    hla_encoder, pept_encoder, protein_df, embeds, fasta_list, digested_pept_lens=(8,14)\n",
    ")"
   ],
   "id": "5137d0333c6c49f",
   "outputs": [],
   "execution_count": 3
  },
  {
   "metadata": {
    "ExecuteTime": {
     "end_time": "2024-08-13T07:35:52.086446Z",
     "start_time": "2024-08-13T07:35:52.082262Z"
    }
   },
   "cell_type": "code",
   "source": [
    "test_alleles_list = [\n",
    "    \"A0201\",\"A0301\",\"B3801\",\"B4405\",\"C0202\",\"C1203\"\n",
    "]"
   ],
   "id": "df80c11e6bf77d10",
   "outputs": [],
   "execution_count": 4
  },
  {
   "metadata": {
    "ExecuteTime": {
     "end_time": "2024-08-13T07:37:12.548531Z",
     "start_time": "2024-08-13T07:36:19.009373Z"
    }
   },
   "cell_type": "code",
   "source": [
    "peptide_df = retriever.get_binding_metrics_for_self_proteins(\n",
    "            test_alleles_list, dist_threshold=0.4,\n",
    "            fdr=1e10, get_sequence=True\n",
    "        )\n",
    "peptide_df"
   ],
   "id": "91e053c0bf29fb49",
   "outputs": [
    {
     "name": "stderr",
     "output_type": "stream",
     "text": [
      "100%|██████████| 3/3 [00:49<00:00, 16.50s/it]\n"
     ]
    },
    {
     "data": {
      "text/plain": [
       "        best_allele_id  best_allele_dist  best_allele_rank  best_allele_fdr  \\\n",
       "0                    1          0.186641                 1         0.007636   \n",
       "1                    0          0.211866                 0         0.004407   \n",
       "2                    4          0.276956                 0         0.000802   \n",
       "3                    1          0.074507                 0         0.000200   \n",
       "4                    1          0.079320                 0         0.001209   \n",
       "...                ...               ...               ...              ...   \n",
       "181462               1          0.074775                 0         0.000200   \n",
       "181463               1          0.053455                 0         0.000000   \n",
       "181464               1          0.043071                 0         0.000000   \n",
       "181465               0          0.065053                 0         0.000000   \n",
       "181466               5          0.272313                 0         0.000800   \n",
       "\n",
       "          sequence  \n",
       "0        MVSPLPPPH  \n",
       "1        HCPGAALHV  \n",
       "2        GAALHVQPY  \n",
       "3       GAALHVQPYK  \n",
       "4        AALHVQPYK  \n",
       "...            ...  \n",
       "181462  KKKLLGQFYK  \n",
       "181463   KKLLGQFYK  \n",
       "181464    KLLGQFYK  \n",
       "181465   KLLGQFYKC  \n",
       "181466   HPDIFIEHF  \n",
       "\n",
       "[181467 rows x 5 columns]"
      ],
      "text/html": [
       "<div>\n",
       "<style scoped>\n",
       "    .dataframe tbody tr th:only-of-type {\n",
       "        vertical-align: middle;\n",
       "    }\n",
       "\n",
       "    .dataframe tbody tr th {\n",
       "        vertical-align: top;\n",
       "    }\n",
       "\n",
       "    .dataframe thead th {\n",
       "        text-align: right;\n",
       "    }\n",
       "</style>\n",
       "<table border=\"1\" class=\"dataframe\">\n",
       "  <thead>\n",
       "    <tr style=\"text-align: right;\">\n",
       "      <th></th>\n",
       "      <th>best_allele_id</th>\n",
       "      <th>best_allele_dist</th>\n",
       "      <th>best_allele_rank</th>\n",
       "      <th>best_allele_fdr</th>\n",
       "      <th>sequence</th>\n",
       "    </tr>\n",
       "  </thead>\n",
       "  <tbody>\n",
       "    <tr>\n",
       "      <th>0</th>\n",
       "      <td>1</td>\n",
       "      <td>0.186641</td>\n",
       "      <td>1</td>\n",
       "      <td>0.007636</td>\n",
       "      <td>MVSPLPPPH</td>\n",
       "    </tr>\n",
       "    <tr>\n",
       "      <th>1</th>\n",
       "      <td>0</td>\n",
       "      <td>0.211866</td>\n",
       "      <td>0</td>\n",
       "      <td>0.004407</td>\n",
       "      <td>HCPGAALHV</td>\n",
       "    </tr>\n",
       "    <tr>\n",
       "      <th>2</th>\n",
       "      <td>4</td>\n",
       "      <td>0.276956</td>\n",
       "      <td>0</td>\n",
       "      <td>0.000802</td>\n",
       "      <td>GAALHVQPY</td>\n",
       "    </tr>\n",
       "    <tr>\n",
       "      <th>3</th>\n",
       "      <td>1</td>\n",
       "      <td>0.074507</td>\n",
       "      <td>0</td>\n",
       "      <td>0.000200</td>\n",
       "      <td>GAALHVQPYK</td>\n",
       "    </tr>\n",
       "    <tr>\n",
       "      <th>4</th>\n",
       "      <td>1</td>\n",
       "      <td>0.079320</td>\n",
       "      <td>0</td>\n",
       "      <td>0.001209</td>\n",
       "      <td>AALHVQPYK</td>\n",
       "    </tr>\n",
       "    <tr>\n",
       "      <th>...</th>\n",
       "      <td>...</td>\n",
       "      <td>...</td>\n",
       "      <td>...</td>\n",
       "      <td>...</td>\n",
       "      <td>...</td>\n",
       "    </tr>\n",
       "    <tr>\n",
       "      <th>181462</th>\n",
       "      <td>1</td>\n",
       "      <td>0.074775</td>\n",
       "      <td>0</td>\n",
       "      <td>0.000200</td>\n",
       "      <td>KKKLLGQFYK</td>\n",
       "    </tr>\n",
       "    <tr>\n",
       "      <th>181463</th>\n",
       "      <td>1</td>\n",
       "      <td>0.053455</td>\n",
       "      <td>0</td>\n",
       "      <td>0.000000</td>\n",
       "      <td>KKLLGQFYK</td>\n",
       "    </tr>\n",
       "    <tr>\n",
       "      <th>181464</th>\n",
       "      <td>1</td>\n",
       "      <td>0.043071</td>\n",
       "      <td>0</td>\n",
       "      <td>0.000000</td>\n",
       "      <td>KLLGQFYK</td>\n",
       "    </tr>\n",
       "    <tr>\n",
       "      <th>181465</th>\n",
       "      <td>0</td>\n",
       "      <td>0.065053</td>\n",
       "      <td>0</td>\n",
       "      <td>0.000000</td>\n",
       "      <td>KLLGQFYKC</td>\n",
       "    </tr>\n",
       "    <tr>\n",
       "      <th>181466</th>\n",
       "      <td>5</td>\n",
       "      <td>0.272313</td>\n",
       "      <td>0</td>\n",
       "      <td>0.000800</td>\n",
       "      <td>HPDIFIEHF</td>\n",
       "    </tr>\n",
       "  </tbody>\n",
       "</table>\n",
       "<p>181467 rows × 5 columns</p>\n",
       "</div>"
      ]
     },
     "execution_count": 5,
     "metadata": {},
     "output_type": "execute_result"
    }
   ],
   "execution_count": 5
  },
  {
   "metadata": {
    "ExecuteTime": {
     "end_time": "2024-08-13T07:37:49.384926Z",
     "start_time": "2024-08-13T07:37:49.049552Z"
    }
   },
   "cell_type": "code",
   "source": "peptide_df.to_csv('data/demo/peptide_df.tsv', sep='\\t', index=False)",
   "id": "b315f805019f231d",
   "outputs": [],
   "execution_count": 6
  },
  {
   "metadata": {},
   "cell_type": "code",
   "source": "",
   "id": "712d958e8db4b636",
   "outputs": [],
   "execution_count": null
  }
 ],
 "metadata": {
  "kernelspec": {
   "display_name": "Python 3",
   "language": "python",
   "name": "python3"
  },
  "language_info": {
   "codemirror_mode": {
    "name": "ipython",
    "version": 2
   },
   "file_extension": ".py",
   "mimetype": "text/x-python",
   "name": "python",
   "nbconvert_exporter": "python",
   "pygments_lexer": "ipython2",
   "version": "2.7.6"
  }
 },
 "nbformat": 4,
 "nbformat_minor": 5
}

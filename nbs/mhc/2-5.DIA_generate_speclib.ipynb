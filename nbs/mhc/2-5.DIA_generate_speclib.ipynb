{
 "cells": [
  {
   "cell_type": "code",
   "id": "initial_id",
   "metadata": {
    "collapsed": true,
    "ExecuteTime": {
     "end_time": "2024-08-13T07:49:20.117169Z",
     "start_time": "2024-08-13T07:49:14.390317Z"
    }
   },
   "source": [
    "import os\n",
    "import pandas as pd\n",
    "import psutil\n",
    "import numpy as np\n",
    "from peptdeep.pretrained_models import ModelManager\n",
    "from peptdeep.protein.fasta import PredictSpecLibFasta\n",
    "from alphabase.peptide.fragment import get_charged_frag_types\n",
    "from alphabase.peptide.precursor import hash_precursor_df\n",
    "from alphabase.spectral_library.translate import translate_to_tsv"
   ],
   "outputs": [],
   "execution_count": 1
  },
  {
   "metadata": {
    "ExecuteTime": {
     "end_time": "2024-08-13T07:49:20.121247Z",
     "start_time": "2024-08-13T07:49:20.118757Z"
    }
   },
   "cell_type": "code",
   "source": [
    "nce = 27\n",
    "instrument = 'QE'\n",
    "\n",
    "fix_mods = []\n",
    "var_mods = ['Oxidation@M']\n",
    "\n",
    "labeling_channels = {}"
   ],
   "id": "d36e596103bccec4",
   "outputs": [],
   "execution_count": 2
  },
  {
   "metadata": {
    "ExecuteTime": {
     "end_time": "2024-08-13T07:49:21.271604Z",
     "start_time": "2024-08-13T07:49:20.122140Z"
    }
   },
   "cell_type": "code",
   "source": [
    "max_var_mods = 1\n",
    "min_pep_mz = 300\n",
    "max_pep_mz = 1650\n",
    "precursor_charge_min = 1\n",
    "precursor_charge_max = 3\n",
    "frag_types = get_charged_frag_types(['b', 'y'], 2)\n",
    "\n",
    "model_mgr = ModelManager()\n",
    "model_mgr"
   ],
   "id": "918735ed2e7b9c5d",
   "outputs": [
    {
     "data": {
      "text/plain": [
       "<peptdeep.pretrained_models.ModelManager at 0x7e3412917760>"
      ]
     },
     "execution_count": 3,
     "metadata": {},
     "output_type": "execute_result"
    }
   ],
   "execution_count": 3
  },
  {
   "metadata": {
    "ExecuteTime": {
     "end_time": "2024-08-13T07:49:21.393975Z",
     "start_time": "2024-08-13T07:49:21.272774Z"
    }
   },
   "cell_type": "code",
   "source": [
    "seq_df = pd.read_table(\"data/demo/peptide_df.tsv\")\n",
    "seq_df[\"nAA\"] = seq_df.sequence.str.len()\n",
    "seq_df"
   ],
   "id": "ee7683f8067c4b27",
   "outputs": [
    {
     "data": {
      "text/plain": [
       "        best_allele_id  best_allele_dist  best_allele_rank  best_allele_fdr  \\\n",
       "0                    1          0.186641                 1         0.007636   \n",
       "1                    0          0.211866                 0         0.004407   \n",
       "2                    4          0.276956                 0         0.000802   \n",
       "3                    1          0.074507                 0         0.000200   \n",
       "4                    1          0.079320                 0         0.001209   \n",
       "...                ...               ...               ...              ...   \n",
       "181462               1          0.074775                 0         0.000200   \n",
       "181463               1          0.053455                 0         0.000000   \n",
       "181464               1          0.043071                 0         0.000000   \n",
       "181465               0          0.065053                 0         0.000000   \n",
       "181466               5          0.272313                 0         0.000800   \n",
       "\n",
       "          sequence  nAA  \n",
       "0        MVSPLPPPH    9  \n",
       "1        HCPGAALHV    9  \n",
       "2        GAALHVQPY    9  \n",
       "3       GAALHVQPYK   10  \n",
       "4        AALHVQPYK    9  \n",
       "...            ...  ...  \n",
       "181462  KKKLLGQFYK   10  \n",
       "181463   KKLLGQFYK    9  \n",
       "181464    KLLGQFYK    8  \n",
       "181465   KLLGQFYKC    9  \n",
       "181466   HPDIFIEHF    9  \n",
       "\n",
       "[181467 rows x 6 columns]"
      ],
      "text/html": [
       "<div>\n",
       "<style scoped>\n",
       "    .dataframe tbody tr th:only-of-type {\n",
       "        vertical-align: middle;\n",
       "    }\n",
       "\n",
       "    .dataframe tbody tr th {\n",
       "        vertical-align: top;\n",
       "    }\n",
       "\n",
       "    .dataframe thead th {\n",
       "        text-align: right;\n",
       "    }\n",
       "</style>\n",
       "<table border=\"1\" class=\"dataframe\">\n",
       "  <thead>\n",
       "    <tr style=\"text-align: right;\">\n",
       "      <th></th>\n",
       "      <th>best_allele_id</th>\n",
       "      <th>best_allele_dist</th>\n",
       "      <th>best_allele_rank</th>\n",
       "      <th>best_allele_fdr</th>\n",
       "      <th>sequence</th>\n",
       "      <th>nAA</th>\n",
       "    </tr>\n",
       "  </thead>\n",
       "  <tbody>\n",
       "    <tr>\n",
       "      <th>0</th>\n",
       "      <td>1</td>\n",
       "      <td>0.186641</td>\n",
       "      <td>1</td>\n",
       "      <td>0.007636</td>\n",
       "      <td>MVSPLPPPH</td>\n",
       "      <td>9</td>\n",
       "    </tr>\n",
       "    <tr>\n",
       "      <th>1</th>\n",
       "      <td>0</td>\n",
       "      <td>0.211866</td>\n",
       "      <td>0</td>\n",
       "      <td>0.004407</td>\n",
       "      <td>HCPGAALHV</td>\n",
       "      <td>9</td>\n",
       "    </tr>\n",
       "    <tr>\n",
       "      <th>2</th>\n",
       "      <td>4</td>\n",
       "      <td>0.276956</td>\n",
       "      <td>0</td>\n",
       "      <td>0.000802</td>\n",
       "      <td>GAALHVQPY</td>\n",
       "      <td>9</td>\n",
       "    </tr>\n",
       "    <tr>\n",
       "      <th>3</th>\n",
       "      <td>1</td>\n",
       "      <td>0.074507</td>\n",
       "      <td>0</td>\n",
       "      <td>0.000200</td>\n",
       "      <td>GAALHVQPYK</td>\n",
       "      <td>10</td>\n",
       "    </tr>\n",
       "    <tr>\n",
       "      <th>4</th>\n",
       "      <td>1</td>\n",
       "      <td>0.079320</td>\n",
       "      <td>0</td>\n",
       "      <td>0.001209</td>\n",
       "      <td>AALHVQPYK</td>\n",
       "      <td>9</td>\n",
       "    </tr>\n",
       "    <tr>\n",
       "      <th>...</th>\n",
       "      <td>...</td>\n",
       "      <td>...</td>\n",
       "      <td>...</td>\n",
       "      <td>...</td>\n",
       "      <td>...</td>\n",
       "      <td>...</td>\n",
       "    </tr>\n",
       "    <tr>\n",
       "      <th>181462</th>\n",
       "      <td>1</td>\n",
       "      <td>0.074775</td>\n",
       "      <td>0</td>\n",
       "      <td>0.000200</td>\n",
       "      <td>KKKLLGQFYK</td>\n",
       "      <td>10</td>\n",
       "    </tr>\n",
       "    <tr>\n",
       "      <th>181463</th>\n",
       "      <td>1</td>\n",
       "      <td>0.053455</td>\n",
       "      <td>0</td>\n",
       "      <td>0.000000</td>\n",
       "      <td>KKLLGQFYK</td>\n",
       "      <td>9</td>\n",
       "    </tr>\n",
       "    <tr>\n",
       "      <th>181464</th>\n",
       "      <td>1</td>\n",
       "      <td>0.043071</td>\n",
       "      <td>0</td>\n",
       "      <td>0.000000</td>\n",
       "      <td>KLLGQFYK</td>\n",
       "      <td>8</td>\n",
       "    </tr>\n",
       "    <tr>\n",
       "      <th>181465</th>\n",
       "      <td>0</td>\n",
       "      <td>0.065053</td>\n",
       "      <td>0</td>\n",
       "      <td>0.000000</td>\n",
       "      <td>KLLGQFYKC</td>\n",
       "      <td>9</td>\n",
       "    </tr>\n",
       "    <tr>\n",
       "      <th>181466</th>\n",
       "      <td>5</td>\n",
       "      <td>0.272313</td>\n",
       "      <td>0</td>\n",
       "      <td>0.000800</td>\n",
       "      <td>HPDIFIEHF</td>\n",
       "      <td>9</td>\n",
       "    </tr>\n",
       "  </tbody>\n",
       "</table>\n",
       "<p>181467 rows × 6 columns</p>\n",
       "</div>"
      ]
     },
     "execution_count": 4,
     "metadata": {},
     "output_type": "execute_result"
    }
   ],
   "execution_count": 4
  },
  {
   "metadata": {
    "ExecuteTime": {
     "end_time": "2024-08-13T07:49:21.399238Z",
     "start_time": "2024-08-13T07:49:21.395505Z"
    }
   },
   "cell_type": "code",
   "source": [
    "out_lib_dir = \"data/demo\"\n",
    "\n",
    "title = (f\"HLA\"\n",
    "    + (\"_mDIA\" if labeling_channels else \"\")\n",
    "    + f\"_ch={precursor_charge_min}-{precursor_charge_max}\"\n",
    "    + f\"_mz={min_pep_mz}-{max_pep_mz}\"\n",
    "    + f\"_mod={max_var_mods}\"\n",
    ")\n",
    "\n",
    "hdf_path = os.path.join(out_lib_dir,f'{title}_{instrument}{nce}.hdf')\n",
    "hdf_path"
   ],
   "id": "8e0a11c4dacf5c4",
   "outputs": [
    {
     "data": {
      "text/plain": [
       "'data/demo/HLA_ch=1-3_mz=300-1650_mod=1_QE27.hdf'"
      ]
     },
     "execution_count": 5,
     "metadata": {},
     "output_type": "execute_result"
    }
   ],
   "execution_count": 5
  },
  {
   "metadata": {
    "ExecuteTime": {
     "end_time": "2024-08-13T07:49:25.693048Z",
     "start_time": "2024-08-13T07:49:21.400072Z"
    }
   },
   "cell_type": "code",
   "source": [
    "model_mgr.load_installed_models()\n",
    "model_mgr.nce = nce\n",
    "model_mgr.instrument = instrument\n",
    "\n",
    "fasta_lib = PredictSpecLibFasta(\n",
    "    model_mgr,\n",
    "    charged_frag_types=frag_types,\n",
    "    var_mods=var_mods,\n",
    "    fix_mods=fix_mods,\n",
    "    max_var_mod_num=max_var_mods,\n",
    "    labeling_channels=labeling_channels,\n",
    "    precursor_charge_min=precursor_charge_min,\n",
    "    precursor_charge_max=precursor_charge_max,\n",
    "    precursor_mz_min=min_pep_mz,\n",
    "    precursor_mz_max=max_pep_mz,\n",
    "    decoy=None\n",
    ")\n",
    "\n",
    "fasta_lib.precursor_df = seq_df\n",
    "fasta_lib.add_modifications()\n",
    "fasta_lib.add_peptide_labeling()\n",
    "fasta_lib.add_charge()"
   ],
   "id": "c1ddc7c4bd7d5af7",
   "outputs": [],
   "execution_count": 6
  },
  {
   "metadata": {
    "ExecuteTime": {
     "end_time": "2024-08-13T07:49:49.503123Z",
     "start_time": "2024-08-13T07:49:25.694434Z"
    }
   },
   "cell_type": "code",
   "source": [
    "hash_precursor_df(fasta_lib.precursor_df)\n",
    "\n",
    "fasta_lib.calc_precursor_mz()\n",
    "\n",
    "fasta_lib.precursor_df['instrument'] = model_mgr.instrument\n",
    "fasta_lib.precursor_df['nce'] = model_mgr.nce\n",
    "res = fasta_lib.model_manager.predict_all(\n",
    "    fasta_lib.precursor_df,\n",
    "    predict_items=['rt','mobility','ms2'],\n",
    "    frag_types=frag_types\n",
    ")\n",
    "\n",
    "fasta_lib.set_precursor_and_fragment(\n",
    "    **res\n",
    ")\n"
   ],
   "id": "b965c175c292c9b9",
   "outputs": [
    {
     "name": "stdout",
     "output_type": "stream",
     "text": [
      "2024-08-13 15:49:26> Predicting RT ...\n"
     ]
    },
    {
     "name": "stderr",
     "output_type": "stream",
     "text": [
      "100%|██████████| 7/7 [00:05<00:00,  1.27it/s]"
     ]
    },
    {
     "name": "stdout",
     "output_type": "stream",
     "text": [
      "2024-08-13 15:49:32> Predicting mobility ...\n"
     ]
    },
    {
     "name": "stderr",
     "output_type": "stream",
     "text": [
      "\n",
      "100%|██████████| 7/7 [00:05<00:00,  1.34it/s]\n"
     ]
    },
    {
     "name": "stdout",
     "output_type": "stream",
     "text": [
      "2024-08-13 15:49:40> Predicting MS2 ...\n"
     ]
    },
    {
     "name": "stderr",
     "output_type": "stream",
     "text": [
      "100%|██████████| 7/7 [00:08<00:00,  1.25s/it]\n"
     ]
    }
   ],
   "execution_count": 7
  },
  {
   "metadata": {
    "ExecuteTime": {
     "end_time": "2024-08-13T07:51:51.543184Z",
     "start_time": "2024-08-13T07:49:49.504333Z"
    }
   },
   "cell_type": "code",
   "source": [
    "process = psutil.Process(os.getpid())\n",
    "print(f'{len(fasta_lib.precursor_df)*1e-6:.2f}M precursors with {np.prod(fasta_lib.fragment_mz_df.values.shape, dtype=float)*(1e-6):.2f}M fragments used {process.memory_info().rss/1024**3:.4f} GB memory')\n",
    "\n",
    "translate_to_tsv(fasta_lib, hdf_path[:-4]+\".tsv\",\n",
    "    min_frag_intensity=0.001,\n",
    "    keep_k_highest_fragments=12\n",
    ")"
   ],
   "id": "a234875b6df56cd2",
   "outputs": [
    {
     "name": "stdout",
     "output_type": "stream",
     "text": [
      "0.66M precursors with 22.99M fragments used 1.6904 GB memory\n"
     ]
    },
    {
     "name": "stderr",
     "output_type": "stream",
     "text": [
      "100%|██████████| 7/7 [01:54<00:00, 16.42s/it]\n"
     ]
    },
    {
     "name": "stdout",
     "output_type": "stream",
     "text": [
      "Translation finished, it will take several minutes to export the rest precursors to the tsv file...\n"
     ]
    }
   ],
   "execution_count": 8
  }
 ],
 "metadata": {
  "kernelspec": {
   "display_name": "Python 3",
   "language": "python",
   "name": "python3"
  },
  "language_info": {
   "codemirror_mode": {
    "name": "ipython",
    "version": 2
   },
   "file_extension": ".py",
   "mimetype": "text/x-python",
   "name": "python",
   "nbconvert_exporter": "python",
   "pygments_lexer": "ipython2",
   "version": "2.7.6"
  }
 },
 "nbformat": 4,
 "nbformat_minor": 5
}

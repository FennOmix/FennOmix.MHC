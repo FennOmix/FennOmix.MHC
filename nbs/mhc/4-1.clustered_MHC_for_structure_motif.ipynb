{
 "cells": [
  {
   "cell_type": "code",
   "execution_count": 1,
   "outputs": [],
   "source": [
    "def get_mean_embeds(alleles, weights=None):\n",
    "    selected_embeds = retriever.hla_embeds[\n",
    "        [retriever.dataset.allele_idxes_dict[allele][0] for allele in alleles]\n",
    "    ].copy()\n",
    "    if weights is None:\n",
    "        return np.mean(selected_embeds, axis=0)\n",
    "    else:\n",
    "        weights = (np.array(weights, np.float32)/np.sum(weights))[None,:]\n",
    "        return weights@selected_embeds"
   ],
   "metadata": {
    "collapsed": false
   }
  },
  {
   "cell_type": "code",
   "execution_count": 2,
   "outputs": [
    {
     "data": {
      "text/plain": "    cluster_id  alleles_num                                            alleles\n0            1           13  A30_01;A03_01;A11_01;A03_02;A11_02;A74_01;A31_...\n1            2            7   B58_02;B57_01;B57_03;B58_01;B15_13;A32_01;B15_17\n2            3            1                                             B15_03\n3            4           15  A01_01;A36_01;A30_02;A80_01;A29_02;B15_01;B15_...\n4            5           16  A68_02;A69_01;A02_07;A02_17;A02_19;A02_06;A02_...\n5            6            4                        B52_01;C15_02;B13_01;B13_02\n6            7           11  B46_01;C12_04;C12_02;C12_03;C02_02;C16_02;C15_...\n7            8           11  C08_01;C17_01;C03_04;C03_03;C04_03;C05_01;C08_...\n8            9            2                                      B73_01;B39_06\n9           10           12  B27_05;B27_03;B27_09;B27_04;B39_05;B38_01;B38_...\n10          11            7   C04_01;C14_03;C14_02;A24_03;A23_01;A24_02;A24_07\n11          12            5                 B14_02;B14_01;C06_02;C07_02;C07_01\n12          13           17  B41_01;B40_06;B50_01;B40_32;B45_01;B45_06;B40_...\n13          14           14  B54_01;B55_01;B56_01;B55_02;B35_02;B35_03;B51_...\n14          15            3                               B53_01;B83_01;B35_07\n15          16            3                               B08_03;B08_02;B08_01",
      "text/html": "<div>\n<style scoped>\n    .dataframe tbody tr th:only-of-type {\n        vertical-align: middle;\n    }\n\n    .dataframe tbody tr th {\n        vertical-align: top;\n    }\n\n    .dataframe thead th {\n        text-align: right;\n    }\n</style>\n<table border=\"1\" class=\"dataframe\">\n  <thead>\n    <tr style=\"text-align: right;\">\n      <th></th>\n      <th>cluster_id</th>\n      <th>alleles_num</th>\n      <th>alleles</th>\n    </tr>\n  </thead>\n  <tbody>\n    <tr>\n      <th>0</th>\n      <td>1</td>\n      <td>13</td>\n      <td>A30_01;A03_01;A11_01;A03_02;A11_02;A74_01;A31_...</td>\n    </tr>\n    <tr>\n      <th>1</th>\n      <td>2</td>\n      <td>7</td>\n      <td>B58_02;B57_01;B57_03;B58_01;B15_13;A32_01;B15_17</td>\n    </tr>\n    <tr>\n      <th>2</th>\n      <td>3</td>\n      <td>1</td>\n      <td>B15_03</td>\n    </tr>\n    <tr>\n      <th>3</th>\n      <td>4</td>\n      <td>15</td>\n      <td>A01_01;A36_01;A30_02;A80_01;A29_02;B15_01;B15_...</td>\n    </tr>\n    <tr>\n      <th>4</th>\n      <td>5</td>\n      <td>16</td>\n      <td>A68_02;A69_01;A02_07;A02_17;A02_19;A02_06;A02_...</td>\n    </tr>\n    <tr>\n      <th>5</th>\n      <td>6</td>\n      <td>4</td>\n      <td>B52_01;C15_02;B13_01;B13_02</td>\n    </tr>\n    <tr>\n      <th>6</th>\n      <td>7</td>\n      <td>11</td>\n      <td>B46_01;C12_04;C12_02;C12_03;C02_02;C16_02;C15_...</td>\n    </tr>\n    <tr>\n      <th>7</th>\n      <td>8</td>\n      <td>11</td>\n      <td>C08_01;C17_01;C03_04;C03_03;C04_03;C05_01;C08_...</td>\n    </tr>\n    <tr>\n      <th>8</th>\n      <td>9</td>\n      <td>2</td>\n      <td>B73_01;B39_06</td>\n    </tr>\n    <tr>\n      <th>9</th>\n      <td>10</td>\n      <td>12</td>\n      <td>B27_05;B27_03;B27_09;B27_04;B39_05;B38_01;B38_...</td>\n    </tr>\n    <tr>\n      <th>10</th>\n      <td>11</td>\n      <td>7</td>\n      <td>C04_01;C14_03;C14_02;A24_03;A23_01;A24_02;A24_07</td>\n    </tr>\n    <tr>\n      <th>11</th>\n      <td>12</td>\n      <td>5</td>\n      <td>B14_02;B14_01;C06_02;C07_02;C07_01</td>\n    </tr>\n    <tr>\n      <th>12</th>\n      <td>13</td>\n      <td>17</td>\n      <td>B41_01;B40_06;B50_01;B40_32;B45_01;B45_06;B40_...</td>\n    </tr>\n    <tr>\n      <th>13</th>\n      <td>14</td>\n      <td>14</td>\n      <td>B54_01;B55_01;B56_01;B55_02;B35_02;B35_03;B51_...</td>\n    </tr>\n    <tr>\n      <th>14</th>\n      <td>15</td>\n      <td>3</td>\n      <td>B53_01;B83_01;B35_07</td>\n    </tr>\n    <tr>\n      <th>15</th>\n      <td>16</td>\n      <td>3</td>\n      <td>B08_03;B08_02;B08_01</td>\n    </tr>\n  </tbody>\n</table>\n</div>"
     },
     "execution_count": 2,
     "metadata": {},
     "output_type": "execute_result"
    }
   ],
   "source": [
    "import pandas as pd\n",
    "\n",
    "cluster_df = pd.read_table(\"data/fig3a_cluster_info.tsv\")\n",
    "cluster_df"
   ],
   "metadata": {
    "collapsed": false
   }
  },
  {
   "cell_type": "code",
   "execution_count": 3,
   "outputs": [
    {
     "data": {
      "text/plain": "                                                sequence   allele  \\\n0      AHSMRYFYTAVSRPGRGEPHFIAVGYVDDTQFVRFDSDAASPRGEP...  C03_159   \n1      ALALTETWAGSHSMRYFYTAMSRPGRGEPRFIAVGYVDDTQFVRFD...  B15_128   \n2      ALALTETWAGSHSMRYFYTSVSRPGRGEPRFISVGYVDDTQFVRFD...   B14_12   \n3      APRTLLLLLSGALALTQTWAGSHSMRYFYTSVSRPGRGEPRFIAVG...   A03_12   \n4      APRTLVLLLSGALALTQTWAGSHSMRYFSTSVSRPGRGEPRFIAVG...   A24_79   \n...                                                  ...      ...   \n16449  TLLLLLSGALALTQTWAGSHSMRYFSTSVSRPGRGEPRFIAVGYVD...   A24_26   \n16450  TLVLLLSGALALTQTWAGSHSMRYFFTSVSRPGRGEPRFIAVGYVD...   A02_01   \n16451  VTAPRTLLLLLWGAVALTETWAGSHSMRYFYTAMSRPGRGEPRFIT...   B44_43   \n16452  VTAPRTVLLLLSGALALTETWAGSHSMRYFYTAMSRPGRGEPRFIA...   B15_57   \n16453  YHSMRYFDTAVSRPGRGEPRFISVGYVDDTQFVRFDSDAASPRGEP...  C07_221   \n\n      allele_detail  \n0          C*03:159  \n1          B*15:128  \n2           B*14:12  \n3           A*03:12  \n4           A*24:79  \n...             ...  \n16449       A*24:26  \n16450    A*02:01:03  \n16451    B*44:43:01  \n16452       B*15:57  \n16453      C*07:221  \n\n[16454 rows x 3 columns]",
      "text/html": "<div>\n<style scoped>\n    .dataframe tbody tr th:only-of-type {\n        vertical-align: middle;\n    }\n\n    .dataframe tbody tr th {\n        vertical-align: top;\n    }\n\n    .dataframe thead th {\n        text-align: right;\n    }\n</style>\n<table border=\"1\" class=\"dataframe\">\n  <thead>\n    <tr style=\"text-align: right;\">\n      <th></th>\n      <th>sequence</th>\n      <th>allele</th>\n      <th>allele_detail</th>\n    </tr>\n  </thead>\n  <tbody>\n    <tr>\n      <th>0</th>\n      <td>AHSMRYFYTAVSRPGRGEPHFIAVGYVDDTQFVRFDSDAASPRGEP...</td>\n      <td>C03_159</td>\n      <td>C*03:159</td>\n    </tr>\n    <tr>\n      <th>1</th>\n      <td>ALALTETWAGSHSMRYFYTAMSRPGRGEPRFIAVGYVDDTQFVRFD...</td>\n      <td>B15_128</td>\n      <td>B*15:128</td>\n    </tr>\n    <tr>\n      <th>2</th>\n      <td>ALALTETWAGSHSMRYFYTSVSRPGRGEPRFISVGYVDDTQFVRFD...</td>\n      <td>B14_12</td>\n      <td>B*14:12</td>\n    </tr>\n    <tr>\n      <th>3</th>\n      <td>APRTLLLLLSGALALTQTWAGSHSMRYFYTSVSRPGRGEPRFIAVG...</td>\n      <td>A03_12</td>\n      <td>A*03:12</td>\n    </tr>\n    <tr>\n      <th>4</th>\n      <td>APRTLVLLLSGALALTQTWAGSHSMRYFSTSVSRPGRGEPRFIAVG...</td>\n      <td>A24_79</td>\n      <td>A*24:79</td>\n    </tr>\n    <tr>\n      <th>...</th>\n      <td>...</td>\n      <td>...</td>\n      <td>...</td>\n    </tr>\n    <tr>\n      <th>16449</th>\n      <td>TLLLLLSGALALTQTWAGSHSMRYFSTSVSRPGRGEPRFIAVGYVD...</td>\n      <td>A24_26</td>\n      <td>A*24:26</td>\n    </tr>\n    <tr>\n      <th>16450</th>\n      <td>TLVLLLSGALALTQTWAGSHSMRYFFTSVSRPGRGEPRFIAVGYVD...</td>\n      <td>A02_01</td>\n      <td>A*02:01:03</td>\n    </tr>\n    <tr>\n      <th>16451</th>\n      <td>VTAPRTLLLLLWGAVALTETWAGSHSMRYFYTAMSRPGRGEPRFIT...</td>\n      <td>B44_43</td>\n      <td>B*44:43:01</td>\n    </tr>\n    <tr>\n      <th>16452</th>\n      <td>VTAPRTVLLLLSGALALTETWAGSHSMRYFYTAMSRPGRGEPRFIA...</td>\n      <td>B15_57</td>\n      <td>B*15:57</td>\n    </tr>\n    <tr>\n      <th>16453</th>\n      <td>YHSMRYFDTAVSRPGRGEPRFISVGYVDDTQFVRFDSDAASPRGEP...</td>\n      <td>C07_221</td>\n      <td>C*07:221</td>\n    </tr>\n  </tbody>\n</table>\n<p>16454 rows × 3 columns</p>\n</div>"
     },
     "execution_count": 3,
     "metadata": {},
     "output_type": "execute_result"
    }
   ],
   "source": [
    "import pickle\n",
    "\n",
    "with open(f\"embeds/hla_v0819_embeds.pkl\", \"rb\") as f:\n",
    "    data_dict = pickle.load(f)\n",
    "    hla_df = data_dict[\"protein_df\"]\n",
    "    hla_embeds = data_dict[\"embeds\"]\n",
    "\n",
    "hla_df"
   ],
   "metadata": {
    "collapsed": false
   }
  },
  {
   "cell_type": "code",
   "execution_count": 4,
   "outputs": [
    {
     "data": {
      "text/plain": "['A30_01',\n 'A03_01',\n 'A11_01',\n 'A03_02',\n 'A11_02',\n 'A74_01',\n 'A31_01',\n 'A34_02',\n 'A33_01',\n 'A33_03',\n 'A68_01',\n 'A34_01',\n 'A66_01']"
     },
     "execution_count": 4,
     "metadata": {},
     "output_type": "execute_result"
    }
   ],
   "source": [
    "test_align_fasta_dict = {}\n",
    "allele_list = []\n",
    "candidate_cluster = [0]\n",
    "for i in candidate_cluster:\n",
    "    cluster_alleles = cluster_df.loc[i, \"alleles\"].split(\";\")\n",
    "    for j in range(len(cluster_alleles)):\n",
    "        if \"A\" not in cluster_alleles[j]:\n",
    "            continue\n",
    "        test_align_fasta_dict[cluster_alleles[j]] = \"\"\n",
    "        tmp_df = hla_df[hla_df[\"allele\"] == cluster_alleles[j]].copy()\n",
    "        longest_idx = -1\n",
    "        longest_len = 0\n",
    "        for k in range(tmp_df.shape[0]):\n",
    "            if len(tmp_df.iloc[k, 0]) > longest_len:\n",
    "                longest_idx = k\n",
    "                longest_len = len(tmp_df.iloc[k, 0])\n",
    "        test_align_fasta_dict[cluster_alleles[j]] = tmp_df.iloc[longest_idx, 0]\n",
    "        allele_list.append(cluster_alleles[j])\n",
    "allele_list"
   ],
   "metadata": {
    "collapsed": false
   }
  },
  {
   "cell_type": "code",
   "execution_count": 5,
   "outputs": [],
   "source": [
    "from fennet.mhc.mhc_binding_model import *\n",
    "from fennet.mhc.mhc_binding_retriever import MHCBindingRetriever\n",
    "\n",
    "hla_model_pt = \"HLA_model_v0819.pt\"\n",
    "pept_model_pt = \"pept_model_v0819.pt\"\n",
    "\n",
    "pept_encoder = ModelSeqEncoder().to(\"cpu\")\n",
    "hla_encoder = ModelHlaEncoder().to(\"cpu\")\n",
    "hla_encoder.load_state_dict(torch.load(f\"../../models/{hla_model_pt}\", map_location=\"cpu\"))\n",
    "pept_encoder.load_state_dict(torch.load(f\"../../models/{pept_model_pt}\", map_location=\"cpu\"))\n",
    "\n",
    "fasta_list = [\"uniprotkb_UP000005640_AND_reviewed_true_2024_03_01.fasta\"]\n",
    "\n",
    "retriever = MHCBindingRetriever(\n",
    "    hla_encoder, pept_encoder, hla_df, hla_embeds,\n",
    "    fasta_list\n",
    ")\n"
   ],
   "metadata": {
    "collapsed": false
   }
  },
  {
   "cell_type": "code",
   "source": [
    "allele_list = cluster_df.loc[0, \"alleles\"].split(\";\")\n",
    "mean_embeds = get_mean_embeds(allele_list)\n",
    "dist = retriever.get_embedding_distances(hla_embeds, [mean_embeds])\n",
    "dist = dist.squeeze()"
   ],
   "metadata": {
    "collapsed": false
   },
   "outputs": [],
   "execution_count": null
  },
  {
   "cell_type": "code",
   "execution_count": 7,
   "outputs": [
    {
     "data": {
      "text/plain": "                                                sequence    allele  \\\n12817  SHSMRYFTTSVSRPGRGEPRFIAVGYVDDTQFVRFYSDAASQRMEP...   A31_217   \n2400   MAVMAPRTLVLLLSGALALTQTWAGSHSMRYFYTSVSRPGRGEPRF...   A68_175   \n1234   MAVMAPRTLLLLLSGALALTQTWAGSHSMRYFYTSVSRPGRGEPRF...  A11_310N   \n3      APRTLLLLLSGALALTQTWAGSHSMRYFYTSVSRPGRGEPRFIAVG...    A03_12   \n15822  SHSMRYFYTSVSRPGRGEPRFIAVGYVDDTQFVRFDSDAASQRMEP...    A66_06   \n15339  SHSMRYFYTSASRPGRGEPRFIAVGYVDDTQFVRFDSDAASQRMEP...   A11_260   \n874    MAVMAPRTLLLLLSGALALTQTWAGSHSMRYFFTSVSRPGRGEPRF...  A03_357N   \n10799  SHSMRYFFTSVSRPGRGEPRFIAVGYVDDTQFVRFDSDAASQRMEP...    A03_32   \n62     MAPRTLLLLLSGALALTQTWAGSHSMRYFFTSVSRPGRGEPRFIAV...   A03_350   \n9357   SHSMGYFYTSVSRPGRGEPRFIAVGYVDDTQFVRFDSDAASQRMEP...   A11_200   \n\n      allele_detail  hla_id  \n12817      A*31:217   12817  \n2400    A*68:175:01    2400  \n1234      A*11:310N    1234  \n3           A*03:12       3  \n15822       A*66:06   15822  \n15339      A*11:260   15339  \n874       A*03:357N     874  \n10799       A*03:32   10799  \n62         A*03:350      62  \n9357       A*11:200    9357  ",
      "text/html": "<div>\n<style scoped>\n    .dataframe tbody tr th:only-of-type {\n        vertical-align: middle;\n    }\n\n    .dataframe tbody tr th {\n        vertical-align: top;\n    }\n\n    .dataframe thead th {\n        text-align: right;\n    }\n</style>\n<table border=\"1\" class=\"dataframe\">\n  <thead>\n    <tr style=\"text-align: right;\">\n      <th></th>\n      <th>sequence</th>\n      <th>allele</th>\n      <th>allele_detail</th>\n      <th>hla_id</th>\n    </tr>\n  </thead>\n  <tbody>\n    <tr>\n      <th>12817</th>\n      <td>SHSMRYFTTSVSRPGRGEPRFIAVGYVDDTQFVRFYSDAASQRMEP...</td>\n      <td>A31_217</td>\n      <td>A*31:217</td>\n      <td>12817</td>\n    </tr>\n    <tr>\n      <th>2400</th>\n      <td>MAVMAPRTLVLLLSGALALTQTWAGSHSMRYFYTSVSRPGRGEPRF...</td>\n      <td>A68_175</td>\n      <td>A*68:175:01</td>\n      <td>2400</td>\n    </tr>\n    <tr>\n      <th>1234</th>\n      <td>MAVMAPRTLLLLLSGALALTQTWAGSHSMRYFYTSVSRPGRGEPRF...</td>\n      <td>A11_310N</td>\n      <td>A*11:310N</td>\n      <td>1234</td>\n    </tr>\n    <tr>\n      <th>3</th>\n      <td>APRTLLLLLSGALALTQTWAGSHSMRYFYTSVSRPGRGEPRFIAVG...</td>\n      <td>A03_12</td>\n      <td>A*03:12</td>\n      <td>3</td>\n    </tr>\n    <tr>\n      <th>15822</th>\n      <td>SHSMRYFYTSVSRPGRGEPRFIAVGYVDDTQFVRFDSDAASQRMEP...</td>\n      <td>A66_06</td>\n      <td>A*66:06</td>\n      <td>15822</td>\n    </tr>\n    <tr>\n      <th>15339</th>\n      <td>SHSMRYFYTSASRPGRGEPRFIAVGYVDDTQFVRFDSDAASQRMEP...</td>\n      <td>A11_260</td>\n      <td>A*11:260</td>\n      <td>15339</td>\n    </tr>\n    <tr>\n      <th>874</th>\n      <td>MAVMAPRTLLLLLSGALALTQTWAGSHSMRYFFTSVSRPGRGEPRF...</td>\n      <td>A03_357N</td>\n      <td>A*03:357N</td>\n      <td>874</td>\n    </tr>\n    <tr>\n      <th>10799</th>\n      <td>SHSMRYFFTSVSRPGRGEPRFIAVGYVDDTQFVRFDSDAASQRMEP...</td>\n      <td>A03_32</td>\n      <td>A*03:32</td>\n      <td>10799</td>\n    </tr>\n    <tr>\n      <th>62</th>\n      <td>MAPRTLLLLLSGALALTQTWAGSHSMRYFFTSVSRPGRGEPRFIAV...</td>\n      <td>A03_350</td>\n      <td>A*03:350</td>\n      <td>62</td>\n    </tr>\n    <tr>\n      <th>9357</th>\n      <td>SHSMGYFYTSVSRPGRGEPRFIAVGYVDDTQFVRFDSDAASQRMEP...</td>\n      <td>A11_200</td>\n      <td>A*11:200</td>\n      <td>9357</td>\n    </tr>\n  </tbody>\n</table>\n</div>"
     },
     "execution_count": 7,
     "metadata": {},
     "output_type": "execute_result"
    }
   ],
   "source": [
    "top_ten_indices = np.argpartition(dist, 10)[:10]\n",
    "top_ten_indices = top_ten_indices.tolist()\n",
    "return_df = hla_df.iloc[top_ten_indices,:].copy()\n",
    "return_df"
   ],
   "metadata": {
    "collapsed": false
   }
  },
  {
   "cell_type": "code",
   "execution_count": 8,
   "outputs": [],
   "source": [
    "for i in range(return_df.shape[0]):\n",
    "    tmp_allele = return_df.iloc[i, 1]\n",
    "    if tmp_allele in test_align_fasta_dict:\n",
    "        continue\n",
    "    else:\n",
    "        test_align_fasta_dict[tmp_allele] = \"\"\n",
    "        tmp_df = return_df[return_df[\"allele\"] == tmp_allele].copy()\n",
    "        longest_idx = -1\n",
    "        longest_len = 0\n",
    "        for k in range(tmp_df.shape[0]):\n",
    "            if len(tmp_df.iloc[k, 0]) > longest_len:\n",
    "                longest_idx = k\n",
    "                longest_len = len(tmp_df.iloc[k, 0])\n",
    "        test_align_fasta_dict[tmp_allele] = tmp_df.iloc[longest_idx, 0]"
   ],
   "metadata": {
    "collapsed": false
   }
  },
  {
   "cell_type": "code",
   "execution_count": 9,
   "outputs": [
    {
     "data": {
      "text/plain": "{'A30_01': 'MAVMAPRTLLLLLSGALALTQTWAGSHSMRYFSTSVSRPGSGEPRFIAVGYVDDTQFVRFDSDAASQRMEPRAPWIEQERPEYWDQETRNVKAQSQTDRVDLGTLRGYYNQSEAGSHTIQIMYGCDVGSDGRFLRGYEQHAYDGKDYIALNEDLRSWTAADMAAQITQRKWEAARWAEQLRAYLEGTCVEWLRRYLENGKETLQRTDPPKTHMTHHPISDHEATLRCWALGFYPAEITLTWQRDGEDQTQDTELVETRPAGDGTFQKWAAVVVPSGEEQRYTCHVQHEGLPKPLTLRWELSSQPTIPIVGIIAGLVLLGAVITGAVVAAVMWRRKSSDRKGGSYTQAASSDSAQGSDVSLTACKV',\n 'A03_01': 'MAVMAPRTLLLLLSGALALTQTWAGSHSMRYFFTSVSRPGRGEPRFIAVGYVDDTQFVRFDSDAASQRMEPRAPWIEQEGPEYWDQETRNVKAQSQTDRVDLGTLRGYYNQSEAGSHTIQIMYGCDVGSDGRFLRGYRQDAYDGKDYIALNEDLRSWTAADMAAQITKRKWEAAHEAEQLRAYLDGTCVEWLRRYLENGKETLQRTDPPKTHMTHHPISDHEATLRCWALGFYPAEITLTWQRDGEDQTQDTELVETRPAGDGTFQKWAAVVVPSGEEQRYTCHVQHEGLPKPLTLRWELSSQPTIPIVGIIAGLVLLGAVITGAVVAAVMWRRKSSDRKGGSYTQAASSDSAQGSDVSLTACKV',\n 'A11_01': 'MAVMAPRTLLLLLSGALALTQTWAGSHSMRYFYTSVSRPGRGEPRFIAVGYVDDTQFVRFDSDAASQRMEPRAPWIEQEGPEYWDQETRNVKAQSQTDRVDLGTLRGYYNQSEDGSHTIQIMYGCDVGPDGRFLRGYRQDAYDGKDYIALNEDLRSWTAADMAAQITKRKWEAAHAAEQQRAYLEGRCVEWLRRYLENGKETLQRTDPPKTHMTHHPISDHEATLRCWALGFYPAEITLTWQRDGEDQTQDTELVETRPAGDGTFQKWAAVVVPSGEEQRYTCHVQHEGLPKPLTLRWELSSQPTIPIVGIIAGLVLLGAVITGAVVAAVMWRRKSSDRKGGSYTQAASSDSAQGSDVSLTACKV',\n 'A03_02': 'MAVMAPRTLLLLLSGALALTQTWAGSHSMRYFFTSVSRPGRGEPRFIAVGYVDDTQFVRFDSDAASQRMEPRAPWIEQEGPEYWDQETRNVKAQSQTDRVDLGTLRGYYNQSEAGSHTIQIMYGCDVGSDGRFLRGYRQDAYDGKDYIALNEDLRSWTAADMAAQITKRKWEAAHVAEQQRAYLDGTCVEWLRRYLENGKETLQRTDPPKTHMTHHPISDHEATLRCWALGFYPAEITLTWQRDGEDQTQDTELVETRPAGDGTFQKWAAVVVPSGEEQRYTCHVQHEGLPKPLTLRWELSSQPTIPIVGIIAGLVLLGAVITGAVVAAVMWRRKSSDRKGGSYTQAASSDSAQGSDVSLTACKV',\n 'A11_02': 'MAVMAPRTLLLLLSGALALTQTWAGSHSMRYFYTSVSRPGRGKPRFIAVGYVDDTQFVRFDSDAASQRMEPRAPWIEQEGPEYWDQETRNVKAQSQTDRVDLGTLRGYYNQSEDGSHTIQIMYGCDVGPDGRFLRGYRQDAYDGKDYIALNEDLRSWTAADMAAQITKRKWEAAHAAEQQRAYLEGRCVEWLRRYLENGKETLQRTDPPKTHMTHHPISDHEATLRCWALGFYPAEITLTWQRDGEDQTQDTELVETRPAGDGTFQKWAAVVVPSGEEQRYTCHVQHEGLPKPLTLRWELSSQPTIPIVGIIAGLVLLGAVITGAVVAAVMWRRKSSDRKGGSYTQAASSDSAQGSDVSLTACKV',\n 'A74_01': 'MAVMAPRTLLLLLLGALALTQTRAGSHSMRYFFTSVSRPGRGEPRFIAVGYVDDTQFVRFDSDAASQRMEPRAPWIEQEGPEYWDQETRNVKAHSQTDRVDLGTLRGYYNQSEAGSHTIQMMYGCDVGPDGRLLRGYQQDAYDGKDYIALNEDLRSWTAADMAAQITQRKWEAARVAEQLRAYLEGTCVEWLRRYLENGKETLQRTDAPKTHMTHHAVSDHEATLRCWALSFYPAEITLTWQRDGEDQTQDTELVETRPAGDGTFQKWASVVVPSGQEQRYTCHVQHEGLPKPLTLRWEPSSQPTIPIVGIIAGLVLFGAMFAGAVVAAVRWRRKSSDRKGGSYSQAASSDSAQGSDMSLTACKV',\n 'A31_01': 'MAVMAPRTLLLLLLGALALTQTWAGSHSMRYFTTSVSRPGRGEPRFIAVGYVDDTQFVRFDSDAASQRMEPRAPWIEQERPEYWDQETRNVKAHSQIDRVDLGTLRGYYNQSEAGSHTIQMMYGCDVGSDGRFLRGYQQDAYDGKDYIALNEDLRSWTAADMAAQITQRKWEAARVAEQLRAYLEGTCVEWLRRYLENGKETLQRTDPPKTHMTHHAVSDHEATLRCWALSFYPAEITLTWQRDGEDQTQDTELVETRPAGDGTFQKWASVVVPSGQEQRYTCHVQHEGLPKPLTLRWEPSSQPTIPIVGIIAGLVLFGAVFAGAVVAAVRWRRKSSDRKGGSYSQAASSDSAQGSDMSLTACKV',\n 'A34_02': 'MAVMAPRTLVLLLSGALALTQTWAGSHSMRYFYTSVSRPGRGEPRFIAVGYVDDTQFVRFDSDAASQRMEPRAPWIEQEGPEYWDRNTRNVKAQSQTDRVDLGTLRGYYNQSEDGSHTIQIMYGCDVGSDGRFLRGYRQDAYDGKDYIALNEDLRSWTAADMAAQITQRKWETAHEAEQLRAYLEGTCVEWLRRYLENGKETLQRTDAPKTHMTHHAVSDHEATLRCWALSFYPAEITLTWQRDGEDQTQDTELVETRPAGDGTFQKWASVVVPSGQEQRYTCHVQHEGLPKPLTLRWEPSSQPTIPIVGIIAGLVLFGAVIAGAVVAAVMWRRKSSDRKGGSYSQAASSDSAQGSDMSLTACKV',\n 'A33_01': 'MAVMAPRTLLLLLLGALALTQTWAGSHSMRYFTTSVSRPGRGEPRFIAVGYVDDTQFVRFDSDAASQRMEPRAPWIEQEGPEYWDRNTRNVKAHSQIDRVDLGTLRGYYNQSEAGSHTIQMMYGCDVGSDGRFLRGYQQDAYDGKDYIALNEDLRSWTAADMAAQITQRKWEAARVAEQLRAYLEGTCVEWLRRHLENGKETLQRTDPPRTHMTHHAVSDHEATLRCWALSFYPAEITLTWQRDGEDQTQDTELVETRPAGDGTFQKWASVVVPSGQEQRYTCHVQHEGLPKPLTLRWEPSSQPTIPIVGIIAGLVLFGAVFAGAVVAAVRWRRKSSDRKGGSYSQAASSDSAQGSDMSLTACKV',\n 'A33_03': 'MAVMAPRTLLLLLLGALALTQTWAGSHSMRYFTTSVSRPGRGEPRFIAVGYVDDTQFVRFDSDAASQRMEPRAPWIEQEGPEYWDRNTRNVKAHSQIDRVDLGTLRGYYNQSEAGSHTIQMMYGCDVGSDGRFLRGYQQDAYDGKDYIALNEDLRSWTAADMAAQITQRKWEAARVAEQLRAYLEGTCVEWLRRYLENGKETLQRTDPPKTHMTHHAVSDHEATLRCWALSFYPAEITLTWQRDGEDQTQDTELVETRPAGDGTFQKWASVVVPSGQEQRYTCHVQHEGLPKPLTLRWEPSSQPTIPIVGIIAGLVLFGAVFAGAVVAAVRWRRKSSDRKGGSYSQAASSDSAQGSDMSLTACKV',\n 'A68_01': 'MAVMAPRTLVLLLSGALALTQTWAGSHSMRYFYTSVSRPGRGEPRFIAVGYVDDTQFVRFDSDAASQRMEPRAPWIEQEGPEYWDRNTRNVKAQSQTDRVDLGTLRGYYNQSEAGSHTIQMMYGCDVGSDGRFLRGYRQDAYDGKDYIALKEDLRSWTAADMAAQTTKHKWEAAHVAEQWRAYLEGTCVEWLRRYLENGKETLQRTDAPKTHMTHHAVSDHEATLRCWALSFYPAEITLTWQRDGEDQTQDTELVETRPAGDGTFQKWVAVVVPSGQEQRYTCHVQHEGLPKPLTLRWEPSSQPTIPIVGIIAGLVLFGAVITGAVVAAVMWRRKSSDRKGGSYSQAASSDSAQGSDVSLTACKV',\n 'A34_01': 'MAIMAPRTLVLLLSGALALTQTWAGSHSMRYFYTSVSRPGRGEPRFIAVGYVDDTQFVRFDSDAASQRMEPRAPWIEQEGPEYWDRNTRKVKAQSQTDRVDLGTLRGYYNQSEDGSHTIQRMYGCDVGPDGRFLRGYQQDAYDGKDYIALNEDLRSWTAADMAAQITQRKWETAHEAEQWRAYLEGTCVEWLRRYLENGKETLQRTDAPKTHMTHHAVSDHEATLRCWALSFYPAEITLTWQRDGEDQTQDTELVETRPAGDGTFQKWASVVVPSGQEQRYTCHVQHEGLPKPLTLRWEPSSQPTIPIVGILAGLVLFGAVIAGAVVAAVMWRRKSSDRKGGSYSQAASSDSAQGSDMSLTACKV',\n 'A66_01': 'MAVMAPRTLVLLLSGALALTQTWAGSHSMRYFYTSVSRPGRGEPRFIAVGYVDDTQFVRFDSDAASQRMEPRAPWIEQEGPEYWDRNTRNVKAQSQTDRVDLGTLRGYYNQSEDGSHTIQRMYGCDVGPDGRFLRGYQQDAYDGKDYIALNEDLRSWTAADMAAQITQRKWETAHEAEQWRAYLEGRCVEWLRRYLENGKETLQRTDAPKTHMTHHAVSDHEATLRCWALSFYPAEITLTWQRDGEDQTQDTELVETRPAGDGTFQKWASVVVPSGQEQRYTCHVQHEGLPKPLTLRWEPSSQPTIPIVGIIAGLVLFGAVIAGAVVAAVMWRRKSSDRKGGSYSQAASSDSAQGSDMSLTACKV',\n 'A31_217': 'SHSMRYFTTSVSRPGRGEPRFIAVGYVDDTQFVRFYSDAASQRMEPRAPWIEQERPEYWDQETRNVKAHSQIDRVDLGTLRGYYNQSEAGSHTIQMMYGCDVGSDGRFLRGYQQDAYDGKDYIALNEDLRSWTAADMAAQITQRKWEAARVAEQLRAYLEGTCVEWLRRYLENGKETLQRT',\n 'A68_175': 'MAVMAPRTLVLLLSGALALTQTWAGSHSMRYFYTSVSRPGRGEPRFIAVGYVDDTQFVRFDSDAASQRMEPRALWIEQEGPEYWDRNTRNVKAQSQTDRVDLGTLRGYYNQSEAGSHTIQMMYGCDVGSDGRFLRGYRQDAYDGKDYIALKEDLRSWTAADMAAQTTKHKWEAAHVAEQWRAYLEGTCVEWLRRYLENGKETLQRTDAPKTHMTHHAVSDHEATLRCWALSFYPAEITLTWQRDGEDQTQDTELVETRPAGDGTFQKWVAVVVPSGQEQRYTCHVQHEGLPKPLTLRWEPSSQPTIPIVGIIAGLVLFGAVITGAVVAAVMWRRKSSDRKGGSYSQAASSDSAQGSDVSLTACKV',\n 'A11_310N': 'MAVMAPRTLLLLLSGALALTQTWAGSHSMRYFYTSVSRPGRGEPRFIAVGYVDDTQFVRFDSDAASQRMEPRAPWIEQEGPEYWDQETRNVKAQSQTDRVDLGTLRGYYNQSEDGSHTIQIMYGCDVGPDGRFLRGYRQDAYDGKDYIALNEDLRSWTAADMAAQITKRKWEAAHAAEQQRATWRAGAWSGSADTWRTGRRRCSARTPPRHIX',\n 'A03_12': 'APRTLLLLLSGALALTQTWAGSHSMRYFYTSVSRPGRGEPRFIAVGYVDDTQFVRFDSDAASQRMEPRAPWIEQEGPEYWDQETRNVKAQSQTDRVDLGTLRGYYNQSEAGSHTIQIMYGCDVGSDGRFLRGYRQDAYDGKDYIALNEDLRSWTAADMAAQITKRKWEAAHEAEQLRAYLDGTCVEWLRRYLENGKETLQRTDPPKTHMTHHPISDHEATLRCWALGFYPAEITLTWQRDGEDQTQDTELVETRPAGDGTFQKWAAVVVPSGEEQRYTCHVQHEGLPKPLTLRWELSSQPTIPIVGIIAGLVLLGAVI',\n 'A66_06': 'SHSMRYFYTSVSRPGRGEPRFIAVGYVDDTQFVRFDSDAASQRMEPRAPWIEQEGPEYWDRNTRNVKAQSQTDRVDLGTLRGYYNQSEDGSHTIQRMYGCDVGPDGRFLRGYQQDAYDGKDYIALNEDLRSWTAADMAAQITQRKWETAHVAEQLRAYLEGRCVEWLRRYLENGKETLQRT',\n 'A11_260': 'SHSMRYFYTSASRPGRGEPRFIAVGYVDDTQFVRFDSDAASQRMEPRAPWIEQEGPEYWDQETRNVKAQSQTDRVDLGTLRGYYNQSEDGSHTIQIMYGCDVGPDGRFLRGYRQDAYDGKDYIALNEDLRSWTAADMAAQITKRKWEAAHAAEQQRAYLEGRCVEWLRRYLENGKETLQRT',\n 'A03_357N': 'MAVMAPRTLLLLLSGALALTQTWAGSHSMRYFFTSVSRPGRGEPRFIAVGYVDDTQFVRFDSDAASQRMEPRAPWIEQEGPEYWDQETRNVKAQSQTDRVDLGTLRGYYNQSEAGSHTIQIMYGCDVGSDGRFLRGYRQDAYDGKDYIALNEDLRSWTAADMAAQITKRKLGGGPX',\n 'A03_32': 'SHSMRYFFTSVSRPGRGEPRFIAVGYVDDTQFVRFDSDAASQRMEPRAPWIEQEGPEYWDQETRNVKAHSQIDRVDLGTLRGYYNQSEAGSHTIQIMYGCDVGSDGRFLRGYRQDAYDGKDYIALNEDLRSWTAADMAAQITKRKWEAAHVAEQQRAYLDGTCVEWLRRYLENGKETLQRT',\n 'A03_350': 'MAPRTLLLLLSGALALTQTWAGSHSMRYFFTSVSRPGRGEPRFIAVGYVDDTQFVRFDSDAASQRMEPRAPWIEQEGPEYWDQETRNVKAQSQTDRVDLGTLRGYYNQSEAGSHTIQIMYGCDVGSDGRFLRGYRQDAYDGKDYIALNEDLRSWTAADMAAQITKRKWEAAHEAEQLRAYLDGTCVEWLRRYLENGKETLQRTDPPKTHMTHHPISDHEATLRCWALGFYPAEITLTWQRDGEDQTQDTELVETRPAGDGTFQKWAAVVVPSGEEQRYTCHVQHEGLPKPLTLRWELSSQPTIPIVGIIAGLVLLGAVITGAVVAAVMWRRKSSDRKGGSYTQAASSDSAQGSDVSLTACKV',\n 'A11_200': 'SHSMGYFYTSVSRPGRGEPRFIAVGYVDDTQFVRFDSDAASQRMEPRAPWIEQEGPEYWDQETRNVKAQSQTDRVDLGTLRGYYNQSEDGSHTIQIMYGCDVGPDGRFLRGYRQDAYDGKDYIALNEDLRSWTAADMAAQITKRKWEAAHAAEQQRAYLEGRCVEWLRRYLENGKETLQRT',\n 'A32_01': 'MAVMAPRTLLLLLLGALALTQTWAGSHSMRYFFTSVSRPGRGEPRFIAVGYVDDTQFVRFDSDAASQRMEPRAPWIEQEGPEYWDQETRNVKAHSQTDRESLRIALRYYNQSEAGSHTIQMMYGCDVGPDGRLLRGYQQDAYDGKDYIALNEDLRSWTAADMAAQITQRKWEAARVAEQLRAYLEGTCVEWLRRYLENGKETLQRTDAPKTHMTHHAVSDHEATLRCWALSFYPAEITLTWQRDGEDQTQDTELVETRPAGDGTFQKWASVVVPSGQEQRYTCHVQHEGLPKPLTLRWEPSSQPTIPIVGIIAGLVLFGAMFAGAVVAAVRWRRKSSDRKGGSYSQAASSDSAQGSDMSLTACKV',\n 'A80_01': 'MAVMPPRTLLLLLSGALALTQTWAGSHSMRYFFTSVSRPGRGEPRFIAVGYVDDSQFVQFDSDAASQRMEPRAPWIEQEEPEYWDEETRNVKAHSQTNRANLGTLRGYYNQSEDGSHTIQIMYGCDVGSDGRFLRGYRQDAYDGKDYIALNEDLRSWTAADMAAQITKRKWEAARRAEQLRAYLEGECVDGLRRYLENGKETLQRTDPPKTHMTHHPISDHEATLRCWALSFYPAEITLTWQRDGEDQTQDTELVETRPAGDGTFQKWAAVVVPSGKEKRYTCHVQHEGLPEPLTLRWEPSSQPTIPIVGIIAGLVLLGAVIAGAVVAAVMWRKKSSVRKGGSYSQAASSDSAQGSDVSLTACKV',\n 'A02_07': 'MAVMAPRTLVLLLSGALALTQTWAGSHSMRYFFTSVSRPGRGEPRFIAVGYVDDTQFVRFDSDAASQRMEPRAPWIEQEGPEYWDGETRKVKAHSQTHRVDLGTLRGYYNQSEAGSHTVQRMCGCDVGSDWRFLRGYHQYAYDGKDYIALKEDLRSWTAADMAAQTTKHKWEAAHVAEQLRAYLEGTCVEWLRRYLENGKETLQRTDAPKTHMTHHAVSDHEATLRCWALSFYPAEITLTWQRDGEDQTQDTELVETRPAGDGTFQKWAAVVVPSGQEQRYTCHVQHEGLPKPLTLRWEPSSQPTIPIVGIIAGLVLFGAVITGAVVAAVMWRRKSSDRKGGSYSQAASSDSAQGSDVSLTACKV',\n 'A24_02': 'MAVMAPRTLVLLLSGALALTQTWAGSHSMRYFSTSVSRPGRGEPRFIAVGYVDDTQFVRFDSDAASQRMEPRAPWIEQEGPEYWDEETGKVKAHSQTDRENLRIALRYYNQSEAGSHTLQMMFGCDVGSDGRFLRGYHQYAYDGKDYIALKEDLRSWTAADMAAQITKRKWEAAHVAEQQRAYLEGTCVDGLRRYLENGKETLQRTDPPKTHMTHHPISDHEATLRCWALGFYPAEITLTWQRDGEDQTQDTELVETRPAGDGTFQKWAAVVVPSGEEQRYTCHVQHEGLPKPLTLRWEPSSQPTVPIVGIIAGLVLLGAVITGAVVAAVMWRRNSSDRKGGSYSQAASSDSAQGSDVSLTACKV'}"
     },
     "execution_count": 9,
     "metadata": {},
     "output_type": "execute_result"
    }
   ],
   "source": [
    "import random\n",
    "random.seed(1314)\n",
    "\n",
    "for i in range(cluster_df.shape[0]):\n",
    "    if i in candidate_cluster:\n",
    "        continue\n",
    "    cluster_alleles = cluster_df.loc[i, \"alleles\"].split(\";\")\n",
    "    random_choose_flag = False\n",
    "    for j in range(len(cluster_alleles)):\n",
    "        if \"A\" in cluster_alleles[j]:\n",
    "            random_choose_flag = True\n",
    "            break\n",
    "    if random_choose_flag:\n",
    "        while True:\n",
    "            selected_alleles = random.choice(cluster_alleles)\n",
    "            if \"A\" in selected_alleles:\n",
    "                break\n",
    "    else:\n",
    "        continue\n",
    "\n",
    "    test_align_fasta_dict[selected_alleles] = \"\"\n",
    "    tmp_df = hla_df[hla_df[\"allele\"] == selected_alleles].copy()\n",
    "    longest_idx = -1\n",
    "    longest_len = 0\n",
    "    for k in range(tmp_df.shape[0]):\n",
    "        if len(tmp_df.iloc[k, 0]) > longest_len:\n",
    "            longest_idx = k\n",
    "            longest_len = len(tmp_df.iloc[k, 0])\n",
    "    test_align_fasta_dict[selected_alleles] = tmp_df.iloc[longest_idx, 0]\n",
    "\n",
    "test_align_fasta_dict"
   ],
   "metadata": {
    "collapsed": false
   }
  },
  {
   "cell_type": "code",
   "execution_count": 10,
   "outputs": [],
   "source": [
    "f = open(\"data/cluster1_HLA_A_combined_multi_seq.fasta\", \"w\")\n",
    "for key in test_align_fasta_dict.keys():\n",
    "    f.write(f\">{key}\\n\")\n",
    "    f.write(f\"{test_align_fasta_dict[key]}\\n\")\n",
    "f.close()"
   ],
   "metadata": {
    "collapsed": false
   }
  },
  {
   "cell_type": "code",
   "execution_count": null,
   "outputs": [],
   "source": [],
   "metadata": {
    "collapsed": false
   }
  }
 ],
 "metadata": {
  "kernelspec": {
   "display_name": "Python 3",
   "language": "python",
   "name": "python3"
  },
  "language_info": {
   "codemirror_mode": {
    "name": "ipython",
    "version": 2
   },
   "file_extension": ".py",
   "mimetype": "text/x-python",
   "name": "python",
   "nbconvert_exporter": "python",
   "pygments_lexer": "ipython2",
   "version": "2.7.6"
  }
 },
 "nbformat": 4,
 "nbformat_minor": 0
}
